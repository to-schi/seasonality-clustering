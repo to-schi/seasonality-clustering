{
 "cells": [
  {
   "cell_type": "markdown",
   "metadata": {},
   "source": [
    "# Task: Extract and visualize the Seasonal patterns out of the data\n",
    "## Data: Monthly \"page impressions\" and \"conversion rate\" of 100 e-Commerce product categories (100 csv-files)"
   ]
  },
  {
   "cell_type": "markdown",
   "metadata": {},
   "source": [
    "---"
   ]
  },
  {
   "cell_type": "markdown",
   "metadata": {},
   "source": [
    "# EDA"
   ]
  },
  {
   "cell_type": "code",
   "execution_count": 2,
   "metadata": {},
   "outputs": [],
   "source": [
    "import pandas as pd\n",
    "import plotly.express as px\n",
    "import plotly.graph_objects as go\n",
    "from plotly.subplots import make_subplots\n",
    "import numpy as np\n",
    "import plotly.graph_objects as go\n",
    "from plotly.subplots import make_subplots\n",
    "from tslearn.clustering import TimeSeriesKMeans, KShape, KernelKMeans\n",
    "from tslearn.clustering import silhouette_score as ts_silhouette_score\n",
    "from sklearn.metrics import silhouette_score"
   ]
  },
  {
   "cell_type": "markdown",
   "metadata": {},
   "source": [
    "### Loading the data"
   ]
  },
  {
   "cell_type": "code",
   "execution_count": 3,
   "metadata": {},
   "outputs": [
    {
     "data": {
      "text/html": [
       "<div>\n",
       "<style scoped>\n",
       "    .dataframe tbody tr th:only-of-type {\n",
       "        vertical-align: middle;\n",
       "    }\n",
       "\n",
       "    .dataframe tbody tr th {\n",
       "        vertical-align: top;\n",
       "    }\n",
       "\n",
       "    .dataframe thead th {\n",
       "        text-align: right;\n",
       "    }\n",
       "</style>\n",
       "<table border=\"1\" class=\"dataframe\">\n",
       "  <thead>\n",
       "    <tr style=\"text-align: right;\">\n",
       "      <th></th>\n",
       "      <th>category</th>\n",
       "      <th>month</th>\n",
       "      <th>pageimpressions</th>\n",
       "      <th>CR</th>\n",
       "      <th>cat_id</th>\n",
       "    </tr>\n",
       "  </thead>\n",
       "  <tbody>\n",
       "    <tr>\n",
       "      <th>0</th>\n",
       "      <td>Herren-Halbschuhe</td>\n",
       "      <td>1.0</td>\n",
       "      <td>86496.0</td>\n",
       "      <td>0.239572</td>\n",
       "      <td>1</td>\n",
       "    </tr>\n",
       "    <tr>\n",
       "      <th>1</th>\n",
       "      <td>Herren-Halbschuhe</td>\n",
       "      <td>2.0</td>\n",
       "      <td>75529.0</td>\n",
       "      <td>0.240967</td>\n",
       "      <td>1</td>\n",
       "    </tr>\n",
       "    <tr>\n",
       "      <th>2</th>\n",
       "      <td>Herren-Halbschuhe</td>\n",
       "      <td>3.0</td>\n",
       "      <td>NaN</td>\n",
       "      <td>0.232252</td>\n",
       "      <td>1</td>\n",
       "    </tr>\n",
       "    <tr>\n",
       "      <th>3</th>\n",
       "      <td>Herren-Halbschuhe</td>\n",
       "      <td>4.0</td>\n",
       "      <td>92861.0</td>\n",
       "      <td>0.226737</td>\n",
       "      <td>1</td>\n",
       "    </tr>\n",
       "    <tr>\n",
       "      <th>4</th>\n",
       "      <td>Herren-Halbschuhe</td>\n",
       "      <td>5.0</td>\n",
       "      <td>93876.0</td>\n",
       "      <td>0.244610</td>\n",
       "      <td>1</td>\n",
       "    </tr>\n",
       "    <tr>\n",
       "      <th>5</th>\n",
       "      <td>Herren-Halbschuhe</td>\n",
       "      <td>6.0</td>\n",
       "      <td>73075.0</td>\n",
       "      <td>0.209826</td>\n",
       "      <td>1</td>\n",
       "    </tr>\n",
       "    <tr>\n",
       "      <th>6</th>\n",
       "      <td>Herren-Halbschuhe</td>\n",
       "      <td>7.0</td>\n",
       "      <td>81014.0</td>\n",
       "      <td>0.205211</td>\n",
       "      <td>1</td>\n",
       "    </tr>\n",
       "    <tr>\n",
       "      <th>7</th>\n",
       "      <td>Herren-Halbschuhe</td>\n",
       "      <td>8.0</td>\n",
       "      <td>86341.0</td>\n",
       "      <td>0.210549</td>\n",
       "      <td>1</td>\n",
       "    </tr>\n",
       "    <tr>\n",
       "      <th>8</th>\n",
       "      <td>Herren-Halbschuhe</td>\n",
       "      <td>9.0</td>\n",
       "      <td>92675.0</td>\n",
       "      <td>0.219239</td>\n",
       "      <td>1</td>\n",
       "    </tr>\n",
       "    <tr>\n",
       "      <th>9</th>\n",
       "      <td>Herren-Halbschuhe</td>\n",
       "      <td>10.0</td>\n",
       "      <td>99431.0</td>\n",
       "      <td>0.221410</td>\n",
       "      <td>1</td>\n",
       "    </tr>\n",
       "    <tr>\n",
       "      <th>10</th>\n",
       "      <td>Herren-Halbschuhe</td>\n",
       "      <td>11.0</td>\n",
       "      <td>103734.0</td>\n",
       "      <td>0.225307</td>\n",
       "      <td>1</td>\n",
       "    </tr>\n",
       "    <tr>\n",
       "      <th>11</th>\n",
       "      <td>Herren-Halbschuhe</td>\n",
       "      <td>12.0</td>\n",
       "      <td>82945.0</td>\n",
       "      <td>0.217554</td>\n",
       "      <td>1</td>\n",
       "    </tr>\n",
       "    <tr>\n",
       "      <th>12</th>\n",
       "      <td>Homöopathie</td>\n",
       "      <td>1.0</td>\n",
       "      <td>103045.0</td>\n",
       "      <td>0.346955</td>\n",
       "      <td>2</td>\n",
       "    </tr>\n",
       "  </tbody>\n",
       "</table>\n",
       "</div>"
      ],
      "text/plain": [
       "             category  month  pageimpressions        CR  cat_id\n",
       "0   Herren-Halbschuhe    1.0          86496.0  0.239572       1\n",
       "1   Herren-Halbschuhe    2.0          75529.0  0.240967       1\n",
       "2   Herren-Halbschuhe    3.0              NaN  0.232252       1\n",
       "3   Herren-Halbschuhe    4.0          92861.0  0.226737       1\n",
       "4   Herren-Halbschuhe    5.0          93876.0  0.244610       1\n",
       "5   Herren-Halbschuhe    6.0          73075.0  0.209826       1\n",
       "6   Herren-Halbschuhe    7.0          81014.0  0.205211       1\n",
       "7   Herren-Halbschuhe    8.0          86341.0  0.210549       1\n",
       "8   Herren-Halbschuhe    9.0          92675.0  0.219239       1\n",
       "9   Herren-Halbschuhe   10.0          99431.0  0.221410       1\n",
       "10  Herren-Halbschuhe   11.0         103734.0  0.225307       1\n",
       "11  Herren-Halbschuhe   12.0          82945.0  0.217554       1\n",
       "12        Homöopathie    1.0         103045.0  0.346955       2"
      ]
     },
     "execution_count": 3,
     "metadata": {},
     "output_type": "execute_result"
    }
   ],
   "source": [
    "##Create a dataframe of all categories and features\n",
    "#*.csv Filenames are: \"pis_\" + a range of 1 to 100\n",
    "data = pd.read_csv(\"./data/pis_1.csv\", quoting=2)\n",
    "data[\"cat_id\"] = 1\n",
    "data.sort_values(by=[\"month\"], axis=0, ascending=True, inplace=True)\n",
    "\n",
    "for i in range(2,101):\n",
    "    add_data = pd.read_csv(f\"./data/pis_{i}.csv\", quoting=2)\n",
    "    add_data[\"cat_id\"] = i\n",
    "    add_data.sort_values(by=[\"month\"], axis=0, ascending=True, inplace=True)\n",
    "    data = pd.concat([data, add_data], ignore_index=True)\n",
    "data.columns = [\"cat_index\", \"category\", \"month\", \"year\", \"pageimpressions\", \"CR\", \"cat_id\"]\n",
    "data.drop(['cat_index', 'year'], axis=1, inplace=True)\n",
    "data.head(13)"
   ]
  },
  {
   "cell_type": "code",
   "execution_count": 4,
   "metadata": {},
   "outputs": [
    {
     "data": {
      "text/html": [
       "<div>\n",
       "<style scoped>\n",
       "    .dataframe tbody tr th:only-of-type {\n",
       "        vertical-align: middle;\n",
       "    }\n",
       "\n",
       "    .dataframe tbody tr th {\n",
       "        vertical-align: top;\n",
       "    }\n",
       "\n",
       "    .dataframe thead th {\n",
       "        text-align: right;\n",
       "    }\n",
       "</style>\n",
       "<table border=\"1\" class=\"dataframe\">\n",
       "  <thead>\n",
       "    <tr style=\"text-align: right;\">\n",
       "      <th></th>\n",
       "      <th>month</th>\n",
       "      <th>pageimpressions</th>\n",
       "      <th>CR</th>\n",
       "      <th>cat_id</th>\n",
       "    </tr>\n",
       "  </thead>\n",
       "  <tbody>\n",
       "    <tr>\n",
       "      <th>count</th>\n",
       "      <td>1200.000000</td>\n",
       "      <td>1170.000000</td>\n",
       "      <td>1200.000000</td>\n",
       "      <td>1200.000000</td>\n",
       "    </tr>\n",
       "    <tr>\n",
       "      <th>mean</th>\n",
       "      <td>6.500000</td>\n",
       "      <td>67183.402564</td>\n",
       "      <td>0.250398</td>\n",
       "      <td>50.500000</td>\n",
       "    </tr>\n",
       "    <tr>\n",
       "      <th>std</th>\n",
       "      <td>3.453492</td>\n",
       "      <td>27991.398914</td>\n",
       "      <td>0.056206</td>\n",
       "      <td>28.878105</td>\n",
       "    </tr>\n",
       "    <tr>\n",
       "      <th>min</th>\n",
       "      <td>1.000000</td>\n",
       "      <td>8404.000000</td>\n",
       "      <td>0.105283</td>\n",
       "      <td>1.000000</td>\n",
       "    </tr>\n",
       "    <tr>\n",
       "      <th>25%</th>\n",
       "      <td>3.750000</td>\n",
       "      <td>49982.000000</td>\n",
       "      <td>0.213111</td>\n",
       "      <td>25.750000</td>\n",
       "    </tr>\n",
       "    <tr>\n",
       "      <th>50%</th>\n",
       "      <td>6.500000</td>\n",
       "      <td>61557.500000</td>\n",
       "      <td>0.239441</td>\n",
       "      <td>50.500000</td>\n",
       "    </tr>\n",
       "    <tr>\n",
       "      <th>75%</th>\n",
       "      <td>9.250000</td>\n",
       "      <td>78468.250000</td>\n",
       "      <td>0.274000</td>\n",
       "      <td>75.250000</td>\n",
       "    </tr>\n",
       "    <tr>\n",
       "      <th>max</th>\n",
       "      <td>12.000000</td>\n",
       "      <td>230439.000000</td>\n",
       "      <td>0.464537</td>\n",
       "      <td>100.000000</td>\n",
       "    </tr>\n",
       "  </tbody>\n",
       "</table>\n",
       "</div>"
      ],
      "text/plain": [
       "             month  pageimpressions           CR       cat_id\n",
       "count  1200.000000      1170.000000  1200.000000  1200.000000\n",
       "mean      6.500000     67183.402564     0.250398    50.500000\n",
       "std       3.453492     27991.398914     0.056206    28.878105\n",
       "min       1.000000      8404.000000     0.105283     1.000000\n",
       "25%       3.750000     49982.000000     0.213111    25.750000\n",
       "50%       6.500000     61557.500000     0.239441    50.500000\n",
       "75%       9.250000     78468.250000     0.274000    75.250000\n",
       "max      12.000000    230439.000000     0.464537   100.000000"
      ]
     },
     "execution_count": 4,
     "metadata": {},
     "output_type": "execute_result"
    }
   ],
   "source": [
    "data.describe()"
   ]
  },
  {
   "cell_type": "code",
   "execution_count": 5,
   "metadata": {},
   "outputs": [
    {
     "name": "stdout",
     "output_type": "stream",
     "text": [
      "<class 'pandas.core.frame.DataFrame'>\n",
      "RangeIndex: 1200 entries, 0 to 1199\n",
      "Data columns (total 5 columns):\n",
      " #   Column           Non-Null Count  Dtype  \n",
      "---  ------           --------------  -----  \n",
      " 0   category         1200 non-null   object \n",
      " 1   month            1200 non-null   float64\n",
      " 2   pageimpressions  1170 non-null   float64\n",
      " 3   CR               1200 non-null   float64\n",
      " 4   cat_id           1200 non-null   int64  \n",
      "dtypes: float64(3), int64(1), object(1)\n",
      "memory usage: 47.0+ KB\n"
     ]
    }
   ],
   "source": [
    "data.info()"
   ]
  },
  {
   "cell_type": "markdown",
   "metadata": {},
   "source": [
    "Check the distribution of nan-values:"
   ]
  },
  {
   "cell_type": "code",
   "execution_count": 19,
   "metadata": {},
   "outputs": [
    {
     "data": {
      "text/html": [
       "<div>\n",
       "<style scoped>\n",
       "    .dataframe tbody tr th:only-of-type {\n",
       "        vertical-align: middle;\n",
       "    }\n",
       "\n",
       "    .dataframe tbody tr th {\n",
       "        vertical-align: top;\n",
       "    }\n",
       "\n",
       "    .dataframe thead th {\n",
       "        text-align: right;\n",
       "    }\n",
       "</style>\n",
       "<table border=\"1\" class=\"dataframe\">\n",
       "  <thead>\n",
       "    <tr style=\"text-align: right;\">\n",
       "      <th></th>\n",
       "      <th>category</th>\n",
       "      <th>month</th>\n",
       "      <th>pageimpressions</th>\n",
       "      <th>CR</th>\n",
       "      <th>cat_id</th>\n",
       "    </tr>\n",
       "  </thead>\n",
       "  <tbody>\n",
       "    <tr>\n",
       "      <th>2</th>\n",
       "      <td>Herren-Halbschuhe</td>\n",
       "      <td>3.0</td>\n",
       "      <td>NaN</td>\n",
       "      <td>0.232252</td>\n",
       "      <td>1</td>\n",
       "    </tr>\n",
       "    <tr>\n",
       "      <th>43</th>\n",
       "      <td>Magen-Darm-Medikamente</td>\n",
       "      <td>8.0</td>\n",
       "      <td>NaN</td>\n",
       "      <td>0.396409</td>\n",
       "      <td>4</td>\n",
       "    </tr>\n",
       "    <tr>\n",
       "      <th>129</th>\n",
       "      <td>Fritteusen</td>\n",
       "      <td>10.0</td>\n",
       "      <td>NaN</td>\n",
       "      <td>0.237006</td>\n",
       "      <td>11</td>\n",
       "    </tr>\n",
       "    <tr>\n",
       "      <th>192</th>\n",
       "      <td>Spülen</td>\n",
       "      <td>1.0</td>\n",
       "      <td>NaN</td>\n",
       "      <td>0.260815</td>\n",
       "      <td>17</td>\n",
       "    </tr>\n",
       "    <tr>\n",
       "      <th>201</th>\n",
       "      <td>Spülen</td>\n",
       "      <td>10.0</td>\n",
       "      <td>NaN</td>\n",
       "      <td>0.255568</td>\n",
       "      <td>17</td>\n",
       "    </tr>\n",
       "    <tr>\n",
       "      <th>205</th>\n",
       "      <td>Gartenlampen</td>\n",
       "      <td>2.0</td>\n",
       "      <td>NaN</td>\n",
       "      <td>0.273697</td>\n",
       "      <td>18</td>\n",
       "    </tr>\n",
       "    <tr>\n",
       "      <th>271</th>\n",
       "      <td>Gartenpumpen</td>\n",
       "      <td>8.0</td>\n",
       "      <td>NaN</td>\n",
       "      <td>0.249457</td>\n",
       "      <td>23</td>\n",
       "    </tr>\n",
       "    <tr>\n",
       "      <th>274</th>\n",
       "      <td>Gartenpumpen</td>\n",
       "      <td>11.0</td>\n",
       "      <td>NaN</td>\n",
       "      <td>0.253741</td>\n",
       "      <td>23</td>\n",
       "    </tr>\n",
       "    <tr>\n",
       "      <th>302</th>\n",
       "      <td>Skihelme &amp; Snowboardhelme</td>\n",
       "      <td>3.0</td>\n",
       "      <td>NaN</td>\n",
       "      <td>0.256378</td>\n",
       "      <td>26</td>\n",
       "    </tr>\n",
       "    <tr>\n",
       "      <th>382</th>\n",
       "      <td>Verstärker</td>\n",
       "      <td>11.0</td>\n",
       "      <td>NaN</td>\n",
       "      <td>0.200105</td>\n",
       "      <td>32</td>\n",
       "    </tr>\n",
       "    <tr>\n",
       "      <th>393</th>\n",
       "      <td>Gartenschläuche</td>\n",
       "      <td>10.0</td>\n",
       "      <td>NaN</td>\n",
       "      <td>0.199857</td>\n",
       "      <td>33</td>\n",
       "    </tr>\n",
       "    <tr>\n",
       "      <th>545</th>\n",
       "      <td>Kuscheltiere</td>\n",
       "      <td>6.0</td>\n",
       "      <td>NaN</td>\n",
       "      <td>0.274520</td>\n",
       "      <td>46</td>\n",
       "    </tr>\n",
       "    <tr>\n",
       "      <th>609</th>\n",
       "      <td>Xbox One Spiele</td>\n",
       "      <td>10.0</td>\n",
       "      <td>NaN</td>\n",
       "      <td>0.276625</td>\n",
       "      <td>51</td>\n",
       "    </tr>\n",
       "    <tr>\n",
       "      <th>628</th>\n",
       "      <td>Liköre</td>\n",
       "      <td>5.0</td>\n",
       "      <td>NaN</td>\n",
       "      <td>0.205346</td>\n",
       "      <td>53</td>\n",
       "    </tr>\n",
       "    <tr>\n",
       "      <th>662</th>\n",
       "      <td>Outdoor-Navigation</td>\n",
       "      <td>3.0</td>\n",
       "      <td>NaN</td>\n",
       "      <td>0.260693</td>\n",
       "      <td>56</td>\n",
       "    </tr>\n",
       "    <tr>\n",
       "      <th>685</th>\n",
       "      <td>Betriebssysteme</td>\n",
       "      <td>2.0</td>\n",
       "      <td>NaN</td>\n",
       "      <td>0.272037</td>\n",
       "      <td>58</td>\n",
       "    </tr>\n",
       "    <tr>\n",
       "      <th>731</th>\n",
       "      <td>Champagner, Sekt &amp; Prosecco</td>\n",
       "      <td>12.0</td>\n",
       "      <td>NaN</td>\n",
       "      <td>0.184130</td>\n",
       "      <td>61</td>\n",
       "    </tr>\n",
       "    <tr>\n",
       "      <th>744</th>\n",
       "      <td>Eingabestifte</td>\n",
       "      <td>1.0</td>\n",
       "      <td>NaN</td>\n",
       "      <td>0.224209</td>\n",
       "      <td>63</td>\n",
       "    </tr>\n",
       "    <tr>\n",
       "      <th>833</th>\n",
       "      <td>Motorradreifen</td>\n",
       "      <td>6.0</td>\n",
       "      <td>NaN</td>\n",
       "      <td>0.278371</td>\n",
       "      <td>70</td>\n",
       "    </tr>\n",
       "    <tr>\n",
       "      <th>885</th>\n",
       "      <td>Fahrradbeleuchtung</td>\n",
       "      <td>10.0</td>\n",
       "      <td>NaN</td>\n",
       "      <td>0.263201</td>\n",
       "      <td>74</td>\n",
       "    </tr>\n",
       "    <tr>\n",
       "      <th>955</th>\n",
       "      <td>VR-Brillen</td>\n",
       "      <td>8.0</td>\n",
       "      <td>NaN</td>\n",
       "      <td>0.189061</td>\n",
       "      <td>80</td>\n",
       "    </tr>\n",
       "    <tr>\n",
       "      <th>984</th>\n",
       "      <td>Trinkflaschen</td>\n",
       "      <td>1.0</td>\n",
       "      <td>NaN</td>\n",
       "      <td>0.247716</td>\n",
       "      <td>83</td>\n",
       "    </tr>\n",
       "    <tr>\n",
       "      <th>987</th>\n",
       "      <td>Trinkflaschen</td>\n",
       "      <td>4.0</td>\n",
       "      <td>NaN</td>\n",
       "      <td>0.245166</td>\n",
       "      <td>83</td>\n",
       "    </tr>\n",
       "    <tr>\n",
       "      <th>996</th>\n",
       "      <td>Rauchmelder</td>\n",
       "      <td>1.0</td>\n",
       "      <td>NaN</td>\n",
       "      <td>0.296792</td>\n",
       "      <td>84</td>\n",
       "    </tr>\n",
       "    <tr>\n",
       "      <th>1054</th>\n",
       "      <td>WC</td>\n",
       "      <td>11.0</td>\n",
       "      <td>NaN</td>\n",
       "      <td>0.302272</td>\n",
       "      <td>88</td>\n",
       "    </tr>\n",
       "    <tr>\n",
       "      <th>1059</th>\n",
       "      <td>Umhängetaschen</td>\n",
       "      <td>4.0</td>\n",
       "      <td>NaN</td>\n",
       "      <td>0.233332</td>\n",
       "      <td>89</td>\n",
       "    </tr>\n",
       "    <tr>\n",
       "      <th>1113</th>\n",
       "      <td>Plattenspieler</td>\n",
       "      <td>10.0</td>\n",
       "      <td>NaN</td>\n",
       "      <td>0.237657</td>\n",
       "      <td>93</td>\n",
       "    </tr>\n",
       "    <tr>\n",
       "      <th>1117</th>\n",
       "      <td>Pflege-Geschenksets</td>\n",
       "      <td>2.0</td>\n",
       "      <td>NaN</td>\n",
       "      <td>0.299142</td>\n",
       "      <td>94</td>\n",
       "    </tr>\n",
       "    <tr>\n",
       "      <th>1132</th>\n",
       "      <td>Schmerzmittel</td>\n",
       "      <td>5.0</td>\n",
       "      <td>NaN</td>\n",
       "      <td>0.374906</td>\n",
       "      <td>95</td>\n",
       "    </tr>\n",
       "    <tr>\n",
       "      <th>1177</th>\n",
       "      <td>Kamerataschen</td>\n",
       "      <td>2.0</td>\n",
       "      <td>NaN</td>\n",
       "      <td>0.283090</td>\n",
       "      <td>99</td>\n",
       "    </tr>\n",
       "  </tbody>\n",
       "</table>\n",
       "</div>"
      ],
      "text/plain": [
       "                         category  month  pageimpressions        CR  cat_id\n",
       "2               Herren-Halbschuhe    3.0              NaN  0.232252       1\n",
       "43         Magen-Darm-Medikamente    8.0              NaN  0.396409       4\n",
       "129                    Fritteusen   10.0              NaN  0.237006      11\n",
       "192                        Spülen    1.0              NaN  0.260815      17\n",
       "201                        Spülen   10.0              NaN  0.255568      17\n",
       "205                  Gartenlampen    2.0              NaN  0.273697      18\n",
       "271                  Gartenpumpen    8.0              NaN  0.249457      23\n",
       "274                  Gartenpumpen   11.0              NaN  0.253741      23\n",
       "302     Skihelme & Snowboardhelme    3.0              NaN  0.256378      26\n",
       "382                    Verstärker   11.0              NaN  0.200105      32\n",
       "393               Gartenschläuche   10.0              NaN  0.199857      33\n",
       "545                  Kuscheltiere    6.0              NaN  0.274520      46\n",
       "609               Xbox One Spiele   10.0              NaN  0.276625      51\n",
       "628                        Liköre    5.0              NaN  0.205346      53\n",
       "662            Outdoor-Navigation    3.0              NaN  0.260693      56\n",
       "685               Betriebssysteme    2.0              NaN  0.272037      58\n",
       "731   Champagner, Sekt & Prosecco   12.0              NaN  0.184130      61\n",
       "744                 Eingabestifte    1.0              NaN  0.224209      63\n",
       "833                Motorradreifen    6.0              NaN  0.278371      70\n",
       "885            Fahrradbeleuchtung   10.0              NaN  0.263201      74\n",
       "955                    VR-Brillen    8.0              NaN  0.189061      80\n",
       "984                 Trinkflaschen    1.0              NaN  0.247716      83\n",
       "987                 Trinkflaschen    4.0              NaN  0.245166      83\n",
       "996                   Rauchmelder    1.0              NaN  0.296792      84\n",
       "1054                           WC   11.0              NaN  0.302272      88\n",
       "1059               Umhängetaschen    4.0              NaN  0.233332      89\n",
       "1113               Plattenspieler   10.0              NaN  0.237657      93\n",
       "1117          Pflege-Geschenksets    2.0              NaN  0.299142      94\n",
       "1132                Schmerzmittel    5.0              NaN  0.374906      95\n",
       "1177                Kamerataschen    2.0              NaN  0.283090      99"
      ]
     },
     "execution_count": 19,
     "metadata": {},
     "output_type": "execute_result"
    }
   ],
   "source": [
    "data.loc[data['pageimpressions'].isna()]"
   ]
  },
  {
   "cell_type": "code",
   "execution_count": 17,
   "metadata": {},
   "outputs": [
    {
     "data": {
      "text/html": [
       "<div>\n",
       "<style scoped>\n",
       "    .dataframe tbody tr th:only-of-type {\n",
       "        vertical-align: middle;\n",
       "    }\n",
       "\n",
       "    .dataframe tbody tr th {\n",
       "        vertical-align: top;\n",
       "    }\n",
       "\n",
       "    .dataframe thead th {\n",
       "        text-align: right;\n",
       "    }\n",
       "</style>\n",
       "<table border=\"1\" class=\"dataframe\">\n",
       "  <thead>\n",
       "    <tr style=\"text-align: right;\">\n",
       "      <th></th>\n",
       "      <th>category</th>\n",
       "      <th>month</th>\n",
       "      <th>pageimpressions</th>\n",
       "      <th>CR</th>\n",
       "      <th>cat_id</th>\n",
       "    </tr>\n",
       "  </thead>\n",
       "  <tbody>\n",
       "    <tr>\n",
       "      <th>0</th>\n",
       "      <td>Herren-Halbschuhe</td>\n",
       "      <td>1.0</td>\n",
       "      <td>86496.0</td>\n",
       "      <td>0.239572</td>\n",
       "      <td>1</td>\n",
       "    </tr>\n",
       "    <tr>\n",
       "      <th>1</th>\n",
       "      <td>Herren-Halbschuhe</td>\n",
       "      <td>2.0</td>\n",
       "      <td>75529.0</td>\n",
       "      <td>0.240967</td>\n",
       "      <td>1</td>\n",
       "    </tr>\n",
       "    <tr>\n",
       "      <th>2</th>\n",
       "      <td>Herren-Halbschuhe</td>\n",
       "      <td>3.0</td>\n",
       "      <td>84195.0</td>\n",
       "      <td>0.232252</td>\n",
       "      <td>1</td>\n",
       "    </tr>\n",
       "    <tr>\n",
       "      <th>3</th>\n",
       "      <td>Herren-Halbschuhe</td>\n",
       "      <td>4.0</td>\n",
       "      <td>92861.0</td>\n",
       "      <td>0.226737</td>\n",
       "      <td>1</td>\n",
       "    </tr>\n",
       "    <tr>\n",
       "      <th>4</th>\n",
       "      <td>Herren-Halbschuhe</td>\n",
       "      <td>5.0</td>\n",
       "      <td>93876.0</td>\n",
       "      <td>0.244610</td>\n",
       "      <td>1</td>\n",
       "    </tr>\n",
       "  </tbody>\n",
       "</table>\n",
       "</div>"
      ],
      "text/plain": [
       "            category  month  pageimpressions        CR  cat_id\n",
       "0  Herren-Halbschuhe    1.0          86496.0  0.239572       1\n",
       "1  Herren-Halbschuhe    2.0          75529.0  0.240967       1\n",
       "2  Herren-Halbschuhe    3.0          84195.0  0.232252       1\n",
       "3  Herren-Halbschuhe    4.0          92861.0  0.226737       1\n",
       "4  Herren-Halbschuhe    5.0          93876.0  0.244610       1"
      ]
     },
     "execution_count": 17,
     "metadata": {},
     "output_type": "execute_result"
    }
   ],
   "source": [
    "# impute nan-values with mean of neighbouring values:\n",
    "data.interpolate(inplace=True)\n",
    "data.head()"
   ]
  },
  {
   "cell_type": "markdown",
   "metadata": {},
   "source": [
    "Calculate \"lead-out\" values by multiplying \"page impressions\" and \"conversian rate\":"
   ]
  },
  {
   "cell_type": "code",
   "execution_count": 18,
   "metadata": {},
   "outputs": [
    {
     "data": {
      "text/html": [
       "<div>\n",
       "<style scoped>\n",
       "    .dataframe tbody tr th:only-of-type {\n",
       "        vertical-align: middle;\n",
       "    }\n",
       "\n",
       "    .dataframe tbody tr th {\n",
       "        vertical-align: top;\n",
       "    }\n",
       "\n",
       "    .dataframe thead th {\n",
       "        text-align: right;\n",
       "    }\n",
       "</style>\n",
       "<table border=\"1\" class=\"dataframe\">\n",
       "  <thead>\n",
       "    <tr style=\"text-align: right;\">\n",
       "      <th></th>\n",
       "      <th>category</th>\n",
       "      <th>month</th>\n",
       "      <th>pageimpressions</th>\n",
       "      <th>CR</th>\n",
       "      <th>cat_id</th>\n",
       "      <th>lead-out</th>\n",
       "    </tr>\n",
       "  </thead>\n",
       "  <tbody>\n",
       "    <tr>\n",
       "      <th>0</th>\n",
       "      <td>Herren-Halbschuhe</td>\n",
       "      <td>1.0</td>\n",
       "      <td>86496.0</td>\n",
       "      <td>0.239572</td>\n",
       "      <td>1</td>\n",
       "      <td>20722.0</td>\n",
       "    </tr>\n",
       "    <tr>\n",
       "      <th>1</th>\n",
       "      <td>Herren-Halbschuhe</td>\n",
       "      <td>2.0</td>\n",
       "      <td>75529.0</td>\n",
       "      <td>0.240967</td>\n",
       "      <td>1</td>\n",
       "      <td>18200.0</td>\n",
       "    </tr>\n",
       "    <tr>\n",
       "      <th>2</th>\n",
       "      <td>Herren-Halbschuhe</td>\n",
       "      <td>3.0</td>\n",
       "      <td>84195.0</td>\n",
       "      <td>0.232252</td>\n",
       "      <td>1</td>\n",
       "      <td>19554.0</td>\n",
       "    </tr>\n",
       "    <tr>\n",
       "      <th>3</th>\n",
       "      <td>Herren-Halbschuhe</td>\n",
       "      <td>4.0</td>\n",
       "      <td>92861.0</td>\n",
       "      <td>0.226737</td>\n",
       "      <td>1</td>\n",
       "      <td>21055.0</td>\n",
       "    </tr>\n",
       "    <tr>\n",
       "      <th>4</th>\n",
       "      <td>Herren-Halbschuhe</td>\n",
       "      <td>5.0</td>\n",
       "      <td>93876.0</td>\n",
       "      <td>0.244610</td>\n",
       "      <td>1</td>\n",
       "      <td>22963.0</td>\n",
       "    </tr>\n",
       "  </tbody>\n",
       "</table>\n",
       "</div>"
      ],
      "text/plain": [
       "            category  month  pageimpressions        CR  cat_id  lead-out\n",
       "0  Herren-Halbschuhe    1.0          86496.0  0.239572       1   20722.0\n",
       "1  Herren-Halbschuhe    2.0          75529.0  0.240967       1   18200.0\n",
       "2  Herren-Halbschuhe    3.0          84195.0  0.232252       1   19554.0\n",
       "3  Herren-Halbschuhe    4.0          92861.0  0.226737       1   21055.0\n",
       "4  Herren-Halbschuhe    5.0          93876.0  0.244610       1   22963.0"
      ]
     },
     "execution_count": 18,
     "metadata": {},
     "output_type": "execute_result"
    }
   ],
   "source": [
    "data['lead-out'] = round(data[\"pageimpressions\"] * data[\"CR\"])\n",
    "data.head()"
   ]
  },
  {
   "cell_type": "code",
   "execution_count": 19,
   "metadata": {},
   "outputs": [],
   "source": [
    "#data.to_csv(\"./data/data.csv\", sep=\";\")"
   ]
  },
  {
   "cell_type": "markdown",
   "metadata": {},
   "source": [
    "### Comparing page impressions of some categories"
   ]
  },
  {
   "cell_type": "code",
   "execution_count": 20,
   "metadata": {},
   "outputs": [
    {
     "data": {
      "application/vnd.plotly.v1+json": {
       "config": {
        "plotlyServerURL": "https://plot.ly"
       },
       "data": [
        {
         "alignmentgroup": "True",
         "hovertemplate": "month=%{x}<br>pageimpressions=%{y}<extra></extra>",
         "legendgroup": "",
         "marker": {
          "color": "#636efa",
          "pattern": {
           "shape": ""
          }
         },
         "name": "",
         "offsetgroup": "",
         "orientation": "v",
         "showlegend": false,
         "textposition": "auto",
         "type": "bar",
         "x": [
          1,
          2,
          3,
          4,
          5,
          6,
          7,
          8,
          9,
          10,
          11,
          12
         ],
         "xaxis": "x",
         "y": [
          61563,
          46386,
          46734,
          36781,
          35983,
          28738,
          33594,
          35991,
          39150,
          58843,
          84046,
          98304
         ],
         "yaxis": "y"
        }
       ],
       "layout": {
        "barmode": "relative",
        "legend": {
         "tracegroupgap": 0
        },
        "template": {
         "data": {
          "bar": [
           {
            "error_x": {
             "color": "#f2f5fa"
            },
            "error_y": {
             "color": "#f2f5fa"
            },
            "marker": {
             "line": {
              "color": "rgb(17,17,17)",
              "width": 0.5
             },
             "pattern": {
              "fillmode": "overlay",
              "size": 10,
              "solidity": 0.2
             }
            },
            "type": "bar"
           }
          ],
          "barpolar": [
           {
            "marker": {
             "line": {
              "color": "rgb(17,17,17)",
              "width": 0.5
             },
             "pattern": {
              "fillmode": "overlay",
              "size": 10,
              "solidity": 0.2
             }
            },
            "type": "barpolar"
           }
          ],
          "carpet": [
           {
            "aaxis": {
             "endlinecolor": "#A2B1C6",
             "gridcolor": "#506784",
             "linecolor": "#506784",
             "minorgridcolor": "#506784",
             "startlinecolor": "#A2B1C6"
            },
            "baxis": {
             "endlinecolor": "#A2B1C6",
             "gridcolor": "#506784",
             "linecolor": "#506784",
             "minorgridcolor": "#506784",
             "startlinecolor": "#A2B1C6"
            },
            "type": "carpet"
           }
          ],
          "choropleth": [
           {
            "colorbar": {
             "outlinewidth": 0,
             "ticks": ""
            },
            "type": "choropleth"
           }
          ],
          "contour": [
           {
            "colorbar": {
             "outlinewidth": 0,
             "ticks": ""
            },
            "colorscale": [
             [
              0,
              "#0d0887"
             ],
             [
              0.1111111111111111,
              "#46039f"
             ],
             [
              0.2222222222222222,
              "#7201a8"
             ],
             [
              0.3333333333333333,
              "#9c179e"
             ],
             [
              0.4444444444444444,
              "#bd3786"
             ],
             [
              0.5555555555555556,
              "#d8576b"
             ],
             [
              0.6666666666666666,
              "#ed7953"
             ],
             [
              0.7777777777777778,
              "#fb9f3a"
             ],
             [
              0.8888888888888888,
              "#fdca26"
             ],
             [
              1,
              "#f0f921"
             ]
            ],
            "type": "contour"
           }
          ],
          "contourcarpet": [
           {
            "colorbar": {
             "outlinewidth": 0,
             "ticks": ""
            },
            "type": "contourcarpet"
           }
          ],
          "heatmap": [
           {
            "colorbar": {
             "outlinewidth": 0,
             "ticks": ""
            },
            "colorscale": [
             [
              0,
              "#0d0887"
             ],
             [
              0.1111111111111111,
              "#46039f"
             ],
             [
              0.2222222222222222,
              "#7201a8"
             ],
             [
              0.3333333333333333,
              "#9c179e"
             ],
             [
              0.4444444444444444,
              "#bd3786"
             ],
             [
              0.5555555555555556,
              "#d8576b"
             ],
             [
              0.6666666666666666,
              "#ed7953"
             ],
             [
              0.7777777777777778,
              "#fb9f3a"
             ],
             [
              0.8888888888888888,
              "#fdca26"
             ],
             [
              1,
              "#f0f921"
             ]
            ],
            "type": "heatmap"
           }
          ],
          "heatmapgl": [
           {
            "colorbar": {
             "outlinewidth": 0,
             "ticks": ""
            },
            "colorscale": [
             [
              0,
              "#0d0887"
             ],
             [
              0.1111111111111111,
              "#46039f"
             ],
             [
              0.2222222222222222,
              "#7201a8"
             ],
             [
              0.3333333333333333,
              "#9c179e"
             ],
             [
              0.4444444444444444,
              "#bd3786"
             ],
             [
              0.5555555555555556,
              "#d8576b"
             ],
             [
              0.6666666666666666,
              "#ed7953"
             ],
             [
              0.7777777777777778,
              "#fb9f3a"
             ],
             [
              0.8888888888888888,
              "#fdca26"
             ],
             [
              1,
              "#f0f921"
             ]
            ],
            "type": "heatmapgl"
           }
          ],
          "histogram": [
           {
            "marker": {
             "pattern": {
              "fillmode": "overlay",
              "size": 10,
              "solidity": 0.2
             }
            },
            "type": "histogram"
           }
          ],
          "histogram2d": [
           {
            "colorbar": {
             "outlinewidth": 0,
             "ticks": ""
            },
            "colorscale": [
             [
              0,
              "#0d0887"
             ],
             [
              0.1111111111111111,
              "#46039f"
             ],
             [
              0.2222222222222222,
              "#7201a8"
             ],
             [
              0.3333333333333333,
              "#9c179e"
             ],
             [
              0.4444444444444444,
              "#bd3786"
             ],
             [
              0.5555555555555556,
              "#d8576b"
             ],
             [
              0.6666666666666666,
              "#ed7953"
             ],
             [
              0.7777777777777778,
              "#fb9f3a"
             ],
             [
              0.8888888888888888,
              "#fdca26"
             ],
             [
              1,
              "#f0f921"
             ]
            ],
            "type": "histogram2d"
           }
          ],
          "histogram2dcontour": [
           {
            "colorbar": {
             "outlinewidth": 0,
             "ticks": ""
            },
            "colorscale": [
             [
              0,
              "#0d0887"
             ],
             [
              0.1111111111111111,
              "#46039f"
             ],
             [
              0.2222222222222222,
              "#7201a8"
             ],
             [
              0.3333333333333333,
              "#9c179e"
             ],
             [
              0.4444444444444444,
              "#bd3786"
             ],
             [
              0.5555555555555556,
              "#d8576b"
             ],
             [
              0.6666666666666666,
              "#ed7953"
             ],
             [
              0.7777777777777778,
              "#fb9f3a"
             ],
             [
              0.8888888888888888,
              "#fdca26"
             ],
             [
              1,
              "#f0f921"
             ]
            ],
            "type": "histogram2dcontour"
           }
          ],
          "mesh3d": [
           {
            "colorbar": {
             "outlinewidth": 0,
             "ticks": ""
            },
            "type": "mesh3d"
           }
          ],
          "parcoords": [
           {
            "line": {
             "colorbar": {
              "outlinewidth": 0,
              "ticks": ""
             }
            },
            "type": "parcoords"
           }
          ],
          "pie": [
           {
            "automargin": true,
            "type": "pie"
           }
          ],
          "scatter": [
           {
            "marker": {
             "line": {
              "color": "#283442"
             }
            },
            "type": "scatter"
           }
          ],
          "scatter3d": [
           {
            "line": {
             "colorbar": {
              "outlinewidth": 0,
              "ticks": ""
             }
            },
            "marker": {
             "colorbar": {
              "outlinewidth": 0,
              "ticks": ""
             }
            },
            "type": "scatter3d"
           }
          ],
          "scattercarpet": [
           {
            "marker": {
             "colorbar": {
              "outlinewidth": 0,
              "ticks": ""
             }
            },
            "type": "scattercarpet"
           }
          ],
          "scattergeo": [
           {
            "marker": {
             "colorbar": {
              "outlinewidth": 0,
              "ticks": ""
             }
            },
            "type": "scattergeo"
           }
          ],
          "scattergl": [
           {
            "marker": {
             "line": {
              "color": "#283442"
             }
            },
            "type": "scattergl"
           }
          ],
          "scattermapbox": [
           {
            "marker": {
             "colorbar": {
              "outlinewidth": 0,
              "ticks": ""
             }
            },
            "type": "scattermapbox"
           }
          ],
          "scatterpolar": [
           {
            "marker": {
             "colorbar": {
              "outlinewidth": 0,
              "ticks": ""
             }
            },
            "type": "scatterpolar"
           }
          ],
          "scatterpolargl": [
           {
            "marker": {
             "colorbar": {
              "outlinewidth": 0,
              "ticks": ""
             }
            },
            "type": "scatterpolargl"
           }
          ],
          "scatterternary": [
           {
            "marker": {
             "colorbar": {
              "outlinewidth": 0,
              "ticks": ""
             }
            },
            "type": "scatterternary"
           }
          ],
          "surface": [
           {
            "colorbar": {
             "outlinewidth": 0,
             "ticks": ""
            },
            "colorscale": [
             [
              0,
              "#0d0887"
             ],
             [
              0.1111111111111111,
              "#46039f"
             ],
             [
              0.2222222222222222,
              "#7201a8"
             ],
             [
              0.3333333333333333,
              "#9c179e"
             ],
             [
              0.4444444444444444,
              "#bd3786"
             ],
             [
              0.5555555555555556,
              "#d8576b"
             ],
             [
              0.6666666666666666,
              "#ed7953"
             ],
             [
              0.7777777777777778,
              "#fb9f3a"
             ],
             [
              0.8888888888888888,
              "#fdca26"
             ],
             [
              1,
              "#f0f921"
             ]
            ],
            "type": "surface"
           }
          ],
          "table": [
           {
            "cells": {
             "fill": {
              "color": "#506784"
             },
             "line": {
              "color": "rgb(17,17,17)"
             }
            },
            "header": {
             "fill": {
              "color": "#2a3f5f"
             },
             "line": {
              "color": "rgb(17,17,17)"
             }
            },
            "type": "table"
           }
          ]
         },
         "layout": {
          "annotationdefaults": {
           "arrowcolor": "#f2f5fa",
           "arrowhead": 0,
           "arrowwidth": 1
          },
          "autotypenumbers": "strict",
          "coloraxis": {
           "colorbar": {
            "outlinewidth": 0,
            "ticks": ""
           }
          },
          "colorscale": {
           "diverging": [
            [
             0,
             "#8e0152"
            ],
            [
             0.1,
             "#c51b7d"
            ],
            [
             0.2,
             "#de77ae"
            ],
            [
             0.3,
             "#f1b6da"
            ],
            [
             0.4,
             "#fde0ef"
            ],
            [
             0.5,
             "#f7f7f7"
            ],
            [
             0.6,
             "#e6f5d0"
            ],
            [
             0.7,
             "#b8e186"
            ],
            [
             0.8,
             "#7fbc41"
            ],
            [
             0.9,
             "#4d9221"
            ],
            [
             1,
             "#276419"
            ]
           ],
           "sequential": [
            [
             0,
             "#0d0887"
            ],
            [
             0.1111111111111111,
             "#46039f"
            ],
            [
             0.2222222222222222,
             "#7201a8"
            ],
            [
             0.3333333333333333,
             "#9c179e"
            ],
            [
             0.4444444444444444,
             "#bd3786"
            ],
            [
             0.5555555555555556,
             "#d8576b"
            ],
            [
             0.6666666666666666,
             "#ed7953"
            ],
            [
             0.7777777777777778,
             "#fb9f3a"
            ],
            [
             0.8888888888888888,
             "#fdca26"
            ],
            [
             1,
             "#f0f921"
            ]
           ],
           "sequentialminus": [
            [
             0,
             "#0d0887"
            ],
            [
             0.1111111111111111,
             "#46039f"
            ],
            [
             0.2222222222222222,
             "#7201a8"
            ],
            [
             0.3333333333333333,
             "#9c179e"
            ],
            [
             0.4444444444444444,
             "#bd3786"
            ],
            [
             0.5555555555555556,
             "#d8576b"
            ],
            [
             0.6666666666666666,
             "#ed7953"
            ],
            [
             0.7777777777777778,
             "#fb9f3a"
            ],
            [
             0.8888888888888888,
             "#fdca26"
            ],
            [
             1,
             "#f0f921"
            ]
           ]
          },
          "colorway": [
           "#636efa",
           "#EF553B",
           "#00cc96",
           "#ab63fa",
           "#FFA15A",
           "#19d3f3",
           "#FF6692",
           "#B6E880",
           "#FF97FF",
           "#FECB52"
          ],
          "font": {
           "color": "#f2f5fa"
          },
          "geo": {
           "bgcolor": "rgb(17,17,17)",
           "lakecolor": "rgb(17,17,17)",
           "landcolor": "rgb(17,17,17)",
           "showlakes": true,
           "showland": true,
           "subunitcolor": "#506784"
          },
          "hoverlabel": {
           "align": "left"
          },
          "hovermode": "closest",
          "mapbox": {
           "style": "dark"
          },
          "paper_bgcolor": "rgb(17,17,17)",
          "plot_bgcolor": "rgb(17,17,17)",
          "polar": {
           "angularaxis": {
            "gridcolor": "#506784",
            "linecolor": "#506784",
            "ticks": ""
           },
           "bgcolor": "rgb(17,17,17)",
           "radialaxis": {
            "gridcolor": "#506784",
            "linecolor": "#506784",
            "ticks": ""
           }
          },
          "scene": {
           "xaxis": {
            "backgroundcolor": "rgb(17,17,17)",
            "gridcolor": "#506784",
            "gridwidth": 2,
            "linecolor": "#506784",
            "showbackground": true,
            "ticks": "",
            "zerolinecolor": "#C8D4E3"
           },
           "yaxis": {
            "backgroundcolor": "rgb(17,17,17)",
            "gridcolor": "#506784",
            "gridwidth": 2,
            "linecolor": "#506784",
            "showbackground": true,
            "ticks": "",
            "zerolinecolor": "#C8D4E3"
           },
           "zaxis": {
            "backgroundcolor": "rgb(17,17,17)",
            "gridcolor": "#506784",
            "gridwidth": 2,
            "linecolor": "#506784",
            "showbackground": true,
            "ticks": "",
            "zerolinecolor": "#C8D4E3"
           }
          },
          "shapedefaults": {
           "line": {
            "color": "#f2f5fa"
           }
          },
          "sliderdefaults": {
           "bgcolor": "#C8D4E3",
           "bordercolor": "rgb(17,17,17)",
           "borderwidth": 1,
           "tickwidth": 0
          },
          "ternary": {
           "aaxis": {
            "gridcolor": "#506784",
            "linecolor": "#506784",
            "ticks": ""
           },
           "baxis": {
            "gridcolor": "#506784",
            "linecolor": "#506784",
            "ticks": ""
           },
           "bgcolor": "rgb(17,17,17)",
           "caxis": {
            "gridcolor": "#506784",
            "linecolor": "#506784",
            "ticks": ""
           }
          },
          "title": {
           "x": 0.05
          },
          "updatemenudefaults": {
           "bgcolor": "#506784",
           "borderwidth": 0
          },
          "xaxis": {
           "automargin": true,
           "gridcolor": "#283442",
           "linecolor": "#506784",
           "ticks": "",
           "title": {
            "standoff": 15
           },
           "zerolinecolor": "#283442",
           "zerolinewidth": 2
          },
          "yaxis": {
           "automargin": true,
           "gridcolor": "#283442",
           "linecolor": "#506784",
           "ticks": "",
           "title": {
            "standoff": 15
           },
           "zerolinecolor": "#283442",
           "zerolinewidth": 2
          }
         }
        },
        "title": {
         "text": "Page-impressions in category \"Modeleisenbahnen\""
        },
        "xaxis": {
         "anchor": "y",
         "domain": [
          0,
          1
         ],
         "dtick": 1,
         "tickmode": "linear",
         "title": {
          "text": "month"
         }
        },
        "yaxis": {
         "anchor": "x",
         "domain": [
          0,
          1
         ],
         "title": {
          "text": "pageimpressions"
         }
        }
       }
      }
     },
     "metadata": {},
     "output_type": "display_data"
    }
   ],
   "source": [
    "modeleisenbahnen = data.loc[data['category'] == \"Modelleisenbahnen\"]\n",
    "fig = px.bar(modeleisenbahnen, x=\"month\", y=\"pageimpressions\", template='plotly_dark',\n",
    "                  title='Page-impressions in category \"Modeleisenbahnen\"')\n",
    "fig.update_layout(xaxis = dict(tickmode = 'linear', dtick = 1))\n",
    "fig.show()"
   ]
  },
  {
   "cell_type": "code",
   "execution_count": 21,
   "metadata": {},
   "outputs": [
    {
     "data": {
      "application/vnd.plotly.v1+json": {
       "config": {
        "plotlyServerURL": "https://plot.ly"
       },
       "data": [
        {
         "alignmentgroup": "True",
         "hovertemplate": "month=%{x}<br>pageimpressions=%{y}<extra></extra>",
         "legendgroup": "",
         "marker": {
          "color": "#636efa",
          "pattern": {
           "shape": ""
          }
         },
         "name": "",
         "offsetgroup": "",
         "orientation": "v",
         "showlegend": false,
         "textposition": "auto",
         "type": "bar",
         "x": [
          1,
          2,
          3,
          4,
          5,
          6,
          7,
          8,
          9,
          10,
          11,
          12
         ],
         "xaxis": "x",
         "y": [
          17014,
          20827,
          43686,
          103653,
          203845,
          206145,
          132002,
          102163,
          63678,
          43567,
          30723,
          21698
         ],
         "yaxis": "y"
        }
       ],
       "layout": {
        "barmode": "relative",
        "legend": {
         "tracegroupgap": 0
        },
        "template": {
         "data": {
          "bar": [
           {
            "error_x": {
             "color": "#f2f5fa"
            },
            "error_y": {
             "color": "#f2f5fa"
            },
            "marker": {
             "line": {
              "color": "rgb(17,17,17)",
              "width": 0.5
             },
             "pattern": {
              "fillmode": "overlay",
              "size": 10,
              "solidity": 0.2
             }
            },
            "type": "bar"
           }
          ],
          "barpolar": [
           {
            "marker": {
             "line": {
              "color": "rgb(17,17,17)",
              "width": 0.5
             },
             "pattern": {
              "fillmode": "overlay",
              "size": 10,
              "solidity": 0.2
             }
            },
            "type": "barpolar"
           }
          ],
          "carpet": [
           {
            "aaxis": {
             "endlinecolor": "#A2B1C6",
             "gridcolor": "#506784",
             "linecolor": "#506784",
             "minorgridcolor": "#506784",
             "startlinecolor": "#A2B1C6"
            },
            "baxis": {
             "endlinecolor": "#A2B1C6",
             "gridcolor": "#506784",
             "linecolor": "#506784",
             "minorgridcolor": "#506784",
             "startlinecolor": "#A2B1C6"
            },
            "type": "carpet"
           }
          ],
          "choropleth": [
           {
            "colorbar": {
             "outlinewidth": 0,
             "ticks": ""
            },
            "type": "choropleth"
           }
          ],
          "contour": [
           {
            "colorbar": {
             "outlinewidth": 0,
             "ticks": ""
            },
            "colorscale": [
             [
              0,
              "#0d0887"
             ],
             [
              0.1111111111111111,
              "#46039f"
             ],
             [
              0.2222222222222222,
              "#7201a8"
             ],
             [
              0.3333333333333333,
              "#9c179e"
             ],
             [
              0.4444444444444444,
              "#bd3786"
             ],
             [
              0.5555555555555556,
              "#d8576b"
             ],
             [
              0.6666666666666666,
              "#ed7953"
             ],
             [
              0.7777777777777778,
              "#fb9f3a"
             ],
             [
              0.8888888888888888,
              "#fdca26"
             ],
             [
              1,
              "#f0f921"
             ]
            ],
            "type": "contour"
           }
          ],
          "contourcarpet": [
           {
            "colorbar": {
             "outlinewidth": 0,
             "ticks": ""
            },
            "type": "contourcarpet"
           }
          ],
          "heatmap": [
           {
            "colorbar": {
             "outlinewidth": 0,
             "ticks": ""
            },
            "colorscale": [
             [
              0,
              "#0d0887"
             ],
             [
              0.1111111111111111,
              "#46039f"
             ],
             [
              0.2222222222222222,
              "#7201a8"
             ],
             [
              0.3333333333333333,
              "#9c179e"
             ],
             [
              0.4444444444444444,
              "#bd3786"
             ],
             [
              0.5555555555555556,
              "#d8576b"
             ],
             [
              0.6666666666666666,
              "#ed7953"
             ],
             [
              0.7777777777777778,
              "#fb9f3a"
             ],
             [
              0.8888888888888888,
              "#fdca26"
             ],
             [
              1,
              "#f0f921"
             ]
            ],
            "type": "heatmap"
           }
          ],
          "heatmapgl": [
           {
            "colorbar": {
             "outlinewidth": 0,
             "ticks": ""
            },
            "colorscale": [
             [
              0,
              "#0d0887"
             ],
             [
              0.1111111111111111,
              "#46039f"
             ],
             [
              0.2222222222222222,
              "#7201a8"
             ],
             [
              0.3333333333333333,
              "#9c179e"
             ],
             [
              0.4444444444444444,
              "#bd3786"
             ],
             [
              0.5555555555555556,
              "#d8576b"
             ],
             [
              0.6666666666666666,
              "#ed7953"
             ],
             [
              0.7777777777777778,
              "#fb9f3a"
             ],
             [
              0.8888888888888888,
              "#fdca26"
             ],
             [
              1,
              "#f0f921"
             ]
            ],
            "type": "heatmapgl"
           }
          ],
          "histogram": [
           {
            "marker": {
             "pattern": {
              "fillmode": "overlay",
              "size": 10,
              "solidity": 0.2
             }
            },
            "type": "histogram"
           }
          ],
          "histogram2d": [
           {
            "colorbar": {
             "outlinewidth": 0,
             "ticks": ""
            },
            "colorscale": [
             [
              0,
              "#0d0887"
             ],
             [
              0.1111111111111111,
              "#46039f"
             ],
             [
              0.2222222222222222,
              "#7201a8"
             ],
             [
              0.3333333333333333,
              "#9c179e"
             ],
             [
              0.4444444444444444,
              "#bd3786"
             ],
             [
              0.5555555555555556,
              "#d8576b"
             ],
             [
              0.6666666666666666,
              "#ed7953"
             ],
             [
              0.7777777777777778,
              "#fb9f3a"
             ],
             [
              0.8888888888888888,
              "#fdca26"
             ],
             [
              1,
              "#f0f921"
             ]
            ],
            "type": "histogram2d"
           }
          ],
          "histogram2dcontour": [
           {
            "colorbar": {
             "outlinewidth": 0,
             "ticks": ""
            },
            "colorscale": [
             [
              0,
              "#0d0887"
             ],
             [
              0.1111111111111111,
              "#46039f"
             ],
             [
              0.2222222222222222,
              "#7201a8"
             ],
             [
              0.3333333333333333,
              "#9c179e"
             ],
             [
              0.4444444444444444,
              "#bd3786"
             ],
             [
              0.5555555555555556,
              "#d8576b"
             ],
             [
              0.6666666666666666,
              "#ed7953"
             ],
             [
              0.7777777777777778,
              "#fb9f3a"
             ],
             [
              0.8888888888888888,
              "#fdca26"
             ],
             [
              1,
              "#f0f921"
             ]
            ],
            "type": "histogram2dcontour"
           }
          ],
          "mesh3d": [
           {
            "colorbar": {
             "outlinewidth": 0,
             "ticks": ""
            },
            "type": "mesh3d"
           }
          ],
          "parcoords": [
           {
            "line": {
             "colorbar": {
              "outlinewidth": 0,
              "ticks": ""
             }
            },
            "type": "parcoords"
           }
          ],
          "pie": [
           {
            "automargin": true,
            "type": "pie"
           }
          ],
          "scatter": [
           {
            "marker": {
             "line": {
              "color": "#283442"
             }
            },
            "type": "scatter"
           }
          ],
          "scatter3d": [
           {
            "line": {
             "colorbar": {
              "outlinewidth": 0,
              "ticks": ""
             }
            },
            "marker": {
             "colorbar": {
              "outlinewidth": 0,
              "ticks": ""
             }
            },
            "type": "scatter3d"
           }
          ],
          "scattercarpet": [
           {
            "marker": {
             "colorbar": {
              "outlinewidth": 0,
              "ticks": ""
             }
            },
            "type": "scattercarpet"
           }
          ],
          "scattergeo": [
           {
            "marker": {
             "colorbar": {
              "outlinewidth": 0,
              "ticks": ""
             }
            },
            "type": "scattergeo"
           }
          ],
          "scattergl": [
           {
            "marker": {
             "line": {
              "color": "#283442"
             }
            },
            "type": "scattergl"
           }
          ],
          "scattermapbox": [
           {
            "marker": {
             "colorbar": {
              "outlinewidth": 0,
              "ticks": ""
             }
            },
            "type": "scattermapbox"
           }
          ],
          "scatterpolar": [
           {
            "marker": {
             "colorbar": {
              "outlinewidth": 0,
              "ticks": ""
             }
            },
            "type": "scatterpolar"
           }
          ],
          "scatterpolargl": [
           {
            "marker": {
             "colorbar": {
              "outlinewidth": 0,
              "ticks": ""
             }
            },
            "type": "scatterpolargl"
           }
          ],
          "scatterternary": [
           {
            "marker": {
             "colorbar": {
              "outlinewidth": 0,
              "ticks": ""
             }
            },
            "type": "scatterternary"
           }
          ],
          "surface": [
           {
            "colorbar": {
             "outlinewidth": 0,
             "ticks": ""
            },
            "colorscale": [
             [
              0,
              "#0d0887"
             ],
             [
              0.1111111111111111,
              "#46039f"
             ],
             [
              0.2222222222222222,
              "#7201a8"
             ],
             [
              0.3333333333333333,
              "#9c179e"
             ],
             [
              0.4444444444444444,
              "#bd3786"
             ],
             [
              0.5555555555555556,
              "#d8576b"
             ],
             [
              0.6666666666666666,
              "#ed7953"
             ],
             [
              0.7777777777777778,
              "#fb9f3a"
             ],
             [
              0.8888888888888888,
              "#fdca26"
             ],
             [
              1,
              "#f0f921"
             ]
            ],
            "type": "surface"
           }
          ],
          "table": [
           {
            "cells": {
             "fill": {
              "color": "#506784"
             },
             "line": {
              "color": "rgb(17,17,17)"
             }
            },
            "header": {
             "fill": {
              "color": "#2a3f5f"
             },
             "line": {
              "color": "rgb(17,17,17)"
             }
            },
            "type": "table"
           }
          ]
         },
         "layout": {
          "annotationdefaults": {
           "arrowcolor": "#f2f5fa",
           "arrowhead": 0,
           "arrowwidth": 1
          },
          "autotypenumbers": "strict",
          "coloraxis": {
           "colorbar": {
            "outlinewidth": 0,
            "ticks": ""
           }
          },
          "colorscale": {
           "diverging": [
            [
             0,
             "#8e0152"
            ],
            [
             0.1,
             "#c51b7d"
            ],
            [
             0.2,
             "#de77ae"
            ],
            [
             0.3,
             "#f1b6da"
            ],
            [
             0.4,
             "#fde0ef"
            ],
            [
             0.5,
             "#f7f7f7"
            ],
            [
             0.6,
             "#e6f5d0"
            ],
            [
             0.7,
             "#b8e186"
            ],
            [
             0.8,
             "#7fbc41"
            ],
            [
             0.9,
             "#4d9221"
            ],
            [
             1,
             "#276419"
            ]
           ],
           "sequential": [
            [
             0,
             "#0d0887"
            ],
            [
             0.1111111111111111,
             "#46039f"
            ],
            [
             0.2222222222222222,
             "#7201a8"
            ],
            [
             0.3333333333333333,
             "#9c179e"
            ],
            [
             0.4444444444444444,
             "#bd3786"
            ],
            [
             0.5555555555555556,
             "#d8576b"
            ],
            [
             0.6666666666666666,
             "#ed7953"
            ],
            [
             0.7777777777777778,
             "#fb9f3a"
            ],
            [
             0.8888888888888888,
             "#fdca26"
            ],
            [
             1,
             "#f0f921"
            ]
           ],
           "sequentialminus": [
            [
             0,
             "#0d0887"
            ],
            [
             0.1111111111111111,
             "#46039f"
            ],
            [
             0.2222222222222222,
             "#7201a8"
            ],
            [
             0.3333333333333333,
             "#9c179e"
            ],
            [
             0.4444444444444444,
             "#bd3786"
            ],
            [
             0.5555555555555556,
             "#d8576b"
            ],
            [
             0.6666666666666666,
             "#ed7953"
            ],
            [
             0.7777777777777778,
             "#fb9f3a"
            ],
            [
             0.8888888888888888,
             "#fdca26"
            ],
            [
             1,
             "#f0f921"
            ]
           ]
          },
          "colorway": [
           "#636efa",
           "#EF553B",
           "#00cc96",
           "#ab63fa",
           "#FFA15A",
           "#19d3f3",
           "#FF6692",
           "#B6E880",
           "#FF97FF",
           "#FECB52"
          ],
          "font": {
           "color": "#f2f5fa"
          },
          "geo": {
           "bgcolor": "rgb(17,17,17)",
           "lakecolor": "rgb(17,17,17)",
           "landcolor": "rgb(17,17,17)",
           "showlakes": true,
           "showland": true,
           "subunitcolor": "#506784"
          },
          "hoverlabel": {
           "align": "left"
          },
          "hovermode": "closest",
          "mapbox": {
           "style": "dark"
          },
          "paper_bgcolor": "rgb(17,17,17)",
          "plot_bgcolor": "rgb(17,17,17)",
          "polar": {
           "angularaxis": {
            "gridcolor": "#506784",
            "linecolor": "#506784",
            "ticks": ""
           },
           "bgcolor": "rgb(17,17,17)",
           "radialaxis": {
            "gridcolor": "#506784",
            "linecolor": "#506784",
            "ticks": ""
           }
          },
          "scene": {
           "xaxis": {
            "backgroundcolor": "rgb(17,17,17)",
            "gridcolor": "#506784",
            "gridwidth": 2,
            "linecolor": "#506784",
            "showbackground": true,
            "ticks": "",
            "zerolinecolor": "#C8D4E3"
           },
           "yaxis": {
            "backgroundcolor": "rgb(17,17,17)",
            "gridcolor": "#506784",
            "gridwidth": 2,
            "linecolor": "#506784",
            "showbackground": true,
            "ticks": "",
            "zerolinecolor": "#C8D4E3"
           },
           "zaxis": {
            "backgroundcolor": "rgb(17,17,17)",
            "gridcolor": "#506784",
            "gridwidth": 2,
            "linecolor": "#506784",
            "showbackground": true,
            "ticks": "",
            "zerolinecolor": "#C8D4E3"
           }
          },
          "shapedefaults": {
           "line": {
            "color": "#f2f5fa"
           }
          },
          "sliderdefaults": {
           "bgcolor": "#C8D4E3",
           "bordercolor": "rgb(17,17,17)",
           "borderwidth": 1,
           "tickwidth": 0
          },
          "ternary": {
           "aaxis": {
            "gridcolor": "#506784",
            "linecolor": "#506784",
            "ticks": ""
           },
           "baxis": {
            "gridcolor": "#506784",
            "linecolor": "#506784",
            "ticks": ""
           },
           "bgcolor": "rgb(17,17,17)",
           "caxis": {
            "gridcolor": "#506784",
            "linecolor": "#506784",
            "ticks": ""
           }
          },
          "title": {
           "x": 0.05
          },
          "updatemenudefaults": {
           "bgcolor": "#506784",
           "borderwidth": 0
          },
          "xaxis": {
           "automargin": true,
           "gridcolor": "#283442",
           "linecolor": "#506784",
           "ticks": "",
           "title": {
            "standoff": 15
           },
           "zerolinecolor": "#283442",
           "zerolinewidth": 2
          },
          "yaxis": {
           "automargin": true,
           "gridcolor": "#283442",
           "linecolor": "#506784",
           "ticks": "",
           "title": {
            "standoff": 15
           },
           "zerolinecolor": "#283442",
           "zerolinewidth": 2
          }
         }
        },
        "title": {
         "text": "Page-impressions in category \"Motorsensen\""
        },
        "xaxis": {
         "anchor": "y",
         "domain": [
          0,
          1
         ],
         "dtick": 1,
         "tickmode": "linear",
         "title": {
          "text": "month"
         }
        },
        "yaxis": {
         "anchor": "x",
         "domain": [
          0,
          1
         ],
         "title": {
          "text": "pageimpressions"
         }
        }
       }
      }
     },
     "metadata": {},
     "output_type": "display_data"
    }
   ],
   "source": [
    "motorsensen = data.loc[data['category'] == \"Motorsensen\"]\n",
    "fig = px.bar(motorsensen, x=\"month\", y=\"pageimpressions\", template='plotly_dark',\n",
    "                 title='Page-impressions in category \"Motorsensen\"')\n",
    "fig.update_layout(xaxis = dict(tickmode = 'linear', dtick = 1))\n",
    "fig.show()"
   ]
  },
  {
   "cell_type": "code",
   "execution_count": 22,
   "metadata": {},
   "outputs": [
    {
     "data": {
      "application/vnd.plotly.v1+json": {
       "config": {
        "plotlyServerURL": "https://plot.ly"
       },
       "data": [
        {
         "alignmentgroup": "True",
         "hovertemplate": "month=%{x}<br>pageimpressions=%{y}<extra></extra>",
         "legendgroup": "",
         "marker": {
          "color": "#636efa",
          "pattern": {
           "shape": ""
          }
         },
         "name": "",
         "offsetgroup": "",
         "orientation": "v",
         "showlegend": false,
         "textposition": "auto",
         "type": "bar",
         "x": [
          1,
          2,
          3,
          4,
          5,
          6,
          7,
          8,
          9,
          10,
          11,
          12
         ],
         "xaxis": "x",
         "y": [
          98846,
          84354,
          95773,
          89059,
          94063,
          67680,
          73107,
          74058,
          76034,
          90463,
          86296,
          78549
         ],
         "yaxis": "y"
        }
       ],
       "layout": {
        "barmode": "relative",
        "legend": {
         "tracegroupgap": 0
        },
        "template": {
         "data": {
          "bar": [
           {
            "error_x": {
             "color": "#f2f5fa"
            },
            "error_y": {
             "color": "#f2f5fa"
            },
            "marker": {
             "line": {
              "color": "rgb(17,17,17)",
              "width": 0.5
             },
             "pattern": {
              "fillmode": "overlay",
              "size": 10,
              "solidity": 0.2
             }
            },
            "type": "bar"
           }
          ],
          "barpolar": [
           {
            "marker": {
             "line": {
              "color": "rgb(17,17,17)",
              "width": 0.5
             },
             "pattern": {
              "fillmode": "overlay",
              "size": 10,
              "solidity": 0.2
             }
            },
            "type": "barpolar"
           }
          ],
          "carpet": [
           {
            "aaxis": {
             "endlinecolor": "#A2B1C6",
             "gridcolor": "#506784",
             "linecolor": "#506784",
             "minorgridcolor": "#506784",
             "startlinecolor": "#A2B1C6"
            },
            "baxis": {
             "endlinecolor": "#A2B1C6",
             "gridcolor": "#506784",
             "linecolor": "#506784",
             "minorgridcolor": "#506784",
             "startlinecolor": "#A2B1C6"
            },
            "type": "carpet"
           }
          ],
          "choropleth": [
           {
            "colorbar": {
             "outlinewidth": 0,
             "ticks": ""
            },
            "type": "choropleth"
           }
          ],
          "contour": [
           {
            "colorbar": {
             "outlinewidth": 0,
             "ticks": ""
            },
            "colorscale": [
             [
              0,
              "#0d0887"
             ],
             [
              0.1111111111111111,
              "#46039f"
             ],
             [
              0.2222222222222222,
              "#7201a8"
             ],
             [
              0.3333333333333333,
              "#9c179e"
             ],
             [
              0.4444444444444444,
              "#bd3786"
             ],
             [
              0.5555555555555556,
              "#d8576b"
             ],
             [
              0.6666666666666666,
              "#ed7953"
             ],
             [
              0.7777777777777778,
              "#fb9f3a"
             ],
             [
              0.8888888888888888,
              "#fdca26"
             ],
             [
              1,
              "#f0f921"
             ]
            ],
            "type": "contour"
           }
          ],
          "contourcarpet": [
           {
            "colorbar": {
             "outlinewidth": 0,
             "ticks": ""
            },
            "type": "contourcarpet"
           }
          ],
          "heatmap": [
           {
            "colorbar": {
             "outlinewidth": 0,
             "ticks": ""
            },
            "colorscale": [
             [
              0,
              "#0d0887"
             ],
             [
              0.1111111111111111,
              "#46039f"
             ],
             [
              0.2222222222222222,
              "#7201a8"
             ],
             [
              0.3333333333333333,
              "#9c179e"
             ],
             [
              0.4444444444444444,
              "#bd3786"
             ],
             [
              0.5555555555555556,
              "#d8576b"
             ],
             [
              0.6666666666666666,
              "#ed7953"
             ],
             [
              0.7777777777777778,
              "#fb9f3a"
             ],
             [
              0.8888888888888888,
              "#fdca26"
             ],
             [
              1,
              "#f0f921"
             ]
            ],
            "type": "heatmap"
           }
          ],
          "heatmapgl": [
           {
            "colorbar": {
             "outlinewidth": 0,
             "ticks": ""
            },
            "colorscale": [
             [
              0,
              "#0d0887"
             ],
             [
              0.1111111111111111,
              "#46039f"
             ],
             [
              0.2222222222222222,
              "#7201a8"
             ],
             [
              0.3333333333333333,
              "#9c179e"
             ],
             [
              0.4444444444444444,
              "#bd3786"
             ],
             [
              0.5555555555555556,
              "#d8576b"
             ],
             [
              0.6666666666666666,
              "#ed7953"
             ],
             [
              0.7777777777777778,
              "#fb9f3a"
             ],
             [
              0.8888888888888888,
              "#fdca26"
             ],
             [
              1,
              "#f0f921"
             ]
            ],
            "type": "heatmapgl"
           }
          ],
          "histogram": [
           {
            "marker": {
             "pattern": {
              "fillmode": "overlay",
              "size": 10,
              "solidity": 0.2
             }
            },
            "type": "histogram"
           }
          ],
          "histogram2d": [
           {
            "colorbar": {
             "outlinewidth": 0,
             "ticks": ""
            },
            "colorscale": [
             [
              0,
              "#0d0887"
             ],
             [
              0.1111111111111111,
              "#46039f"
             ],
             [
              0.2222222222222222,
              "#7201a8"
             ],
             [
              0.3333333333333333,
              "#9c179e"
             ],
             [
              0.4444444444444444,
              "#bd3786"
             ],
             [
              0.5555555555555556,
              "#d8576b"
             ],
             [
              0.6666666666666666,
              "#ed7953"
             ],
             [
              0.7777777777777778,
              "#fb9f3a"
             ],
             [
              0.8888888888888888,
              "#fdca26"
             ],
             [
              1,
              "#f0f921"
             ]
            ],
            "type": "histogram2d"
           }
          ],
          "histogram2dcontour": [
           {
            "colorbar": {
             "outlinewidth": 0,
             "ticks": ""
            },
            "colorscale": [
             [
              0,
              "#0d0887"
             ],
             [
              0.1111111111111111,
              "#46039f"
             ],
             [
              0.2222222222222222,
              "#7201a8"
             ],
             [
              0.3333333333333333,
              "#9c179e"
             ],
             [
              0.4444444444444444,
              "#bd3786"
             ],
             [
              0.5555555555555556,
              "#d8576b"
             ],
             [
              0.6666666666666666,
              "#ed7953"
             ],
             [
              0.7777777777777778,
              "#fb9f3a"
             ],
             [
              0.8888888888888888,
              "#fdca26"
             ],
             [
              1,
              "#f0f921"
             ]
            ],
            "type": "histogram2dcontour"
           }
          ],
          "mesh3d": [
           {
            "colorbar": {
             "outlinewidth": 0,
             "ticks": ""
            },
            "type": "mesh3d"
           }
          ],
          "parcoords": [
           {
            "line": {
             "colorbar": {
              "outlinewidth": 0,
              "ticks": ""
             }
            },
            "type": "parcoords"
           }
          ],
          "pie": [
           {
            "automargin": true,
            "type": "pie"
           }
          ],
          "scatter": [
           {
            "marker": {
             "line": {
              "color": "#283442"
             }
            },
            "type": "scatter"
           }
          ],
          "scatter3d": [
           {
            "line": {
             "colorbar": {
              "outlinewidth": 0,
              "ticks": ""
             }
            },
            "marker": {
             "colorbar": {
              "outlinewidth": 0,
              "ticks": ""
             }
            },
            "type": "scatter3d"
           }
          ],
          "scattercarpet": [
           {
            "marker": {
             "colorbar": {
              "outlinewidth": 0,
              "ticks": ""
             }
            },
            "type": "scattercarpet"
           }
          ],
          "scattergeo": [
           {
            "marker": {
             "colorbar": {
              "outlinewidth": 0,
              "ticks": ""
             }
            },
            "type": "scattergeo"
           }
          ],
          "scattergl": [
           {
            "marker": {
             "line": {
              "color": "#283442"
             }
            },
            "type": "scattergl"
           }
          ],
          "scattermapbox": [
           {
            "marker": {
             "colorbar": {
              "outlinewidth": 0,
              "ticks": ""
             }
            },
            "type": "scattermapbox"
           }
          ],
          "scatterpolar": [
           {
            "marker": {
             "colorbar": {
              "outlinewidth": 0,
              "ticks": ""
             }
            },
            "type": "scatterpolar"
           }
          ],
          "scatterpolargl": [
           {
            "marker": {
             "colorbar": {
              "outlinewidth": 0,
              "ticks": ""
             }
            },
            "type": "scatterpolargl"
           }
          ],
          "scatterternary": [
           {
            "marker": {
             "colorbar": {
              "outlinewidth": 0,
              "ticks": ""
             }
            },
            "type": "scatterternary"
           }
          ],
          "surface": [
           {
            "colorbar": {
             "outlinewidth": 0,
             "ticks": ""
            },
            "colorscale": [
             [
              0,
              "#0d0887"
             ],
             [
              0.1111111111111111,
              "#46039f"
             ],
             [
              0.2222222222222222,
              "#7201a8"
             ],
             [
              0.3333333333333333,
              "#9c179e"
             ],
             [
              0.4444444444444444,
              "#bd3786"
             ],
             [
              0.5555555555555556,
              "#d8576b"
             ],
             [
              0.6666666666666666,
              "#ed7953"
             ],
             [
              0.7777777777777778,
              "#fb9f3a"
             ],
             [
              0.8888888888888888,
              "#fdca26"
             ],
             [
              1,
              "#f0f921"
             ]
            ],
            "type": "surface"
           }
          ],
          "table": [
           {
            "cells": {
             "fill": {
              "color": "#506784"
             },
             "line": {
              "color": "rgb(17,17,17)"
             }
            },
            "header": {
             "fill": {
              "color": "#2a3f5f"
             },
             "line": {
              "color": "rgb(17,17,17)"
             }
            },
            "type": "table"
           }
          ]
         },
         "layout": {
          "annotationdefaults": {
           "arrowcolor": "#f2f5fa",
           "arrowhead": 0,
           "arrowwidth": 1
          },
          "autotypenumbers": "strict",
          "coloraxis": {
           "colorbar": {
            "outlinewidth": 0,
            "ticks": ""
           }
          },
          "colorscale": {
           "diverging": [
            [
             0,
             "#8e0152"
            ],
            [
             0.1,
             "#c51b7d"
            ],
            [
             0.2,
             "#de77ae"
            ],
            [
             0.3,
             "#f1b6da"
            ],
            [
             0.4,
             "#fde0ef"
            ],
            [
             0.5,
             "#f7f7f7"
            ],
            [
             0.6,
             "#e6f5d0"
            ],
            [
             0.7,
             "#b8e186"
            ],
            [
             0.8,
             "#7fbc41"
            ],
            [
             0.9,
             "#4d9221"
            ],
            [
             1,
             "#276419"
            ]
           ],
           "sequential": [
            [
             0,
             "#0d0887"
            ],
            [
             0.1111111111111111,
             "#46039f"
            ],
            [
             0.2222222222222222,
             "#7201a8"
            ],
            [
             0.3333333333333333,
             "#9c179e"
            ],
            [
             0.4444444444444444,
             "#bd3786"
            ],
            [
             0.5555555555555556,
             "#d8576b"
            ],
            [
             0.6666666666666666,
             "#ed7953"
            ],
            [
             0.7777777777777778,
             "#fb9f3a"
            ],
            [
             0.8888888888888888,
             "#fdca26"
            ],
            [
             1,
             "#f0f921"
            ]
           ],
           "sequentialminus": [
            [
             0,
             "#0d0887"
            ],
            [
             0.1111111111111111,
             "#46039f"
            ],
            [
             0.2222222222222222,
             "#7201a8"
            ],
            [
             0.3333333333333333,
             "#9c179e"
            ],
            [
             0.4444444444444444,
             "#bd3786"
            ],
            [
             0.5555555555555556,
             "#d8576b"
            ],
            [
             0.6666666666666666,
             "#ed7953"
            ],
            [
             0.7777777777777778,
             "#fb9f3a"
            ],
            [
             0.8888888888888888,
             "#fdca26"
            ],
            [
             1,
             "#f0f921"
            ]
           ]
          },
          "colorway": [
           "#636efa",
           "#EF553B",
           "#00cc96",
           "#ab63fa",
           "#FFA15A",
           "#19d3f3",
           "#FF6692",
           "#B6E880",
           "#FF97FF",
           "#FECB52"
          ],
          "font": {
           "color": "#f2f5fa"
          },
          "geo": {
           "bgcolor": "rgb(17,17,17)",
           "lakecolor": "rgb(17,17,17)",
           "landcolor": "rgb(17,17,17)",
           "showlakes": true,
           "showland": true,
           "subunitcolor": "#506784"
          },
          "hoverlabel": {
           "align": "left"
          },
          "hovermode": "closest",
          "mapbox": {
           "style": "dark"
          },
          "paper_bgcolor": "rgb(17,17,17)",
          "plot_bgcolor": "rgb(17,17,17)",
          "polar": {
           "angularaxis": {
            "gridcolor": "#506784",
            "linecolor": "#506784",
            "ticks": ""
           },
           "bgcolor": "rgb(17,17,17)",
           "radialaxis": {
            "gridcolor": "#506784",
            "linecolor": "#506784",
            "ticks": ""
           }
          },
          "scene": {
           "xaxis": {
            "backgroundcolor": "rgb(17,17,17)",
            "gridcolor": "#506784",
            "gridwidth": 2,
            "linecolor": "#506784",
            "showbackground": true,
            "ticks": "",
            "zerolinecolor": "#C8D4E3"
           },
           "yaxis": {
            "backgroundcolor": "rgb(17,17,17)",
            "gridcolor": "#506784",
            "gridwidth": 2,
            "linecolor": "#506784",
            "showbackground": true,
            "ticks": "",
            "zerolinecolor": "#C8D4E3"
           },
           "zaxis": {
            "backgroundcolor": "rgb(17,17,17)",
            "gridcolor": "#506784",
            "gridwidth": 2,
            "linecolor": "#506784",
            "showbackground": true,
            "ticks": "",
            "zerolinecolor": "#C8D4E3"
           }
          },
          "shapedefaults": {
           "line": {
            "color": "#f2f5fa"
           }
          },
          "sliderdefaults": {
           "bgcolor": "#C8D4E3",
           "bordercolor": "rgb(17,17,17)",
           "borderwidth": 1,
           "tickwidth": 0
          },
          "ternary": {
           "aaxis": {
            "gridcolor": "#506784",
            "linecolor": "#506784",
            "ticks": ""
           },
           "baxis": {
            "gridcolor": "#506784",
            "linecolor": "#506784",
            "ticks": ""
           },
           "bgcolor": "rgb(17,17,17)",
           "caxis": {
            "gridcolor": "#506784",
            "linecolor": "#506784",
            "ticks": ""
           }
          },
          "title": {
           "x": 0.05
          },
          "updatemenudefaults": {
           "bgcolor": "#506784",
           "borderwidth": 0
          },
          "xaxis": {
           "automargin": true,
           "gridcolor": "#283442",
           "linecolor": "#506784",
           "ticks": "",
           "title": {
            "standoff": 15
           },
           "zerolinecolor": "#283442",
           "zerolinewidth": 2
          },
          "yaxis": {
           "automargin": true,
           "gridcolor": "#283442",
           "linecolor": "#506784",
           "ticks": "",
           "title": {
            "standoff": 15
           },
           "zerolinecolor": "#283442",
           "zerolinewidth": 2
          }
         }
        },
        "title": {
         "text": "Page-impressions in category \"Gelenk- & Muskelpräparate\""
        },
        "xaxis": {
         "anchor": "y",
         "domain": [
          0,
          1
         ],
         "dtick": 1,
         "tickmode": "linear",
         "title": {
          "text": "month"
         }
        },
        "yaxis": {
         "anchor": "x",
         "domain": [
          0,
          1
         ],
         "title": {
          "text": "pageimpressions"
         }
        }
       }
      }
     },
     "metadata": {},
     "output_type": "display_data"
    }
   ],
   "source": [
    "#gelenkundmuskel = data.loc[data['category'] == \"Gelenk- & Muskelpräparate\"]\n",
    "gelenkundmuskel = data.loc[data['cat_id'] == 9]\n",
    "fig = px.bar(gelenkundmuskel, x=\"month\", y=\"pageimpressions\", template='plotly_dark',\n",
    "                    title='Page-impressions in category \"Gelenk- & Muskelpräparate\"')\n",
    "fig.update_layout(xaxis = dict(tickmode = 'linear', dtick = 1))\n",
    "fig.show()"
   ]
  },
  {
   "cell_type": "markdown",
   "metadata": {},
   "source": [
    "Bar Plot with two y-axes for \"page impressions\" & \"conversion rate\":"
   ]
  },
  {
   "cell_type": "code",
   "execution_count": 23,
   "metadata": {},
   "outputs": [
    {
     "data": {
      "application/vnd.plotly.v1+json": {
       "config": {
        "plotlyServerURL": "https://plot.ly"
       },
       "data": [
        {
         "name": "page impressions",
         "offsetgroup": "1",
         "type": "bar",
         "x": [
          1,
          2,
          3,
          4,
          5,
          6,
          7,
          8,
          9,
          10,
          11,
          12
         ],
         "y": [
          36156,
          46916,
          87064,
          100233,
          75479,
          54897,
          64260,
          60366,
          62572,
          62472,
          116394,
          105993
         ],
         "yaxis": "y"
        },
        {
         "name": "conversion rate",
         "offsetgroup": "2",
         "type": "bar",
         "x": [
          1,
          2,
          3,
          4,
          5,
          6,
          7,
          8,
          9,
          10,
          11,
          12
         ],
         "y": [
          0.226546078105985,
          0.228450848324665,
          0.202563631351649,
          0.240369938044357,
          0.238609414539143,
          0.241433958139789,
          0.2380174291939,
          0.23561276215088,
          0.22984721600716,
          0.239387245485978,
          0.218499235355774,
          0.210174256790543
         ],
         "yaxis": "y2"
        }
       ],
       "layout": {
        "barmode": "group",
        "legend": {
         "x": 0.99,
         "xanchor": "right",
         "y": 0.99,
         "yanchor": "bottom"
        },
        "template": {
         "data": {
          "bar": [
           {
            "error_x": {
             "color": "#f2f5fa"
            },
            "error_y": {
             "color": "#f2f5fa"
            },
            "marker": {
             "line": {
              "color": "rgb(17,17,17)",
              "width": 0.5
             },
             "pattern": {
              "fillmode": "overlay",
              "size": 10,
              "solidity": 0.2
             }
            },
            "type": "bar"
           }
          ],
          "barpolar": [
           {
            "marker": {
             "line": {
              "color": "rgb(17,17,17)",
              "width": 0.5
             },
             "pattern": {
              "fillmode": "overlay",
              "size": 10,
              "solidity": 0.2
             }
            },
            "type": "barpolar"
           }
          ],
          "carpet": [
           {
            "aaxis": {
             "endlinecolor": "#A2B1C6",
             "gridcolor": "#506784",
             "linecolor": "#506784",
             "minorgridcolor": "#506784",
             "startlinecolor": "#A2B1C6"
            },
            "baxis": {
             "endlinecolor": "#A2B1C6",
             "gridcolor": "#506784",
             "linecolor": "#506784",
             "minorgridcolor": "#506784",
             "startlinecolor": "#A2B1C6"
            },
            "type": "carpet"
           }
          ],
          "choropleth": [
           {
            "colorbar": {
             "outlinewidth": 0,
             "ticks": ""
            },
            "type": "choropleth"
           }
          ],
          "contour": [
           {
            "colorbar": {
             "outlinewidth": 0,
             "ticks": ""
            },
            "colorscale": [
             [
              0,
              "#0d0887"
             ],
             [
              0.1111111111111111,
              "#46039f"
             ],
             [
              0.2222222222222222,
              "#7201a8"
             ],
             [
              0.3333333333333333,
              "#9c179e"
             ],
             [
              0.4444444444444444,
              "#bd3786"
             ],
             [
              0.5555555555555556,
              "#d8576b"
             ],
             [
              0.6666666666666666,
              "#ed7953"
             ],
             [
              0.7777777777777778,
              "#fb9f3a"
             ],
             [
              0.8888888888888888,
              "#fdca26"
             ],
             [
              1,
              "#f0f921"
             ]
            ],
            "type": "contour"
           }
          ],
          "contourcarpet": [
           {
            "colorbar": {
             "outlinewidth": 0,
             "ticks": ""
            },
            "type": "contourcarpet"
           }
          ],
          "heatmap": [
           {
            "colorbar": {
             "outlinewidth": 0,
             "ticks": ""
            },
            "colorscale": [
             [
              0,
              "#0d0887"
             ],
             [
              0.1111111111111111,
              "#46039f"
             ],
             [
              0.2222222222222222,
              "#7201a8"
             ],
             [
              0.3333333333333333,
              "#9c179e"
             ],
             [
              0.4444444444444444,
              "#bd3786"
             ],
             [
              0.5555555555555556,
              "#d8576b"
             ],
             [
              0.6666666666666666,
              "#ed7953"
             ],
             [
              0.7777777777777778,
              "#fb9f3a"
             ],
             [
              0.8888888888888888,
              "#fdca26"
             ],
             [
              1,
              "#f0f921"
             ]
            ],
            "type": "heatmap"
           }
          ],
          "heatmapgl": [
           {
            "colorbar": {
             "outlinewidth": 0,
             "ticks": ""
            },
            "colorscale": [
             [
              0,
              "#0d0887"
             ],
             [
              0.1111111111111111,
              "#46039f"
             ],
             [
              0.2222222222222222,
              "#7201a8"
             ],
             [
              0.3333333333333333,
              "#9c179e"
             ],
             [
              0.4444444444444444,
              "#bd3786"
             ],
             [
              0.5555555555555556,
              "#d8576b"
             ],
             [
              0.6666666666666666,
              "#ed7953"
             ],
             [
              0.7777777777777778,
              "#fb9f3a"
             ],
             [
              0.8888888888888888,
              "#fdca26"
             ],
             [
              1,
              "#f0f921"
             ]
            ],
            "type": "heatmapgl"
           }
          ],
          "histogram": [
           {
            "marker": {
             "pattern": {
              "fillmode": "overlay",
              "size": 10,
              "solidity": 0.2
             }
            },
            "type": "histogram"
           }
          ],
          "histogram2d": [
           {
            "colorbar": {
             "outlinewidth": 0,
             "ticks": ""
            },
            "colorscale": [
             [
              0,
              "#0d0887"
             ],
             [
              0.1111111111111111,
              "#46039f"
             ],
             [
              0.2222222222222222,
              "#7201a8"
             ],
             [
              0.3333333333333333,
              "#9c179e"
             ],
             [
              0.4444444444444444,
              "#bd3786"
             ],
             [
              0.5555555555555556,
              "#d8576b"
             ],
             [
              0.6666666666666666,
              "#ed7953"
             ],
             [
              0.7777777777777778,
              "#fb9f3a"
             ],
             [
              0.8888888888888888,
              "#fdca26"
             ],
             [
              1,
              "#f0f921"
             ]
            ],
            "type": "histogram2d"
           }
          ],
          "histogram2dcontour": [
           {
            "colorbar": {
             "outlinewidth": 0,
             "ticks": ""
            },
            "colorscale": [
             [
              0,
              "#0d0887"
             ],
             [
              0.1111111111111111,
              "#46039f"
             ],
             [
              0.2222222222222222,
              "#7201a8"
             ],
             [
              0.3333333333333333,
              "#9c179e"
             ],
             [
              0.4444444444444444,
              "#bd3786"
             ],
             [
              0.5555555555555556,
              "#d8576b"
             ],
             [
              0.6666666666666666,
              "#ed7953"
             ],
             [
              0.7777777777777778,
              "#fb9f3a"
             ],
             [
              0.8888888888888888,
              "#fdca26"
             ],
             [
              1,
              "#f0f921"
             ]
            ],
            "type": "histogram2dcontour"
           }
          ],
          "mesh3d": [
           {
            "colorbar": {
             "outlinewidth": 0,
             "ticks": ""
            },
            "type": "mesh3d"
           }
          ],
          "parcoords": [
           {
            "line": {
             "colorbar": {
              "outlinewidth": 0,
              "ticks": ""
             }
            },
            "type": "parcoords"
           }
          ],
          "pie": [
           {
            "automargin": true,
            "type": "pie"
           }
          ],
          "scatter": [
           {
            "marker": {
             "line": {
              "color": "#283442"
             }
            },
            "type": "scatter"
           }
          ],
          "scatter3d": [
           {
            "line": {
             "colorbar": {
              "outlinewidth": 0,
              "ticks": ""
             }
            },
            "marker": {
             "colorbar": {
              "outlinewidth": 0,
              "ticks": ""
             }
            },
            "type": "scatter3d"
           }
          ],
          "scattercarpet": [
           {
            "marker": {
             "colorbar": {
              "outlinewidth": 0,
              "ticks": ""
             }
            },
            "type": "scattercarpet"
           }
          ],
          "scattergeo": [
           {
            "marker": {
             "colorbar": {
              "outlinewidth": 0,
              "ticks": ""
             }
            },
            "type": "scattergeo"
           }
          ],
          "scattergl": [
           {
            "marker": {
             "line": {
              "color": "#283442"
             }
            },
            "type": "scattergl"
           }
          ],
          "scattermapbox": [
           {
            "marker": {
             "colorbar": {
              "outlinewidth": 0,
              "ticks": ""
             }
            },
            "type": "scattermapbox"
           }
          ],
          "scatterpolar": [
           {
            "marker": {
             "colorbar": {
              "outlinewidth": 0,
              "ticks": ""
             }
            },
            "type": "scatterpolar"
           }
          ],
          "scatterpolargl": [
           {
            "marker": {
             "colorbar": {
              "outlinewidth": 0,
              "ticks": ""
             }
            },
            "type": "scatterpolargl"
           }
          ],
          "scatterternary": [
           {
            "marker": {
             "colorbar": {
              "outlinewidth": 0,
              "ticks": ""
             }
            },
            "type": "scatterternary"
           }
          ],
          "surface": [
           {
            "colorbar": {
             "outlinewidth": 0,
             "ticks": ""
            },
            "colorscale": [
             [
              0,
              "#0d0887"
             ],
             [
              0.1111111111111111,
              "#46039f"
             ],
             [
              0.2222222222222222,
              "#7201a8"
             ],
             [
              0.3333333333333333,
              "#9c179e"
             ],
             [
              0.4444444444444444,
              "#bd3786"
             ],
             [
              0.5555555555555556,
              "#d8576b"
             ],
             [
              0.6666666666666666,
              "#ed7953"
             ],
             [
              0.7777777777777778,
              "#fb9f3a"
             ],
             [
              0.8888888888888888,
              "#fdca26"
             ],
             [
              1,
              "#f0f921"
             ]
            ],
            "type": "surface"
           }
          ],
          "table": [
           {
            "cells": {
             "fill": {
              "color": "#506784"
             },
             "line": {
              "color": "rgb(17,17,17)"
             }
            },
            "header": {
             "fill": {
              "color": "#2a3f5f"
             },
             "line": {
              "color": "rgb(17,17,17)"
             }
            },
            "type": "table"
           }
          ]
         },
         "layout": {
          "annotationdefaults": {
           "arrowcolor": "#f2f5fa",
           "arrowhead": 0,
           "arrowwidth": 1
          },
          "autotypenumbers": "strict",
          "coloraxis": {
           "colorbar": {
            "outlinewidth": 0,
            "ticks": ""
           }
          },
          "colorscale": {
           "diverging": [
            [
             0,
             "#8e0152"
            ],
            [
             0.1,
             "#c51b7d"
            ],
            [
             0.2,
             "#de77ae"
            ],
            [
             0.3,
             "#f1b6da"
            ],
            [
             0.4,
             "#fde0ef"
            ],
            [
             0.5,
             "#f7f7f7"
            ],
            [
             0.6,
             "#e6f5d0"
            ],
            [
             0.7,
             "#b8e186"
            ],
            [
             0.8,
             "#7fbc41"
            ],
            [
             0.9,
             "#4d9221"
            ],
            [
             1,
             "#276419"
            ]
           ],
           "sequential": [
            [
             0,
             "#0d0887"
            ],
            [
             0.1111111111111111,
             "#46039f"
            ],
            [
             0.2222222222222222,
             "#7201a8"
            ],
            [
             0.3333333333333333,
             "#9c179e"
            ],
            [
             0.4444444444444444,
             "#bd3786"
            ],
            [
             0.5555555555555556,
             "#d8576b"
            ],
            [
             0.6666666666666666,
             "#ed7953"
            ],
            [
             0.7777777777777778,
             "#fb9f3a"
            ],
            [
             0.8888888888888888,
             "#fdca26"
            ],
            [
             1,
             "#f0f921"
            ]
           ],
           "sequentialminus": [
            [
             0,
             "#0d0887"
            ],
            [
             0.1111111111111111,
             "#46039f"
            ],
            [
             0.2222222222222222,
             "#7201a8"
            ],
            [
             0.3333333333333333,
             "#9c179e"
            ],
            [
             0.4444444444444444,
             "#bd3786"
            ],
            [
             0.5555555555555556,
             "#d8576b"
            ],
            [
             0.6666666666666666,
             "#ed7953"
            ],
            [
             0.7777777777777778,
             "#fb9f3a"
            ],
            [
             0.8888888888888888,
             "#fdca26"
            ],
            [
             1,
             "#f0f921"
            ]
           ]
          },
          "colorway": [
           "#636efa",
           "#EF553B",
           "#00cc96",
           "#ab63fa",
           "#FFA15A",
           "#19d3f3",
           "#FF6692",
           "#B6E880",
           "#FF97FF",
           "#FECB52"
          ],
          "font": {
           "color": "#f2f5fa"
          },
          "geo": {
           "bgcolor": "rgb(17,17,17)",
           "lakecolor": "rgb(17,17,17)",
           "landcolor": "rgb(17,17,17)",
           "showlakes": true,
           "showland": true,
           "subunitcolor": "#506784"
          },
          "hoverlabel": {
           "align": "left"
          },
          "hovermode": "closest",
          "mapbox": {
           "style": "dark"
          },
          "paper_bgcolor": "rgb(17,17,17)",
          "plot_bgcolor": "rgb(17,17,17)",
          "polar": {
           "angularaxis": {
            "gridcolor": "#506784",
            "linecolor": "#506784",
            "ticks": ""
           },
           "bgcolor": "rgb(17,17,17)",
           "radialaxis": {
            "gridcolor": "#506784",
            "linecolor": "#506784",
            "ticks": ""
           }
          },
          "scene": {
           "xaxis": {
            "backgroundcolor": "rgb(17,17,17)",
            "gridcolor": "#506784",
            "gridwidth": 2,
            "linecolor": "#506784",
            "showbackground": true,
            "ticks": "",
            "zerolinecolor": "#C8D4E3"
           },
           "yaxis": {
            "backgroundcolor": "rgb(17,17,17)",
            "gridcolor": "#506784",
            "gridwidth": 2,
            "linecolor": "#506784",
            "showbackground": true,
            "ticks": "",
            "zerolinecolor": "#C8D4E3"
           },
           "zaxis": {
            "backgroundcolor": "rgb(17,17,17)",
            "gridcolor": "#506784",
            "gridwidth": 2,
            "linecolor": "#506784",
            "showbackground": true,
            "ticks": "",
            "zerolinecolor": "#C8D4E3"
           }
          },
          "shapedefaults": {
           "line": {
            "color": "#f2f5fa"
           }
          },
          "sliderdefaults": {
           "bgcolor": "#C8D4E3",
           "bordercolor": "rgb(17,17,17)",
           "borderwidth": 1,
           "tickwidth": 0
          },
          "ternary": {
           "aaxis": {
            "gridcolor": "#506784",
            "linecolor": "#506784",
            "ticks": ""
           },
           "baxis": {
            "gridcolor": "#506784",
            "linecolor": "#506784",
            "ticks": ""
           },
           "bgcolor": "rgb(17,17,17)",
           "caxis": {
            "gridcolor": "#506784",
            "linecolor": "#506784",
            "ticks": ""
           }
          },
          "title": {
           "x": 0.05
          },
          "updatemenudefaults": {
           "bgcolor": "#506784",
           "borderwidth": 0
          },
          "xaxis": {
           "automargin": true,
           "gridcolor": "#283442",
           "linecolor": "#506784",
           "ticks": "",
           "title": {
            "standoff": 15
           },
           "zerolinecolor": "#283442",
           "zerolinewidth": 2
          },
          "yaxis": {
           "automargin": true,
           "gridcolor": "#283442",
           "linecolor": "#506784",
           "ticks": "",
           "title": {
            "standoff": 15
           },
           "zerolinecolor": "#283442",
           "zerolinewidth": 2
          }
         }
        },
        "title": {
         "text": "Page Impressions and Conversion Rate of Category: Kinderroller"
        },
        "xaxis": {
         "dtick": [
          12
         ],
         "title": {
          "text": "months"
         }
        },
        "yaxis": {
         "title": {
          "text": "page impressions"
         }
        },
        "yaxis2": {
         "overlaying": "y",
         "side": "right",
         "title": {
          "text": "conversion rate"
         }
        }
       }
      }
     },
     "metadata": {},
     "output_type": "display_data"
    }
   ],
   "source": [
    "cat_name = \"Kinderroller\"\n",
    "cat = data.loc[data['category'] == cat_name]\n",
    "\n",
    "fig = go.Figure(\n",
    "    data=[\n",
    "        go.Bar(name='page impressions', x=cat[\"month\"], y=cat[\"pageimpressions\"], yaxis='y', offsetgroup=1),\n",
    "        go.Bar(name='conversion rate', x=cat[\"month\"], y=cat[\"CR\"], yaxis='y2', offsetgroup=2)\n",
    "    ],\n",
    "    layout={\n",
    "        'yaxis': {'title': 'page impressions'},\n",
    "        'yaxis2': {'title': 'conversion rate', 'overlaying': 'y', 'side': 'right'}\n",
    "    }\n",
    ")\n",
    "# Change the bar mode\n",
    "fig.update_xaxes(title_text=\"months\", dtick=[len(cat.index)])\n",
    "fig.update_layout(title_text=f\"Page Impressions and Conversion Rate of Category: {cat_name}\", \n",
    "                barmode='group', template='plotly_dark',\n",
    "                legend=dict(yanchor=\"bottom\",y=0.99, xanchor=\"right\",x=0.99))\n",
    "fig.show()"
   ]
  },
  {
   "cell_type": "markdown",
   "metadata": {},
   "source": [
    "Plot and save all categories:"
   ]
  },
  {
   "cell_type": "code",
   "execution_count": 24,
   "metadata": {},
   "outputs": [],
   "source": [
    "#Plot and save page impressions of all categories:\n",
    "for cat_id in range(1,101):\n",
    "    cat = data.loc[data['cat_id'] == cat_id]\n",
    "    cat_name = cat.category.iloc[0]\n",
    "\n",
    "    fig = go.Figure(\n",
    "        data=[\n",
    "            go.Bar(name='page impressions', x=cat[\"month\"], y=cat[\"pageimpressions\"], yaxis='y', offsetgroup=1),\n",
    "            go.Bar(name='conversion rate', x=cat[\"month\"], y=cat[\"CR\"], yaxis='y2', offsetgroup=2)\n",
    "        ],\n",
    "        layout={\n",
    "            'yaxis': {'title': 'page impressions'},\n",
    "            'yaxis2': {'title': 'conversion rate', 'overlaying': 'y', 'side': 'right'}\n",
    "        }\n",
    "    )\n",
    "    # Change the bar mode\n",
    "    fig.update_xaxes(title_text=\"months\", dtick=[len(cat.index)])\n",
    "    fig.update_layout(title_text=f\"Page Impressions and Conversion Rate of Category: {cat_name}\", \n",
    "                    barmode='group', template='plotly_dark',\n",
    "                    legend=dict(yanchor=\"bottom\",y=0.99, xanchor=\"right\",x=0.99))\n",
    "    #fig.show()\n",
    "    #fig.write_image(f\"./data/plots/cat_PI_{cat_id}.png\", format='png', scale=1, width=1200, height=600)"
   ]
  },
  {
   "cell_type": "markdown",
   "metadata": {},
   "source": [
    "### Page impressions & conversion rate of all categories (monthly mean)"
   ]
  },
  {
   "cell_type": "code",
   "execution_count": 25,
   "metadata": {},
   "outputs": [
    {
     "data": {
      "text/html": [
       "<div>\n",
       "<style scoped>\n",
       "    .dataframe tbody tr th:only-of-type {\n",
       "        vertical-align: middle;\n",
       "    }\n",
       "\n",
       "    .dataframe tbody tr th {\n",
       "        vertical-align: top;\n",
       "    }\n",
       "\n",
       "    .dataframe thead th {\n",
       "        text-align: right;\n",
       "    }\n",
       "</style>\n",
       "<table border=\"1\" class=\"dataframe\">\n",
       "  <thead>\n",
       "    <tr style=\"text-align: right;\">\n",
       "      <th></th>\n",
       "      <th>category</th>\n",
       "      <th>month</th>\n",
       "      <th>pageimpressions</th>\n",
       "      <th>CR</th>\n",
       "      <th>cat_id</th>\n",
       "      <th>lead-out</th>\n",
       "    </tr>\n",
       "  </thead>\n",
       "  <tbody>\n",
       "    <tr>\n",
       "      <th>0</th>\n",
       "      <td>Herren-Halbschuhe</td>\n",
       "      <td>1.0</td>\n",
       "      <td>86496.0</td>\n",
       "      <td>0.239572</td>\n",
       "      <td>1</td>\n",
       "      <td>20722.0</td>\n",
       "    </tr>\n",
       "    <tr>\n",
       "      <th>1</th>\n",
       "      <td>Herren-Halbschuhe</td>\n",
       "      <td>2.0</td>\n",
       "      <td>75529.0</td>\n",
       "      <td>0.240967</td>\n",
       "      <td>1</td>\n",
       "      <td>18200.0</td>\n",
       "    </tr>\n",
       "    <tr>\n",
       "      <th>2</th>\n",
       "      <td>Herren-Halbschuhe</td>\n",
       "      <td>3.0</td>\n",
       "      <td>84195.0</td>\n",
       "      <td>0.232252</td>\n",
       "      <td>1</td>\n",
       "      <td>19554.0</td>\n",
       "    </tr>\n",
       "    <tr>\n",
       "      <th>3</th>\n",
       "      <td>Herren-Halbschuhe</td>\n",
       "      <td>4.0</td>\n",
       "      <td>92861.0</td>\n",
       "      <td>0.226737</td>\n",
       "      <td>1</td>\n",
       "      <td>21055.0</td>\n",
       "    </tr>\n",
       "    <tr>\n",
       "      <th>4</th>\n",
       "      <td>Herren-Halbschuhe</td>\n",
       "      <td>5.0</td>\n",
       "      <td>93876.0</td>\n",
       "      <td>0.244610</td>\n",
       "      <td>1</td>\n",
       "      <td>22963.0</td>\n",
       "    </tr>\n",
       "  </tbody>\n",
       "</table>\n",
       "</div>"
      ],
      "text/plain": [
       "            category  month  pageimpressions        CR  cat_id  lead-out\n",
       "0  Herren-Halbschuhe    1.0          86496.0  0.239572       1   20722.0\n",
       "1  Herren-Halbschuhe    2.0          75529.0  0.240967       1   18200.0\n",
       "2  Herren-Halbschuhe    3.0          84195.0  0.232252       1   19554.0\n",
       "3  Herren-Halbschuhe    4.0          92861.0  0.226737       1   21055.0\n",
       "4  Herren-Halbschuhe    5.0          93876.0  0.244610       1   22963.0"
      ]
     },
     "execution_count": 25,
     "metadata": {},
     "output_type": "execute_result"
    }
   ],
   "source": [
    "data[\"lead-out\"] = round(data['pageimpressions'] * data['CR'])\n",
    "data.head()\n"
   ]
  },
  {
   "cell_type": "code",
   "execution_count": 26,
   "metadata": {},
   "outputs": [
    {
     "data": {
      "application/vnd.plotly.v1+json": {
       "config": {
        "plotlyServerURL": "https://plot.ly"
       },
       "data": [
        {
         "name": "page impressions",
         "type": "scatter",
         "x": [
          1,
          2,
          3,
          4,
          5,
          6,
          7,
          8,
          9,
          10,
          11,
          12
         ],
         "xaxis": "x",
         "y": [
          71600.2,
          58235,
          68976.495,
          65947.745,
          65051.825,
          59237.975,
          65316.14,
          61397.11,
          58927.68,
          64099.995,
          85295.5,
          81674.485
         ],
         "yaxis": "y"
        },
        {
         "name": "lead-out",
         "type": "scatter",
         "x": [
          1,
          2,
          3,
          4,
          5,
          6,
          7,
          8,
          9,
          10,
          11,
          12
         ],
         "xaxis": "x",
         "y": [
          17427.47,
          14721.97,
          16837.01,
          16322.8,
          16671.9,
          15501.71,
          16232.61,
          15514.84,
          14851.99,
          16430.91,
          21656.02,
          20932.55
         ],
         "yaxis": "y"
        },
        {
         "name": "conversion rate",
         "type": "scatter",
         "x": [
          1,
          2,
          3,
          4,
          5,
          6,
          7,
          8,
          9,
          10,
          11,
          12
         ],
         "xaxis": "x",
         "y": [
          24.072477501257357,
          25.24972772594969,
          24.424002937244914,
          24.53506862826569,
          25.33731678696929,
          25.563853174203967,
          24.847898490127843,
          25.263416578112636,
          25.027401319993743,
          25.3001187871112,
          25.387547128009658,
          25.469109430011798
         ],
         "yaxis": "y2"
        }
       ],
       "layout": {
        "template": {
         "data": {
          "bar": [
           {
            "error_x": {
             "color": "#f2f5fa"
            },
            "error_y": {
             "color": "#f2f5fa"
            },
            "marker": {
             "line": {
              "color": "rgb(17,17,17)",
              "width": 0.5
             },
             "pattern": {
              "fillmode": "overlay",
              "size": 10,
              "solidity": 0.2
             }
            },
            "type": "bar"
           }
          ],
          "barpolar": [
           {
            "marker": {
             "line": {
              "color": "rgb(17,17,17)",
              "width": 0.5
             },
             "pattern": {
              "fillmode": "overlay",
              "size": 10,
              "solidity": 0.2
             }
            },
            "type": "barpolar"
           }
          ],
          "carpet": [
           {
            "aaxis": {
             "endlinecolor": "#A2B1C6",
             "gridcolor": "#506784",
             "linecolor": "#506784",
             "minorgridcolor": "#506784",
             "startlinecolor": "#A2B1C6"
            },
            "baxis": {
             "endlinecolor": "#A2B1C6",
             "gridcolor": "#506784",
             "linecolor": "#506784",
             "minorgridcolor": "#506784",
             "startlinecolor": "#A2B1C6"
            },
            "type": "carpet"
           }
          ],
          "choropleth": [
           {
            "colorbar": {
             "outlinewidth": 0,
             "ticks": ""
            },
            "type": "choropleth"
           }
          ],
          "contour": [
           {
            "colorbar": {
             "outlinewidth": 0,
             "ticks": ""
            },
            "colorscale": [
             [
              0,
              "#0d0887"
             ],
             [
              0.1111111111111111,
              "#46039f"
             ],
             [
              0.2222222222222222,
              "#7201a8"
             ],
             [
              0.3333333333333333,
              "#9c179e"
             ],
             [
              0.4444444444444444,
              "#bd3786"
             ],
             [
              0.5555555555555556,
              "#d8576b"
             ],
             [
              0.6666666666666666,
              "#ed7953"
             ],
             [
              0.7777777777777778,
              "#fb9f3a"
             ],
             [
              0.8888888888888888,
              "#fdca26"
             ],
             [
              1,
              "#f0f921"
             ]
            ],
            "type": "contour"
           }
          ],
          "contourcarpet": [
           {
            "colorbar": {
             "outlinewidth": 0,
             "ticks": ""
            },
            "type": "contourcarpet"
           }
          ],
          "heatmap": [
           {
            "colorbar": {
             "outlinewidth": 0,
             "ticks": ""
            },
            "colorscale": [
             [
              0,
              "#0d0887"
             ],
             [
              0.1111111111111111,
              "#46039f"
             ],
             [
              0.2222222222222222,
              "#7201a8"
             ],
             [
              0.3333333333333333,
              "#9c179e"
             ],
             [
              0.4444444444444444,
              "#bd3786"
             ],
             [
              0.5555555555555556,
              "#d8576b"
             ],
             [
              0.6666666666666666,
              "#ed7953"
             ],
             [
              0.7777777777777778,
              "#fb9f3a"
             ],
             [
              0.8888888888888888,
              "#fdca26"
             ],
             [
              1,
              "#f0f921"
             ]
            ],
            "type": "heatmap"
           }
          ],
          "heatmapgl": [
           {
            "colorbar": {
             "outlinewidth": 0,
             "ticks": ""
            },
            "colorscale": [
             [
              0,
              "#0d0887"
             ],
             [
              0.1111111111111111,
              "#46039f"
             ],
             [
              0.2222222222222222,
              "#7201a8"
             ],
             [
              0.3333333333333333,
              "#9c179e"
             ],
             [
              0.4444444444444444,
              "#bd3786"
             ],
             [
              0.5555555555555556,
              "#d8576b"
             ],
             [
              0.6666666666666666,
              "#ed7953"
             ],
             [
              0.7777777777777778,
              "#fb9f3a"
             ],
             [
              0.8888888888888888,
              "#fdca26"
             ],
             [
              1,
              "#f0f921"
             ]
            ],
            "type": "heatmapgl"
           }
          ],
          "histogram": [
           {
            "marker": {
             "pattern": {
              "fillmode": "overlay",
              "size": 10,
              "solidity": 0.2
             }
            },
            "type": "histogram"
           }
          ],
          "histogram2d": [
           {
            "colorbar": {
             "outlinewidth": 0,
             "ticks": ""
            },
            "colorscale": [
             [
              0,
              "#0d0887"
             ],
             [
              0.1111111111111111,
              "#46039f"
             ],
             [
              0.2222222222222222,
              "#7201a8"
             ],
             [
              0.3333333333333333,
              "#9c179e"
             ],
             [
              0.4444444444444444,
              "#bd3786"
             ],
             [
              0.5555555555555556,
              "#d8576b"
             ],
             [
              0.6666666666666666,
              "#ed7953"
             ],
             [
              0.7777777777777778,
              "#fb9f3a"
             ],
             [
              0.8888888888888888,
              "#fdca26"
             ],
             [
              1,
              "#f0f921"
             ]
            ],
            "type": "histogram2d"
           }
          ],
          "histogram2dcontour": [
           {
            "colorbar": {
             "outlinewidth": 0,
             "ticks": ""
            },
            "colorscale": [
             [
              0,
              "#0d0887"
             ],
             [
              0.1111111111111111,
              "#46039f"
             ],
             [
              0.2222222222222222,
              "#7201a8"
             ],
             [
              0.3333333333333333,
              "#9c179e"
             ],
             [
              0.4444444444444444,
              "#bd3786"
             ],
             [
              0.5555555555555556,
              "#d8576b"
             ],
             [
              0.6666666666666666,
              "#ed7953"
             ],
             [
              0.7777777777777778,
              "#fb9f3a"
             ],
             [
              0.8888888888888888,
              "#fdca26"
             ],
             [
              1,
              "#f0f921"
             ]
            ],
            "type": "histogram2dcontour"
           }
          ],
          "mesh3d": [
           {
            "colorbar": {
             "outlinewidth": 0,
             "ticks": ""
            },
            "type": "mesh3d"
           }
          ],
          "parcoords": [
           {
            "line": {
             "colorbar": {
              "outlinewidth": 0,
              "ticks": ""
             }
            },
            "type": "parcoords"
           }
          ],
          "pie": [
           {
            "automargin": true,
            "type": "pie"
           }
          ],
          "scatter": [
           {
            "marker": {
             "line": {
              "color": "#283442"
             }
            },
            "type": "scatter"
           }
          ],
          "scatter3d": [
           {
            "line": {
             "colorbar": {
              "outlinewidth": 0,
              "ticks": ""
             }
            },
            "marker": {
             "colorbar": {
              "outlinewidth": 0,
              "ticks": ""
             }
            },
            "type": "scatter3d"
           }
          ],
          "scattercarpet": [
           {
            "marker": {
             "colorbar": {
              "outlinewidth": 0,
              "ticks": ""
             }
            },
            "type": "scattercarpet"
           }
          ],
          "scattergeo": [
           {
            "marker": {
             "colorbar": {
              "outlinewidth": 0,
              "ticks": ""
             }
            },
            "type": "scattergeo"
           }
          ],
          "scattergl": [
           {
            "marker": {
             "line": {
              "color": "#283442"
             }
            },
            "type": "scattergl"
           }
          ],
          "scattermapbox": [
           {
            "marker": {
             "colorbar": {
              "outlinewidth": 0,
              "ticks": ""
             }
            },
            "type": "scattermapbox"
           }
          ],
          "scatterpolar": [
           {
            "marker": {
             "colorbar": {
              "outlinewidth": 0,
              "ticks": ""
             }
            },
            "type": "scatterpolar"
           }
          ],
          "scatterpolargl": [
           {
            "marker": {
             "colorbar": {
              "outlinewidth": 0,
              "ticks": ""
             }
            },
            "type": "scatterpolargl"
           }
          ],
          "scatterternary": [
           {
            "marker": {
             "colorbar": {
              "outlinewidth": 0,
              "ticks": ""
             }
            },
            "type": "scatterternary"
           }
          ],
          "surface": [
           {
            "colorbar": {
             "outlinewidth": 0,
             "ticks": ""
            },
            "colorscale": [
             [
              0,
              "#0d0887"
             ],
             [
              0.1111111111111111,
              "#46039f"
             ],
             [
              0.2222222222222222,
              "#7201a8"
             ],
             [
              0.3333333333333333,
              "#9c179e"
             ],
             [
              0.4444444444444444,
              "#bd3786"
             ],
             [
              0.5555555555555556,
              "#d8576b"
             ],
             [
              0.6666666666666666,
              "#ed7953"
             ],
             [
              0.7777777777777778,
              "#fb9f3a"
             ],
             [
              0.8888888888888888,
              "#fdca26"
             ],
             [
              1,
              "#f0f921"
             ]
            ],
            "type": "surface"
           }
          ],
          "table": [
           {
            "cells": {
             "fill": {
              "color": "#506784"
             },
             "line": {
              "color": "rgb(17,17,17)"
             }
            },
            "header": {
             "fill": {
              "color": "#2a3f5f"
             },
             "line": {
              "color": "rgb(17,17,17)"
             }
            },
            "type": "table"
           }
          ]
         },
         "layout": {
          "annotationdefaults": {
           "arrowcolor": "#f2f5fa",
           "arrowhead": 0,
           "arrowwidth": 1
          },
          "autotypenumbers": "strict",
          "coloraxis": {
           "colorbar": {
            "outlinewidth": 0,
            "ticks": ""
           }
          },
          "colorscale": {
           "diverging": [
            [
             0,
             "#8e0152"
            ],
            [
             0.1,
             "#c51b7d"
            ],
            [
             0.2,
             "#de77ae"
            ],
            [
             0.3,
             "#f1b6da"
            ],
            [
             0.4,
             "#fde0ef"
            ],
            [
             0.5,
             "#f7f7f7"
            ],
            [
             0.6,
             "#e6f5d0"
            ],
            [
             0.7,
             "#b8e186"
            ],
            [
             0.8,
             "#7fbc41"
            ],
            [
             0.9,
             "#4d9221"
            ],
            [
             1,
             "#276419"
            ]
           ],
           "sequential": [
            [
             0,
             "#0d0887"
            ],
            [
             0.1111111111111111,
             "#46039f"
            ],
            [
             0.2222222222222222,
             "#7201a8"
            ],
            [
             0.3333333333333333,
             "#9c179e"
            ],
            [
             0.4444444444444444,
             "#bd3786"
            ],
            [
             0.5555555555555556,
             "#d8576b"
            ],
            [
             0.6666666666666666,
             "#ed7953"
            ],
            [
             0.7777777777777778,
             "#fb9f3a"
            ],
            [
             0.8888888888888888,
             "#fdca26"
            ],
            [
             1,
             "#f0f921"
            ]
           ],
           "sequentialminus": [
            [
             0,
             "#0d0887"
            ],
            [
             0.1111111111111111,
             "#46039f"
            ],
            [
             0.2222222222222222,
             "#7201a8"
            ],
            [
             0.3333333333333333,
             "#9c179e"
            ],
            [
             0.4444444444444444,
             "#bd3786"
            ],
            [
             0.5555555555555556,
             "#d8576b"
            ],
            [
             0.6666666666666666,
             "#ed7953"
            ],
            [
             0.7777777777777778,
             "#fb9f3a"
            ],
            [
             0.8888888888888888,
             "#fdca26"
            ],
            [
             1,
             "#f0f921"
            ]
           ]
          },
          "colorway": [
           "#636efa",
           "#EF553B",
           "#00cc96",
           "#ab63fa",
           "#FFA15A",
           "#19d3f3",
           "#FF6692",
           "#B6E880",
           "#FF97FF",
           "#FECB52"
          ],
          "font": {
           "color": "#f2f5fa"
          },
          "geo": {
           "bgcolor": "rgb(17,17,17)",
           "lakecolor": "rgb(17,17,17)",
           "landcolor": "rgb(17,17,17)",
           "showlakes": true,
           "showland": true,
           "subunitcolor": "#506784"
          },
          "hoverlabel": {
           "align": "left"
          },
          "hovermode": "closest",
          "mapbox": {
           "style": "dark"
          },
          "paper_bgcolor": "rgb(17,17,17)",
          "plot_bgcolor": "rgb(17,17,17)",
          "polar": {
           "angularaxis": {
            "gridcolor": "#506784",
            "linecolor": "#506784",
            "ticks": ""
           },
           "bgcolor": "rgb(17,17,17)",
           "radialaxis": {
            "gridcolor": "#506784",
            "linecolor": "#506784",
            "ticks": ""
           }
          },
          "scene": {
           "xaxis": {
            "backgroundcolor": "rgb(17,17,17)",
            "gridcolor": "#506784",
            "gridwidth": 2,
            "linecolor": "#506784",
            "showbackground": true,
            "ticks": "",
            "zerolinecolor": "#C8D4E3"
           },
           "yaxis": {
            "backgroundcolor": "rgb(17,17,17)",
            "gridcolor": "#506784",
            "gridwidth": 2,
            "linecolor": "#506784",
            "showbackground": true,
            "ticks": "",
            "zerolinecolor": "#C8D4E3"
           },
           "zaxis": {
            "backgroundcolor": "rgb(17,17,17)",
            "gridcolor": "#506784",
            "gridwidth": 2,
            "linecolor": "#506784",
            "showbackground": true,
            "ticks": "",
            "zerolinecolor": "#C8D4E3"
           }
          },
          "shapedefaults": {
           "line": {
            "color": "#f2f5fa"
           }
          },
          "sliderdefaults": {
           "bgcolor": "#C8D4E3",
           "bordercolor": "rgb(17,17,17)",
           "borderwidth": 1,
           "tickwidth": 0
          },
          "ternary": {
           "aaxis": {
            "gridcolor": "#506784",
            "linecolor": "#506784",
            "ticks": ""
           },
           "baxis": {
            "gridcolor": "#506784",
            "linecolor": "#506784",
            "ticks": ""
           },
           "bgcolor": "rgb(17,17,17)",
           "caxis": {
            "gridcolor": "#506784",
            "linecolor": "#506784",
            "ticks": ""
           }
          },
          "title": {
           "x": 0.05
          },
          "updatemenudefaults": {
           "bgcolor": "#506784",
           "borderwidth": 0
          },
          "xaxis": {
           "automargin": true,
           "gridcolor": "#283442",
           "linecolor": "#506784",
           "ticks": "",
           "title": {
            "standoff": 15
           },
           "zerolinecolor": "#283442",
           "zerolinewidth": 2
          },
          "yaxis": {
           "automargin": true,
           "gridcolor": "#283442",
           "linecolor": "#506784",
           "ticks": "",
           "title": {
            "standoff": 15
           },
           "zerolinecolor": "#283442",
           "zerolinewidth": 2
          }
         }
        },
        "title": {
         "text": "Page impressions, conversion rate & lead-out (all categories, mean)"
        },
        "xaxis": {
         "anchor": "y",
         "domain": [
          0,
          0.94
         ],
         "dtick": [
          1,
          12
         ],
         "title": {
          "text": "months"
         }
        },
        "yaxis": {
         "anchor": "x",
         "domain": [
          0,
          1
         ],
         "range": [
          10000,
          90000
         ],
         "title": {
          "text": "page impressions / lead-out"
         }
        },
        "yaxis2": {
         "anchor": "x",
         "overlaying": "y",
         "range": [
          24,
          26
         ],
         "side": "right",
         "title": {
          "text": "conversion rate %"
         }
        }
       }
      }
     },
     "metadata": {},
     "output_type": "display_data"
    }
   ],
   "source": [
    "monthly_pi = data['pageimpressions'].groupby(data['month']).mean()\n",
    "monthly_cr = data['CR'].groupby(data['month']).mean()\n",
    "monthly_lo = data['lead-out'].groupby(data['month']).mean()\n",
    "\n",
    "fig = make_subplots(specs=[[{\"secondary_y\": True, \"type\": \"xy\"}]])\n",
    "fig.add_trace(go.Scatter(y=monthly_pi, x=monthly_pi.index, name=\"page impressions\"), secondary_y=False)\n",
    "fig.add_trace(go.Scatter(y=monthly_lo, x=monthly_lo.index, name=\"lead-out\"), secondary_y=False)\n",
    "fig.add_trace(go.Scatter(y=monthly_cr*100, x=monthly_cr.index, name=\"conversion rate\"), secondary_y=True)\n",
    "fig.update_layout(title_text=\"Page impressions, conversion rate & lead-out (all categories, mean)\", template='plotly_dark')\n",
    "fig.update_xaxes(title_text=\"months\", dtick=[1,len(monthly_cr.index)])\n",
    "fig.update_yaxes(title_text=\"page impressions / lead-out\", secondary_y=False, range=[10000,90000])\n",
    "fig.update_yaxes(title_text=\"conversion rate %\", secondary_y=True, range=[24,26])\n",
    "fig.show()"
   ]
  },
  {
   "cell_type": "markdown",
   "metadata": {},
   "source": [
    "### Ordering categories by mean conversion rate"
   ]
  },
  {
   "cell_type": "code",
   "execution_count": 32,
   "metadata": {},
   "outputs": [
    {
     "data": {
      "text/html": [
       "<div>\n",
       "<style scoped>\n",
       "    .dataframe tbody tr th:only-of-type {\n",
       "        vertical-align: middle;\n",
       "    }\n",
       "\n",
       "    .dataframe tbody tr th {\n",
       "        vertical-align: top;\n",
       "    }\n",
       "\n",
       "    .dataframe thead th {\n",
       "        text-align: right;\n",
       "    }\n",
       "</style>\n",
       "<table border=\"1\" class=\"dataframe\">\n",
       "  <thead>\n",
       "    <tr style=\"text-align: right;\">\n",
       "      <th>category</th>\n",
       "      <th>Kaffeemaschinen-Reinigung</th>\n",
       "      <th>Homöopathie</th>\n",
       "      <th>Sonnenpflege</th>\n",
       "      <th>Schmerzmittel</th>\n",
       "      <th>Augen-, Ohren- &amp; Nasenmedikamente</th>\n",
       "      <th>Magen-Darm-Medikamente</th>\n",
       "      <th>Autobatterien</th>\n",
       "      <th>Duschprodukte &amp; Badprodukte</th>\n",
       "      <th>Sanitärinstallation</th>\n",
       "      <th>Gelenk- &amp; Muskelpräparate</th>\n",
       "      <th>Haarfarben</th>\n",
       "      <th>Reinigungsmittel</th>\n",
       "      <th>Matratzen</th>\n",
       "      <th>Pflege-Geschenksets</th>\n",
       "      <th>Kaffee &amp; Espresso</th>\n",
       "      <th>Rauchmelder</th>\n",
       "      <th>WC</th>\n",
       "      <th>Akkus &amp; Batterien</th>\n",
       "      <th>Sportnahrung</th>\n",
       "      <th>Küchenarmaturen</th>\n",
       "      <th>Rasierklingen &amp; Scherköpfe</th>\n",
       "      <th>Spielzeug-Fahrzeuge</th>\n",
       "      <th>Steckdosen</th>\n",
       "      <th>Gartenlampen</th>\n",
       "      <th>Kuscheltiere</th>\n",
       "      <th>Messer</th>\n",
       "      <th>Xbox One Spiele</th>\n",
       "      <th>Sonnenschirme</th>\n",
       "      <th>Spülen</th>\n",
       "      <th>Kamerataschen</th>\n",
       "      <th>Zubehör für Küchengeräte</th>\n",
       "      <th>Laserdrucker</th>\n",
       "      <th>Betriebssysteme</th>\n",
       "      <th>Gartenhäuser</th>\n",
       "      <th>Fahrradbeleuchtung</th>\n",
       "      <th>Motorsensen</th>\n",
       "      <th>Hairstyler</th>\n",
       "      <th>Gartenpumpen</th>\n",
       "      <th>Fahrradschlösser</th>\n",
       "      <th>Outdoor-Navigation</th>\n",
       "      <th>Motorradreifen</th>\n",
       "      <th>Trinkflaschen</th>\n",
       "      <th>PC-Spiele</th>\n",
       "      <th>Haartrockner</th>\n",
       "      <th>Nähmaschinen</th>\n",
       "      <th>Kamera-Stative</th>\n",
       "      <th>Kompressoren</th>\n",
       "      <th>Taschenmesser</th>\n",
       "      <th>Thermostate</th>\n",
       "      <th>Kamine &amp; Öfen</th>\n",
       "      <th>Rennräder</th>\n",
       "      <th>Mülleimer</th>\n",
       "      <th>Geldbörsen</th>\n",
       "      <th>Sportbrillen</th>\n",
       "      <th>Bestecke</th>\n",
       "      <th>Hochstühle</th>\n",
       "      <th>Herren-Stiefel</th>\n",
       "      <th>Kinderroller</th>\n",
       "      <th>Umhängetaschen</th>\n",
       "      <th>Fahrradanhänger</th>\n",
       "      <th>Eingabestifte</th>\n",
       "      <th>Plattenspieler</th>\n",
       "      <th>All in One PCs</th>\n",
       "      <th>Trainingsanzüge</th>\n",
       "      <th>Waschtrockner</th>\n",
       "      <th>Herren-Halbschuhe</th>\n",
       "      <th>Multifunktionswerkzeuge</th>\n",
       "      <th>Gartenschläuche</th>\n",
       "      <th>Skihelme &amp; Snowboardhelme</th>\n",
       "      <th>Modelleisenbahnen</th>\n",
       "      <th>Gartenstühle</th>\n",
       "      <th>Gin</th>\n",
       "      <th>Epilierer &amp; Ladyshaver</th>\n",
       "      <th>Rum</th>\n",
       "      <th>Fritteusen</th>\n",
       "      <th>Spirituosen &amp; Schnaps</th>\n",
       "      <th>Thermoskannen</th>\n",
       "      <th>Ferngläser</th>\n",
       "      <th>Verstärker</th>\n",
       "      <th>Kapselmaschinen</th>\n",
       "      <th>Liköre</th>\n",
       "      <th>PC-Gehäuse</th>\n",
       "      <th>Stichsägen</th>\n",
       "      <th>Kühlboxen</th>\n",
       "      <th>Schlagschrauber</th>\n",
       "      <th>VR-Brillen</th>\n",
       "      <th>Kinderfahrräder</th>\n",
       "      <th>Dünger</th>\n",
       "      <th>USB Sticks</th>\n",
       "      <th>PowerLine</th>\n",
       "      <th>Bridgekameras</th>\n",
       "      <th>Herren-Shirts</th>\n",
       "      <th>Clogs</th>\n",
       "      <th>Champagner, Sekt &amp; Prosecco</th>\n",
       "      <th>Einkaufstaschen</th>\n",
       "      <th>Trekkingsandalen</th>\n",
       "      <th>Bohrer &amp; Bits</th>\n",
       "      <th>Funktionsunterwäsche</th>\n",
       "      <th>Kaffeepadmaschinen</th>\n",
       "      <th>Steuersoftware</th>\n",
       "    </tr>\n",
       "  </thead>\n",
       "  <tbody>\n",
       "    <tr>\n",
       "      <th>CR</th>\n",
       "      <td>0.418989</td>\n",
       "      <td>0.401374</td>\n",
       "      <td>0.387876</td>\n",
       "      <td>0.383254</td>\n",
       "      <td>0.382424</td>\n",
       "      <td>0.372984</td>\n",
       "      <td>0.365732</td>\n",
       "      <td>0.357189</td>\n",
       "      <td>0.34048</td>\n",
       "      <td>0.310512</td>\n",
       "      <td>0.310023</td>\n",
       "      <td>0.309213</td>\n",
       "      <td>0.309174</td>\n",
       "      <td>0.307174</td>\n",
       "      <td>0.307125</td>\n",
       "      <td>0.306563</td>\n",
       "      <td>0.306066</td>\n",
       "      <td>0.295126</td>\n",
       "      <td>0.285181</td>\n",
       "      <td>0.277133</td>\n",
       "      <td>0.276841</td>\n",
       "      <td>0.276839</td>\n",
       "      <td>0.275448</td>\n",
       "      <td>0.270469</td>\n",
       "      <td>0.269296</td>\n",
       "      <td>0.267403</td>\n",
       "      <td>0.266979</td>\n",
       "      <td>0.26682</td>\n",
       "      <td>0.266104</td>\n",
       "      <td>0.262814</td>\n",
       "      <td>0.262198</td>\n",
       "      <td>0.262006</td>\n",
       "      <td>0.261561</td>\n",
       "      <td>0.2611</td>\n",
       "      <td>0.260838</td>\n",
       "      <td>0.25995</td>\n",
       "      <td>0.2561</td>\n",
       "      <td>0.253824</td>\n",
       "      <td>0.252756</td>\n",
       "      <td>0.250382</td>\n",
       "      <td>0.24896</td>\n",
       "      <td>0.248677</td>\n",
       "      <td>0.248345</td>\n",
       "      <td>0.247779</td>\n",
       "      <td>0.24349</td>\n",
       "      <td>0.242384</td>\n",
       "      <td>0.241671</td>\n",
       "      <td>0.240175</td>\n",
       "      <td>0.239729</td>\n",
       "      <td>0.239592</td>\n",
       "      <td>0.239455</td>\n",
       "      <td>0.239303</td>\n",
       "      <td>0.238668</td>\n",
       "      <td>0.237316</td>\n",
       "      <td>0.233324</td>\n",
       "      <td>0.232998</td>\n",
       "      <td>0.231112</td>\n",
       "      <td>0.229126</td>\n",
       "      <td>0.229001</td>\n",
       "      <td>0.228307</td>\n",
       "      <td>0.226428</td>\n",
       "      <td>0.226312</td>\n",
       "      <td>0.22608</td>\n",
       "      <td>0.225727</td>\n",
       "      <td>0.225246</td>\n",
       "      <td>0.224436</td>\n",
       "      <td>0.223366</td>\n",
       "      <td>0.223021</td>\n",
       "      <td>0.222892</td>\n",
       "      <td>0.222442</td>\n",
       "      <td>0.222324</td>\n",
       "      <td>0.221983</td>\n",
       "      <td>0.221077</td>\n",
       "      <td>0.220421</td>\n",
       "      <td>0.218302</td>\n",
       "      <td>0.21766</td>\n",
       "      <td>0.217576</td>\n",
       "      <td>0.216469</td>\n",
       "      <td>0.213115</td>\n",
       "      <td>0.21029</td>\n",
       "      <td>0.20756</td>\n",
       "      <td>0.202691</td>\n",
       "      <td>0.201132</td>\n",
       "      <td>0.20113</td>\n",
       "      <td>0.199075</td>\n",
       "      <td>0.196971</td>\n",
       "      <td>0.195116</td>\n",
       "      <td>0.194822</td>\n",
       "      <td>0.19467</td>\n",
       "      <td>0.193175</td>\n",
       "      <td>0.192852</td>\n",
       "      <td>0.192783</td>\n",
       "      <td>0.190583</td>\n",
       "      <td>0.189898</td>\n",
       "      <td>0.188988</td>\n",
       "      <td>0.187318</td>\n",
       "      <td>0.183619</td>\n",
       "      <td>0.182675</td>\n",
       "      <td>0.175107</td>\n",
       "      <td>0.151764</td>\n",
       "    </tr>\n",
       "  </tbody>\n",
       "</table>\n",
       "</div>"
      ],
      "text/plain": [
       "category  Kaffeemaschinen-Reinigung  Homöopathie  Sonnenpflege  Schmerzmittel  \\\n",
       "CR                         0.418989     0.401374      0.387876       0.383254   \n",
       "\n",
       "category  Augen-, Ohren- & Nasenmedikamente  Magen-Darm-Medikamente  \\\n",
       "CR                                 0.382424                0.372984   \n",
       "\n",
       "category  Autobatterien  Duschprodukte & Badprodukte  Sanitärinstallation  \\\n",
       "CR             0.365732                     0.357189              0.34048   \n",
       "\n",
       "category  Gelenk- & Muskelpräparate  Haarfarben  Reinigungsmittel  Matratzen  \\\n",
       "CR                         0.310512    0.310023          0.309213   0.309174   \n",
       "\n",
       "category  Pflege-Geschenksets  Kaffee & Espresso  Rauchmelder        WC  \\\n",
       "CR                   0.307174           0.307125     0.306563  0.306066   \n",
       "\n",
       "category  Akkus & Batterien  Sportnahrung  Küchenarmaturen  \\\n",
       "CR                 0.295126      0.285181         0.277133   \n",
       "\n",
       "category  Rasierklingen & Scherköpfe  Spielzeug-Fahrzeuge  Steckdosen  \\\n",
       "CR                          0.276841             0.276839    0.275448   \n",
       "\n",
       "category  Gartenlampen  Kuscheltiere    Messer  Xbox One Spiele  \\\n",
       "CR            0.270469      0.269296  0.267403         0.266979   \n",
       "\n",
       "category  Sonnenschirme    Spülen  Kamerataschen  Zubehör für Küchengeräte  \\\n",
       "CR              0.26682  0.266104       0.262814                  0.262198   \n",
       "\n",
       "category  Laserdrucker  Betriebssysteme  Gartenhäuser  Fahrradbeleuchtung  \\\n",
       "CR            0.262006         0.261561        0.2611            0.260838   \n",
       "\n",
       "category  Motorsensen  Hairstyler  Gartenpumpen  Fahrradschlösser  \\\n",
       "CR            0.25995      0.2561      0.253824          0.252756   \n",
       "\n",
       "category  Outdoor-Navigation  Motorradreifen  Trinkflaschen  PC-Spiele  \\\n",
       "CR                  0.250382         0.24896       0.248677   0.248345   \n",
       "\n",
       "category  Haartrockner  Nähmaschinen  Kamera-Stative  Kompressoren  \\\n",
       "CR            0.247779       0.24349        0.242384      0.241671   \n",
       "\n",
       "category  Taschenmesser  Thermostate  Kamine & Öfen  Rennräder  Mülleimer  \\\n",
       "CR             0.240175     0.239729       0.239592   0.239455   0.239303   \n",
       "\n",
       "category  Geldbörsen  Sportbrillen  Bestecke  Hochstühle  Herren-Stiefel  \\\n",
       "CR          0.238668      0.237316  0.233324    0.232998        0.231112   \n",
       "\n",
       "category  Kinderroller  Umhängetaschen  Fahrradanhänger  Eingabestifte  \\\n",
       "CR            0.229126        0.229001         0.228307       0.226428   \n",
       "\n",
       "category  Plattenspieler  All in One PCs  Trainingsanzüge  Waschtrockner  \\\n",
       "CR              0.226312         0.22608         0.225727       0.225246   \n",
       "\n",
       "category  Herren-Halbschuhe  Multifunktionswerkzeuge  Gartenschläuche  \\\n",
       "CR                 0.224436                 0.223366         0.223021   \n",
       "\n",
       "category  Skihelme & Snowboardhelme  Modelleisenbahnen  Gartenstühle  \\\n",
       "CR                         0.222892           0.222442      0.222324   \n",
       "\n",
       "category       Gin  Epilierer & Ladyshaver       Rum  Fritteusen  \\\n",
       "CR        0.221983                0.221077  0.220421    0.218302   \n",
       "\n",
       "category  Spirituosen & Schnaps  Thermoskannen  Ferngläser  Verstärker  \\\n",
       "CR                      0.21766       0.217576    0.216469    0.213115   \n",
       "\n",
       "category  Kapselmaschinen   Liköre  PC-Gehäuse  Stichsägen  Kühlboxen  \\\n",
       "CR                0.21029  0.20756    0.202691    0.201132    0.20113   \n",
       "\n",
       "category  Schlagschrauber  VR-Brillen  Kinderfahrräder    Dünger  USB Sticks  \\\n",
       "CR               0.199075    0.196971         0.195116  0.194822     0.19467   \n",
       "\n",
       "category  PowerLine  Bridgekameras  Herren-Shirts     Clogs  \\\n",
       "CR         0.193175       0.192852       0.192783  0.190583   \n",
       "\n",
       "category  Champagner, Sekt & Prosecco  Einkaufstaschen  Trekkingsandalen  \\\n",
       "CR                           0.189898         0.188988          0.187318   \n",
       "\n",
       "category  Bohrer & Bits  Funktionsunterwäsche  Kaffeepadmaschinen  \\\n",
       "CR             0.183619              0.182675            0.175107   \n",
       "\n",
       "category  Steuersoftware  \n",
       "CR              0.151764  "
      ]
     },
     "execution_count": 32,
     "metadata": {},
     "output_type": "execute_result"
    }
   ],
   "source": [
    "pd.set_option(\"display.max_columns\", None)\n",
    "cat_mean_cr = data['CR'].groupby(data['category']).mean()\n",
    "cat_mean_cr = pd.DataFrame(cat_mean_cr)\n",
    "cat_mean_cr.sort_values(by=[\"CR\"], ascending=False, inplace=True)\n",
    "cat_mean_cr.transpose()"
   ]
  },
  {
   "cell_type": "markdown",
   "metadata": {},
   "source": [
    "# Clustering Seasonality Patterns"
   ]
  },
  {
   "cell_type": "markdown",
   "metadata": {},
   "source": [
    "https://tslearn.readthedocs.io/en/stable/auto_examples/clustering/plot_kmeans.html#sphx-glr-auto-examples-clustering-plot-kmeans-py"
   ]
  },
  {
   "cell_type": "markdown",
   "metadata": {},
   "source": [
    "Prepare Data for Clustering:\n",
    "- page impressions\n",
    "- conversion rate\n",
    "- lead-out (pi * cr)"
   ]
  },
  {
   "cell_type": "code",
   "execution_count": 82,
   "metadata": {},
   "outputs": [
    {
     "data": {
      "text/plain": [
       "(            category  month  pageimpressions\n",
       " 0  Herren-Halbschuhe    1.0          86496.0\n",
       " 1  Herren-Halbschuhe    2.0          75529.0\n",
       " 2  Herren-Halbschuhe    3.0          84195.0,\n",
       "             category  month        CR\n",
       " 0  Herren-Halbschuhe    1.0  0.239572\n",
       " 1  Herren-Halbschuhe    2.0  0.240967\n",
       " 2  Herren-Halbschuhe    3.0  0.232252,\n",
       "             category  month  lead-out\n",
       " 0  Herren-Halbschuhe    1.0   20722.0\n",
       " 1  Herren-Halbschuhe    2.0   18200.0\n",
       " 2  Herren-Halbschuhe    3.0   19554.0)"
      ]
     },
     "execution_count": 82,
     "metadata": {},
     "output_type": "execute_result"
    }
   ],
   "source": [
    "data_pi = data[['category', 'month', 'pageimpressions']]\n",
    "data_cr = data[['category', 'month', 'CR']]\n",
    "data_lo = data[['category', 'month', 'lead-out']]\n",
    "data_pi.head(3), data_cr.head(3), data_lo.head(3)\n"
   ]
  },
  {
   "cell_type": "code",
   "execution_count": 83,
   "metadata": {},
   "outputs": [
    {
     "data": {
      "text/html": [
       "<div>\n",
       "<style scoped>\n",
       "    .dataframe tbody tr th:only-of-type {\n",
       "        vertical-align: middle;\n",
       "    }\n",
       "\n",
       "    .dataframe tbody tr th {\n",
       "        vertical-align: top;\n",
       "    }\n",
       "\n",
       "    .dataframe thead th {\n",
       "        text-align: right;\n",
       "    }\n",
       "</style>\n",
       "<table border=\"1\" class=\"dataframe\">\n",
       "  <thead>\n",
       "    <tr style=\"text-align: right;\">\n",
       "      <th>category</th>\n",
       "      <th>Akkus &amp; Batterien</th>\n",
       "      <th>All in One PCs</th>\n",
       "      <th>Augen-, Ohren- &amp; Nasenmedikamente</th>\n",
       "      <th>Autobatterien</th>\n",
       "      <th>Bestecke</th>\n",
       "      <th>Betriebssysteme</th>\n",
       "      <th>Bohrer &amp; Bits</th>\n",
       "      <th>Bridgekameras</th>\n",
       "      <th>Champagner, Sekt &amp; Prosecco</th>\n",
       "      <th>Clogs</th>\n",
       "      <th>...</th>\n",
       "      <th>Trekkingsandalen</th>\n",
       "      <th>Trinkflaschen</th>\n",
       "      <th>USB Sticks</th>\n",
       "      <th>Umhängetaschen</th>\n",
       "      <th>VR-Brillen</th>\n",
       "      <th>Verstärker</th>\n",
       "      <th>WC</th>\n",
       "      <th>Waschtrockner</th>\n",
       "      <th>Xbox One Spiele</th>\n",
       "      <th>Zubehör für Küchengeräte</th>\n",
       "    </tr>\n",
       "    <tr>\n",
       "      <th>month</th>\n",
       "      <th></th>\n",
       "      <th></th>\n",
       "      <th></th>\n",
       "      <th></th>\n",
       "      <th></th>\n",
       "      <th></th>\n",
       "      <th></th>\n",
       "      <th></th>\n",
       "      <th></th>\n",
       "      <th></th>\n",
       "      <th></th>\n",
       "      <th></th>\n",
       "      <th></th>\n",
       "      <th></th>\n",
       "      <th></th>\n",
       "      <th></th>\n",
       "      <th></th>\n",
       "      <th></th>\n",
       "      <th></th>\n",
       "      <th></th>\n",
       "      <th></th>\n",
       "    </tr>\n",
       "  </thead>\n",
       "  <tbody>\n",
       "    <tr>\n",
       "      <th>1.0</th>\n",
       "      <td>85837.0</td>\n",
       "      <td>79256.0</td>\n",
       "      <td>66158.0</td>\n",
       "      <td>140228.0</td>\n",
       "      <td>109343.0</td>\n",
       "      <td>73941.0</td>\n",
       "      <td>65603.0</td>\n",
       "      <td>72261.0</td>\n",
       "      <td>59294.0</td>\n",
       "      <td>54682.0</td>\n",
       "      <td>...</td>\n",
       "      <td>25949.0</td>\n",
       "      <td>71637.0</td>\n",
       "      <td>96297.0</td>\n",
       "      <td>48267.0</td>\n",
       "      <td>77844.0</td>\n",
       "      <td>102167.0</td>\n",
       "      <td>72377.0</td>\n",
       "      <td>77931.0</td>\n",
       "      <td>77307.0</td>\n",
       "      <td>81669.0</td>\n",
       "    </tr>\n",
       "    <tr>\n",
       "      <th>2.0</th>\n",
       "      <td>57004.0</td>\n",
       "      <td>64025.0</td>\n",
       "      <td>60818.0</td>\n",
       "      <td>81306.0</td>\n",
       "      <td>68012.0</td>\n",
       "      <td>68449.5</td>\n",
       "      <td>52766.0</td>\n",
       "      <td>59766.0</td>\n",
       "      <td>45497.0</td>\n",
       "      <td>47439.0</td>\n",
       "      <td>...</td>\n",
       "      <td>27387.0</td>\n",
       "      <td>34986.0</td>\n",
       "      <td>67531.0</td>\n",
       "      <td>36728.0</td>\n",
       "      <td>40863.0</td>\n",
       "      <td>74299.0</td>\n",
       "      <td>62557.0</td>\n",
       "      <td>52693.0</td>\n",
       "      <td>54913.0</td>\n",
       "      <td>59523.0</td>\n",
       "    </tr>\n",
       "    <tr>\n",
       "      <th>3.0</th>\n",
       "      <td>60308.0</td>\n",
       "      <td>69544.0</td>\n",
       "      <td>63310.0</td>\n",
       "      <td>78226.0</td>\n",
       "      <td>71481.0</td>\n",
       "      <td>62958.0</td>\n",
       "      <td>74365.0</td>\n",
       "      <td>76072.0</td>\n",
       "      <td>48162.0</td>\n",
       "      <td>60777.0</td>\n",
       "      <td>...</td>\n",
       "      <td>37763.0</td>\n",
       "      <td>44189.0</td>\n",
       "      <td>83430.0</td>\n",
       "      <td>43493.0</td>\n",
       "      <td>50260.0</td>\n",
       "      <td>80303.0</td>\n",
       "      <td>70651.0</td>\n",
       "      <td>64458.0</td>\n",
       "      <td>66850.0</td>\n",
       "      <td>64530.0</td>\n",
       "    </tr>\n",
       "    <tr>\n",
       "      <th>4.0</th>\n",
       "      <td>52951.0</td>\n",
       "      <td>59271.0</td>\n",
       "      <td>61108.0</td>\n",
       "      <td>76142.0</td>\n",
       "      <td>63153.0</td>\n",
       "      <td>48650.0</td>\n",
       "      <td>66463.0</td>\n",
       "      <td>67330.0</td>\n",
       "      <td>47216.0</td>\n",
       "      <td>66324.0</td>\n",
       "      <td>...</td>\n",
       "      <td>54522.0</td>\n",
       "      <td>46096.5</td>\n",
       "      <td>65050.0</td>\n",
       "      <td>44078.0</td>\n",
       "      <td>36173.0</td>\n",
       "      <td>63780.0</td>\n",
       "      <td>54638.0</td>\n",
       "      <td>51924.0</td>\n",
       "      <td>52446.0</td>\n",
       "      <td>55452.0</td>\n",
       "    </tr>\n",
       "    <tr>\n",
       "      <th>5.0</th>\n",
       "      <td>53609.0</td>\n",
       "      <td>64724.0</td>\n",
       "      <td>60403.0</td>\n",
       "      <td>69188.0</td>\n",
       "      <td>64833.0</td>\n",
       "      <td>50789.0</td>\n",
       "      <td>67628.0</td>\n",
       "      <td>63150.0</td>\n",
       "      <td>52014.0</td>\n",
       "      <td>63495.0</td>\n",
       "      <td>...</td>\n",
       "      <td>59141.0</td>\n",
       "      <td>48004.0</td>\n",
       "      <td>66729.0</td>\n",
       "      <td>44663.0</td>\n",
       "      <td>39560.0</td>\n",
       "      <td>63375.0</td>\n",
       "      <td>54674.0</td>\n",
       "      <td>54839.0</td>\n",
       "      <td>49444.0</td>\n",
       "      <td>52876.0</td>\n",
       "    </tr>\n",
       "  </tbody>\n",
       "</table>\n",
       "<p>5 rows × 100 columns</p>\n",
       "</div>"
      ],
      "text/plain": [
       "category  Akkus & Batterien  All in One PCs  \\\n",
       "month                                         \n",
       "1.0                 85837.0         79256.0   \n",
       "2.0                 57004.0         64025.0   \n",
       "3.0                 60308.0         69544.0   \n",
       "4.0                 52951.0         59271.0   \n",
       "5.0                 53609.0         64724.0   \n",
       "\n",
       "category  Augen-, Ohren- & Nasenmedikamente  Autobatterien  Bestecke  \\\n",
       "month                                                                  \n",
       "1.0                                 66158.0       140228.0  109343.0   \n",
       "2.0                                 60818.0        81306.0   68012.0   \n",
       "3.0                                 63310.0        78226.0   71481.0   \n",
       "4.0                                 61108.0        76142.0   63153.0   \n",
       "5.0                                 60403.0        69188.0   64833.0   \n",
       "\n",
       "category  Betriebssysteme  Bohrer & Bits  Bridgekameras  \\\n",
       "month                                                     \n",
       "1.0               73941.0        65603.0        72261.0   \n",
       "2.0               68449.5        52766.0        59766.0   \n",
       "3.0               62958.0        74365.0        76072.0   \n",
       "4.0               48650.0        66463.0        67330.0   \n",
       "5.0               50789.0        67628.0        63150.0   \n",
       "\n",
       "category  Champagner, Sekt & Prosecco    Clogs  ...  Trekkingsandalen  \\\n",
       "month                                           ...                     \n",
       "1.0                           59294.0  54682.0  ...           25949.0   \n",
       "2.0                           45497.0  47439.0  ...           27387.0   \n",
       "3.0                           48162.0  60777.0  ...           37763.0   \n",
       "4.0                           47216.0  66324.0  ...           54522.0   \n",
       "5.0                           52014.0  63495.0  ...           59141.0   \n",
       "\n",
       "category  Trinkflaschen  USB Sticks  Umhängetaschen  VR-Brillen  Verstärker  \\\n",
       "month                                                                         \n",
       "1.0             71637.0     96297.0         48267.0     77844.0    102167.0   \n",
       "2.0             34986.0     67531.0         36728.0     40863.0     74299.0   \n",
       "3.0             44189.0     83430.0         43493.0     50260.0     80303.0   \n",
       "4.0             46096.5     65050.0         44078.0     36173.0     63780.0   \n",
       "5.0             48004.0     66729.0         44663.0     39560.0     63375.0   \n",
       "\n",
       "category       WC  Waschtrockner  Xbox One Spiele  Zubehör für Küchengeräte  \n",
       "month                                                                        \n",
       "1.0       72377.0        77931.0          77307.0                   81669.0  \n",
       "2.0       62557.0        52693.0          54913.0                   59523.0  \n",
       "3.0       70651.0        64458.0          66850.0                   64530.0  \n",
       "4.0       54638.0        51924.0          52446.0                   55452.0  \n",
       "5.0       54674.0        54839.0          49444.0                   52876.0  \n",
       "\n",
       "[5 rows x 100 columns]"
      ]
     },
     "execution_count": 83,
     "metadata": {},
     "output_type": "execute_result"
    }
   ],
   "source": [
    "data_pi_wide =  pd.pivot_table(data_pi, index='month', columns='category', values='pageimpressions')\n",
    "#data_pi_wide.to_csv(\"./data/data_pi_wide.csv\", sep=\";\")\n",
    "data_cr_wide =  pd.pivot_table(data_cr, index='month', columns='category', values='CR')\n",
    "#data_cr_wide.to_csv(\"./data/data_cr_wide.csv\", sep=\";\")\n",
    "data_lo_wide =  pd.pivot_table(data_lo, index='month', columns='category', values='lead-out')\n",
    "#data_lo_wide.to_csv(\"./data/data_lo_wide.csv\", sep=\";\")\n",
    "data_pi_wide.head()"
   ]
  },
  {
   "cell_type": "code",
   "execution_count": 29,
   "metadata": {},
   "outputs": [
    {
     "data": {
      "text/plain": [
       "array([[ 85837. ,  57004. ,  60308. , ...,  76197. ,  90985. ,  93308. ],\n",
       "       [ 79256. ,  64025. ,  69544. , ...,  88703. , 134463. , 109622. ],\n",
       "       [ 66158. ,  60818. ,  63310. , ...,  53851. ,  60295. ,  56467. ],\n",
       "       ...,\n",
       "       [ 77931. ,  52693. ,  64458. , ...,  72817. , 101172. ,  70408. ],\n",
       "       [ 77307. ,  54913. ,  66850. , ...,  85936.5,  94533. ,  89577. ],\n",
       "       [ 81669. ,  59523. ,  64530. , ...,  59478. , 104043. , 118892. ]])"
      ]
     },
     "execution_count": 29,
     "metadata": {},
     "output_type": "execute_result"
    }
   ],
   "source": [
    "# prepare data as 2dim-array for the use in the model:\n",
    "X = data_pi_wide.transpose().values\n",
    "X"
   ]
  },
  {
   "cell_type": "code",
   "execution_count": 30,
   "metadata": {},
   "outputs": [],
   "source": [
    "model = TimeSeriesKMeans(n_clusters=6, metric=\"euclidean\", max_iter=100, n_init=2).fit(X)"
   ]
  },
  {
   "cell_type": "code",
   "execution_count": 31,
   "metadata": {},
   "outputs": [],
   "source": [
    "# Dataframe to map categories to their cluster labels\n",
    "df_cluster = pd.DataFrame(list(zip(data_pi_wide.columns, model.labels_)), columns=['category', 'cluster'])\n",
    "\n",
    "# dictionaries and lists for use in plots:\n",
    "cluster_cat_dict = df_cluster.groupby(['cluster'])['category'].apply(lambda x: [x for x in x]).to_dict()\n",
    "cluster_len_dict = df_cluster['cluster'].value_counts().to_dict()\n",
    "clusters_all = [cluster for cluster in cluster_len_dict]\n",
    "clusters_all.sort()\n",
    "#print(f\"df_cluster: {df_cluster}\")\n",
    "#print(f\"clusters_all: {clusters_all}\")\n",
    "#print(f\"cluster_cat_dict: {cluster_cat_dict}\")\n",
    "#print(f\"cluster_len_dict: {cluster_len_dict}\")"
   ]
  },
  {
   "cell_type": "markdown",
   "metadata": {},
   "source": [
    "Make a quality assessment of each cluster with a correlation matrix:"
   ]
  },
  {
   "cell_type": "code",
   "execution_count": 32,
   "metadata": {},
   "outputs": [
    {
     "data": {
      "text/plain": [
       "({0: 0.84, 1: 0.83, 2: 0.84, 3: 0.55, 4: 0.66, 5: 0.56},\n",
       " 'Mean cluster quality: 0.7133333333333333')"
      ]
     },
     "execution_count": 32,
     "metadata": {},
     "output_type": "execute_result"
    }
   ],
   "source": [
    "cluster_quality_dict = {}\n",
    "for cluster_number in clusters_all:\n",
    "    # get quality score based on the correlation between categories in the cluster\n",
    "    # For clusters with only one item x_corr_mean is set to 0\n",
    "    if len(cluster_cat_dict[cluster_number]) > 1:\n",
    "        x_corr = data_pi_wide[cluster_cat_dict[cluster_number]].corr().abs()\n",
    "        # get the mean of the values in the upper triangle of the correlation matrix (and round to .2)\n",
    "        x_corr_mean = round(x_corr.values[np.triu_indices_from(x_corr.values,1)].mean(), 2)\n",
    "    else:\n",
    "        x_corr_mean = 0\n",
    "        # add it to the cluster-quality-dictionary\n",
    "    cluster_quality_dict[cluster_number] = x_corr_mean\n",
    "    \n",
    "correlation_mean = sum(cluster_quality_dict.values())/len(cluster_quality_dict)\n",
    "cluster_quality_dict, f\"Mean cluster quality: {correlation_mean}\""
   ]
  },
  {
   "cell_type": "code",
   "execution_count": 33,
   "metadata": {},
   "outputs": [
    {
     "name": "stdout",
     "output_type": "stream",
     "text": [
      "Mean quality: 0.7133333333333334\n",
      "Median quality: 0.745\n"
     ]
    },
    {
     "data": {
      "text/html": [
       "<div>\n",
       "<style scoped>\n",
       "    .dataframe tbody tr th:only-of-type {\n",
       "        vertical-align: middle;\n",
       "    }\n",
       "\n",
       "    .dataframe tbody tr th {\n",
       "        vertical-align: top;\n",
       "    }\n",
       "\n",
       "    .dataframe thead th {\n",
       "        text-align: right;\n",
       "    }\n",
       "</style>\n",
       "<table border=\"1\" class=\"dataframe\">\n",
       "  <thead>\n",
       "    <tr style=\"text-align: right;\">\n",
       "      <th></th>\n",
       "      <th>n</th>\n",
       "      <th>quality_score</th>\n",
       "    </tr>\n",
       "    <tr>\n",
       "      <th>cluster</th>\n",
       "      <th></th>\n",
       "      <th></th>\n",
       "    </tr>\n",
       "  </thead>\n",
       "  <tbody>\n",
       "    <tr>\n",
       "      <th>2</th>\n",
       "      <td>7</td>\n",
       "      <td>0.84</td>\n",
       "    </tr>\n",
       "    <tr>\n",
       "      <th>0</th>\n",
       "      <td>3</td>\n",
       "      <td>0.84</td>\n",
       "    </tr>\n",
       "    <tr>\n",
       "      <th>1</th>\n",
       "      <td>8</td>\n",
       "      <td>0.83</td>\n",
       "    </tr>\n",
       "    <tr>\n",
       "      <th>4</th>\n",
       "      <td>11</td>\n",
       "      <td>0.66</td>\n",
       "    </tr>\n",
       "    <tr>\n",
       "      <th>5</th>\n",
       "      <td>43</td>\n",
       "      <td>0.56</td>\n",
       "    </tr>\n",
       "    <tr>\n",
       "      <th>3</th>\n",
       "      <td>28</td>\n",
       "      <td>0.55</td>\n",
       "    </tr>\n",
       "  </tbody>\n",
       "</table>\n",
       "</div>"
      ],
      "text/plain": [
       "          n  quality_score\n",
       "cluster                   \n",
       "2         7           0.84\n",
       "0         3           0.84\n",
       "1         8           0.83\n",
       "4        11           0.66\n",
       "5        43           0.56\n",
       "3        28           0.55"
      ]
     },
     "execution_count": 33,
     "metadata": {},
     "output_type": "execute_result"
    }
   ],
   "source": [
    "# Dataframe for cluster quality and size:\n",
    "df_cluster_quality = pd.DataFrame.from_dict(cluster_len_dict, orient='index', columns=['n'])\n",
    "df_cluster_quality.index.names = ['cluster']\n",
    "df_cluster_quality['quality_score'] = df_cluster_quality.index.map(cluster_quality_dict)\n",
    "\n",
    "df_cluster_quality = df_cluster_quality.sort_values('quality_score', ascending=False)\n",
    "print(f\"Mean quality: {df_cluster_quality['quality_score'].mean()}\")\n",
    "print(f\"Median quality: {df_cluster_quality['quality_score'].median()}\")\n",
    "df_cluster_quality"
   ]
  },
  {
   "cell_type": "markdown",
   "metadata": {},
   "source": [
    "Plot each cluster as a line plot:"
   ]
  },
  {
   "cell_type": "code",
   "execution_count": 80,
   "metadata": {},
   "outputs": [],
   "source": [
    "def plot_clusters(df, labels, renderer, title):\n",
    "    df_cluster = pd.DataFrame(list(zip(df.columns, labels)), columns=['category', 'cluster'])\n",
    "\n",
    "    # dictionaries and lists for use in plots:\n",
    "    cluster_cat_dict = df_cluster.groupby(['cluster'])['category'].apply(lambda x: [x for x in x]).to_dict()\n",
    "    cluster_len_dict = df_cluster['cluster'].value_counts().to_dict()\n",
    "    clusters_all = [cluster for cluster in cluster_len_dict]\n",
    "\n",
    "    for cluster_number in clusters_all:\n",
    "        if len(cluster_cat_dict[cluster_number]) > 1:\n",
    "            x_corr = df[cluster_cat_dict[cluster_number]].corr().abs()\n",
    "            # get the mean of the values in the upper triangle of the correlation matrix (and round to .2)\n",
    "            x_corr_mean = round(x_corr.values[np.triu_indices_from(x_corr.values,1)].mean(), 2)\n",
    "        else:\n",
    "            x_corr_mean = 0 # for clusters of only 1 item\n",
    "        # plot each cluster\n",
    "        plot_title = f'{title} cluster {cluster_number} (quality={x_corr_mean}, n={cluster_len_dict[cluster_number]})'\n",
    "        fig = go.Figure()\n",
    "        cols = cluster_cat_dict[cluster_number]\n",
    "        ind = df.index\n",
    "        for i, col in enumerate(cols):\n",
    "            fig.add_trace(\n",
    "                go.Scatter(\n",
    "                    x=ind, y=df[col], name=col, line={'width':1}, hoverlabel={'namelength':-1}, showlegend=True # line=dict(width=1) #namelength=-1\n",
    "                )\n",
    "            )    \n",
    "        fig.update_xaxes(title_text=\"months\", dtick=[1,len(df.index)+1])\n",
    "        fig.update_layout(xaxis_rangeslider_visible=False)\n",
    "        fig.update_layout(title_text=plot_title, template=\"plotly_dark\", height=600)\n",
    "        fig.show(renderer=renderer)\n"
   ]
  },
  {
   "cell_type": "code",
   "execution_count": 81,
   "metadata": {},
   "outputs": [],
   "source": [
    "plot_clusters(data_pi_wide, model.labels_, renderer=\"browser\", title=\"Page impressions\")\n",
    "# opens in browser! or renderer=None"
   ]
  },
  {
   "cell_type": "markdown",
   "metadata": {},
   "source": [
    "### Normalize data"
   ]
  },
  {
   "cell_type": "code",
   "execution_count": 59,
   "metadata": {},
   "outputs": [],
   "source": [
    "def normalize_df(df):\n",
    "    df_ = df.reset_index()\n",
    "    df_norm = (df_ - df_.min()) / (df_.max() - df_.min())\n",
    "    df_norm.drop(['month'], axis=1, inplace=True)\n",
    "    df_norm = pd.concat((df_norm, df_.month), axis=1)\n",
    "    df_norm.set_index(\"month\", inplace=True)\n",
    "    return df_norm"
   ]
  },
  {
   "cell_type": "code",
   "execution_count": 64,
   "metadata": {},
   "outputs": [],
   "source": [
    "# Scaling with other range\n",
    "def min_max_scale(X, range=(0, 100)):\n",
    "    mi, ma = range\n",
    "    X_std = (X - X.min()) / (X.max() - X.min())\n",
    "    X_scaled = X_std * (ma - mi) + mi\n",
    "    return X_scaled\n",
    "\n",
    "#print(min_max_scale(data_pi_wide))"
   ]
  },
  {
   "cell_type": "code",
   "execution_count": 65,
   "metadata": {},
   "outputs": [
    {
     "data": {
      "text/html": [
       "<div>\n",
       "<style scoped>\n",
       "    .dataframe tbody tr th:only-of-type {\n",
       "        vertical-align: middle;\n",
       "    }\n",
       "\n",
       "    .dataframe tbody tr th {\n",
       "        vertical-align: top;\n",
       "    }\n",
       "\n",
       "    .dataframe thead th {\n",
       "        text-align: right;\n",
       "    }\n",
       "</style>\n",
       "<table border=\"1\" class=\"dataframe\">\n",
       "  <thead>\n",
       "    <tr style=\"text-align: right;\">\n",
       "      <th></th>\n",
       "      <th>Akkus &amp; Batterien</th>\n",
       "      <th>All in One PCs</th>\n",
       "      <th>Augen-, Ohren- &amp; Nasenmedikamente</th>\n",
       "      <th>Autobatterien</th>\n",
       "      <th>Bestecke</th>\n",
       "      <th>Betriebssysteme</th>\n",
       "      <th>Bohrer &amp; Bits</th>\n",
       "      <th>Bridgekameras</th>\n",
       "      <th>Champagner, Sekt &amp; Prosecco</th>\n",
       "      <th>Clogs</th>\n",
       "      <th>...</th>\n",
       "      <th>Trekkingsandalen</th>\n",
       "      <th>Trinkflaschen</th>\n",
       "      <th>USB Sticks</th>\n",
       "      <th>Umhängetaschen</th>\n",
       "      <th>VR-Brillen</th>\n",
       "      <th>Verstärker</th>\n",
       "      <th>WC</th>\n",
       "      <th>Waschtrockner</th>\n",
       "      <th>Xbox One Spiele</th>\n",
       "      <th>Zubehör für Küchengeräte</th>\n",
       "    </tr>\n",
       "    <tr>\n",
       "      <th>month</th>\n",
       "      <th></th>\n",
       "      <th></th>\n",
       "      <th></th>\n",
       "      <th></th>\n",
       "      <th></th>\n",
       "      <th></th>\n",
       "      <th></th>\n",
       "      <th></th>\n",
       "      <th></th>\n",
       "      <th></th>\n",
       "      <th></th>\n",
       "      <th></th>\n",
       "      <th></th>\n",
       "      <th></th>\n",
       "      <th></th>\n",
       "      <th></th>\n",
       "      <th></th>\n",
       "      <th></th>\n",
       "      <th></th>\n",
       "      <th></th>\n",
       "      <th></th>\n",
       "    </tr>\n",
       "  </thead>\n",
       "  <tbody>\n",
       "    <tr>\n",
       "      <th>1.0</th>\n",
       "      <td>0.856407</td>\n",
       "      <td>0.323651</td>\n",
       "      <td>1.000000</td>\n",
       "      <td>1.000000</td>\n",
       "      <td>0.674159</td>\n",
       "      <td>0.698537</td>\n",
       "      <td>0.373614</td>\n",
       "      <td>0.881421</td>\n",
       "      <td>0.412078</td>\n",
       "      <td>0.263929</td>\n",
       "      <td>...</td>\n",
       "      <td>0.087820</td>\n",
       "      <td>0.861849</td>\n",
       "      <td>1.000000</td>\n",
       "      <td>0.209747</td>\n",
       "      <td>0.532727</td>\n",
       "      <td>1.000000</td>\n",
       "      <td>1.000000</td>\n",
       "      <td>0.573693</td>\n",
       "      <td>0.664688</td>\n",
       "      <td>0.516817</td>\n",
       "    </tr>\n",
       "    <tr>\n",
       "      <th>2.0</th>\n",
       "      <td>0.302235</td>\n",
       "      <td>0.137054</td>\n",
       "      <td>0.703020</td>\n",
       "      <td>0.282760</td>\n",
       "      <td>0.195287</td>\n",
       "      <td>0.579720</td>\n",
       "      <td>0.000000</td>\n",
       "      <td>0.492641</td>\n",
       "      <td>0.040772</td>\n",
       "      <td>0.000000</td>\n",
       "      <td>...</td>\n",
       "      <td>0.098980</td>\n",
       "      <td>0.000000</td>\n",
       "      <td>0.344036</td>\n",
       "      <td>0.000000</td>\n",
       "      <td>0.059958</td>\n",
       "      <td>0.518430</td>\n",
       "      <td>0.690348</td>\n",
       "      <td>0.110754</td>\n",
       "      <td>0.228778</td>\n",
       "      <td>0.229344</td>\n",
       "    </tr>\n",
       "    <tr>\n",
       "      <th>3.0</th>\n",
       "      <td>0.365738</td>\n",
       "      <td>0.204668</td>\n",
       "      <td>0.841611</td>\n",
       "      <td>0.245268</td>\n",
       "      <td>0.235479</td>\n",
       "      <td>0.460903</td>\n",
       "      <td>0.628627</td>\n",
       "      <td>1.000000</td>\n",
       "      <td>0.112493</td>\n",
       "      <td>0.486026</td>\n",
       "      <td>...</td>\n",
       "      <td>0.179505</td>\n",
       "      <td>0.216409</td>\n",
       "      <td>0.706588</td>\n",
       "      <td>0.122969</td>\n",
       "      <td>0.180090</td>\n",
       "      <td>0.622181</td>\n",
       "      <td>0.945574</td>\n",
       "      <td>0.326559</td>\n",
       "      <td>0.461137</td>\n",
       "      <td>0.294339</td>\n",
       "    </tr>\n",
       "    <tr>\n",
       "      <th>4.0</th>\n",
       "      <td>0.224336</td>\n",
       "      <td>0.078812</td>\n",
       "      <td>0.719148</td>\n",
       "      <td>0.219900</td>\n",
       "      <td>0.138989</td>\n",
       "      <td>0.151326</td>\n",
       "      <td>0.398644</td>\n",
       "      <td>0.727994</td>\n",
       "      <td>0.087034</td>\n",
       "      <td>0.688154</td>\n",
       "      <td>...</td>\n",
       "      <td>0.309567</td>\n",
       "      <td>0.261264</td>\n",
       "      <td>0.287460</td>\n",
       "      <td>0.133602</td>\n",
       "      <td>0.000000</td>\n",
       "      <td>0.336657</td>\n",
       "      <td>0.440639</td>\n",
       "      <td>0.096649</td>\n",
       "      <td>0.180756</td>\n",
       "      <td>0.176500</td>\n",
       "    </tr>\n",
       "    <tr>\n",
       "      <th>5.0</th>\n",
       "      <td>0.236983</td>\n",
       "      <td>0.145617</td>\n",
       "      <td>0.679940</td>\n",
       "      <td>0.135251</td>\n",
       "      <td>0.158454</td>\n",
       "      <td>0.197607</td>\n",
       "      <td>0.432550</td>\n",
       "      <td>0.597934</td>\n",
       "      <td>0.216158</td>\n",
       "      <td>0.585067</td>\n",
       "      <td>...</td>\n",
       "      <td>0.345414</td>\n",
       "      <td>0.306119</td>\n",
       "      <td>0.325747</td>\n",
       "      <td>0.144236</td>\n",
       "      <td>0.043300</td>\n",
       "      <td>0.329658</td>\n",
       "      <td>0.441775</td>\n",
       "      <td>0.150118</td>\n",
       "      <td>0.122321</td>\n",
       "      <td>0.143061</td>\n",
       "    </tr>\n",
       "    <tr>\n",
       "      <th>6.0</th>\n",
       "      <td>0.000000</td>\n",
       "      <td>0.000000</td>\n",
       "      <td>0.132139</td>\n",
       "      <td>0.000000</td>\n",
       "      <td>0.000000</td>\n",
       "      <td>0.000000</td>\n",
       "      <td>0.073314</td>\n",
       "      <td>0.445938</td>\n",
       "      <td>0.000000</td>\n",
       "      <td>0.833072</td>\n",
       "      <td>...</td>\n",
       "      <td>1.000000</td>\n",
       "      <td>0.457955</td>\n",
       "      <td>0.000000</td>\n",
       "      <td>0.056004</td>\n",
       "      <td>0.134694</td>\n",
       "      <td>0.000000</td>\n",
       "      <td>0.000000</td>\n",
       "      <td>0.000000</td>\n",
       "      <td>0.000000</td>\n",
       "      <td>0.000000</td>\n",
       "    </tr>\n",
       "    <tr>\n",
       "      <th>7.0</th>\n",
       "      <td>0.197063</td>\n",
       "      <td>0.079706</td>\n",
       "      <td>0.092097</td>\n",
       "      <td>0.087242</td>\n",
       "      <td>0.145697</td>\n",
       "      <td>0.224674</td>\n",
       "      <td>0.490963</td>\n",
       "      <td>0.659292</td>\n",
       "      <td>0.207304</td>\n",
       "      <td>1.000000</td>\n",
       "      <td>...</td>\n",
       "      <td>0.962221</td>\n",
       "      <td>0.652142</td>\n",
       "      <td>0.315782</td>\n",
       "      <td>0.341204</td>\n",
       "      <td>0.072486</td>\n",
       "      <td>0.136533</td>\n",
       "      <td>0.262006</td>\n",
       "      <td>0.057248</td>\n",
       "      <td>0.026259</td>\n",
       "      <td>0.054675</td>\n",
       "    </tr>\n",
       "    <tr>\n",
       "      <th>8.0</th>\n",
       "      <td>0.237675</td>\n",
       "      <td>0.164459</td>\n",
       "      <td>0.000000</td>\n",
       "      <td>0.189334</td>\n",
       "      <td>0.188300</td>\n",
       "      <td>0.327318</td>\n",
       "      <td>0.197881</td>\n",
       "      <td>0.297894</td>\n",
       "      <td>0.192583</td>\n",
       "      <td>0.822323</td>\n",
       "      <td>...</td>\n",
       "      <td>0.695221</td>\n",
       "      <td>0.847129</td>\n",
       "      <td>0.404853</td>\n",
       "      <td>0.378994</td>\n",
       "      <td>0.092218</td>\n",
       "      <td>0.207503</td>\n",
       "      <td>0.444770</td>\n",
       "      <td>0.150430</td>\n",
       "      <td>0.104588</td>\n",
       "      <td>0.015382</td>\n",
       "    </tr>\n",
       "    <tr>\n",
       "      <th>9.0</th>\n",
       "      <td>0.353841</td>\n",
       "      <td>0.248172</td>\n",
       "      <td>0.009677</td>\n",
       "      <td>0.281104</td>\n",
       "      <td>0.188879</td>\n",
       "      <td>0.400926</td>\n",
       "      <td>0.138712</td>\n",
       "      <td>0.131056</td>\n",
       "      <td>0.129447</td>\n",
       "      <td>0.496921</td>\n",
       "      <td>...</td>\n",
       "      <td>0.239123</td>\n",
       "      <td>0.784626</td>\n",
       "      <td>0.435455</td>\n",
       "      <td>0.233940</td>\n",
       "      <td>0.111951</td>\n",
       "      <td>0.380013</td>\n",
       "      <td>0.514521</td>\n",
       "      <td>0.307390</td>\n",
       "      <td>0.665330</td>\n",
       "      <td>0.063100</td>\n",
       "    </tr>\n",
       "    <tr>\n",
       "      <th>10.0</th>\n",
       "      <td>0.671126</td>\n",
       "      <td>0.439387</td>\n",
       "      <td>0.315555</td>\n",
       "      <td>0.490195</td>\n",
       "      <td>0.248815</td>\n",
       "      <td>0.724977</td>\n",
       "      <td>1.000000</td>\n",
       "      <td>0.000000</td>\n",
       "      <td>0.322057</td>\n",
       "      <td>0.386073</td>\n",
       "      <td>...</td>\n",
       "      <td>0.080401</td>\n",
       "      <td>0.455839</td>\n",
       "      <td>0.471530</td>\n",
       "      <td>0.295125</td>\n",
       "      <td>0.140370</td>\n",
       "      <td>0.582056</td>\n",
       "      <td>0.471100</td>\n",
       "      <td>0.479887</td>\n",
       "      <td>0.832665</td>\n",
       "      <td>0.228760</td>\n",
       "    </tr>\n",
       "    <tr>\n",
       "      <th>11.0</th>\n",
       "      <td>0.955352</td>\n",
       "      <td>1.000000</td>\n",
       "      <td>0.673934</td>\n",
       "      <td>0.749023</td>\n",
       "      <td>0.804713</td>\n",
       "      <td>0.907806</td>\n",
       "      <td>0.792107</td>\n",
       "      <td>0.804630</td>\n",
       "      <td>1.000000</td>\n",
       "      <td>0.487483</td>\n",
       "      <td>...</td>\n",
       "      <td>0.027131</td>\n",
       "      <td>0.776466</td>\n",
       "      <td>0.826306</td>\n",
       "      <td>0.695423</td>\n",
       "      <td>1.000000</td>\n",
       "      <td>0.755188</td>\n",
       "      <td>0.442815</td>\n",
       "      <td>1.000000</td>\n",
       "      <td>1.000000</td>\n",
       "      <td>0.807248</td>\n",
       "    </tr>\n",
       "    <tr>\n",
       "      <th>12.0</th>\n",
       "      <td>1.000000</td>\n",
       "      <td>0.695669</td>\n",
       "      <td>0.461042</td>\n",
       "      <td>0.511241</td>\n",
       "      <td>1.000000</td>\n",
       "      <td>1.000000</td>\n",
       "      <td>0.805117</td>\n",
       "      <td>0.563614</td>\n",
       "      <td>0.880524</td>\n",
       "      <td>0.461830</td>\n",
       "      <td>...</td>\n",
       "      <td>0.000000</td>\n",
       "      <td>1.000000</td>\n",
       "      <td>0.734545</td>\n",
       "      <td>1.000000</td>\n",
       "      <td>0.915139</td>\n",
       "      <td>0.928321</td>\n",
       "      <td>0.414530</td>\n",
       "      <td>0.435699</td>\n",
       "      <td>0.903529</td>\n",
       "      <td>1.000000</td>\n",
       "    </tr>\n",
       "  </tbody>\n",
       "</table>\n",
       "<p>12 rows × 100 columns</p>\n",
       "</div>"
      ],
      "text/plain": [
       "       Akkus & Batterien  All in One PCs  Augen-, Ohren- & Nasenmedikamente  \\\n",
       "month                                                                         \n",
       "1.0             0.856407        0.323651                           1.000000   \n",
       "2.0             0.302235        0.137054                           0.703020   \n",
       "3.0             0.365738        0.204668                           0.841611   \n",
       "4.0             0.224336        0.078812                           0.719148   \n",
       "5.0             0.236983        0.145617                           0.679940   \n",
       "6.0             0.000000        0.000000                           0.132139   \n",
       "7.0             0.197063        0.079706                           0.092097   \n",
       "8.0             0.237675        0.164459                           0.000000   \n",
       "9.0             0.353841        0.248172                           0.009677   \n",
       "10.0            0.671126        0.439387                           0.315555   \n",
       "11.0            0.955352        1.000000                           0.673934   \n",
       "12.0            1.000000        0.695669                           0.461042   \n",
       "\n",
       "       Autobatterien  Bestecke  Betriebssysteme  Bohrer & Bits  Bridgekameras  \\\n",
       "month                                                                           \n",
       "1.0         1.000000  0.674159         0.698537       0.373614       0.881421   \n",
       "2.0         0.282760  0.195287         0.579720       0.000000       0.492641   \n",
       "3.0         0.245268  0.235479         0.460903       0.628627       1.000000   \n",
       "4.0         0.219900  0.138989         0.151326       0.398644       0.727994   \n",
       "5.0         0.135251  0.158454         0.197607       0.432550       0.597934   \n",
       "6.0         0.000000  0.000000         0.000000       0.073314       0.445938   \n",
       "7.0         0.087242  0.145697         0.224674       0.490963       0.659292   \n",
       "8.0         0.189334  0.188300         0.327318       0.197881       0.297894   \n",
       "9.0         0.281104  0.188879         0.400926       0.138712       0.131056   \n",
       "10.0        0.490195  0.248815         0.724977       1.000000       0.000000   \n",
       "11.0        0.749023  0.804713         0.907806       0.792107       0.804630   \n",
       "12.0        0.511241  1.000000         1.000000       0.805117       0.563614   \n",
       "\n",
       "       Champagner, Sekt & Prosecco     Clogs  ...  Trekkingsandalen  \\\n",
       "month                                         ...                     \n",
       "1.0                       0.412078  0.263929  ...          0.087820   \n",
       "2.0                       0.040772  0.000000  ...          0.098980   \n",
       "3.0                       0.112493  0.486026  ...          0.179505   \n",
       "4.0                       0.087034  0.688154  ...          0.309567   \n",
       "5.0                       0.216158  0.585067  ...          0.345414   \n",
       "6.0                       0.000000  0.833072  ...          1.000000   \n",
       "7.0                       0.207304  1.000000  ...          0.962221   \n",
       "8.0                       0.192583  0.822323  ...          0.695221   \n",
       "9.0                       0.129447  0.496921  ...          0.239123   \n",
       "10.0                      0.322057  0.386073  ...          0.080401   \n",
       "11.0                      1.000000  0.487483  ...          0.027131   \n",
       "12.0                      0.880524  0.461830  ...          0.000000   \n",
       "\n",
       "       Trinkflaschen  USB Sticks  Umhängetaschen  VR-Brillen  Verstärker  \\\n",
       "month                                                                      \n",
       "1.0         0.861849    1.000000        0.209747    0.532727    1.000000   \n",
       "2.0         0.000000    0.344036        0.000000    0.059958    0.518430   \n",
       "3.0         0.216409    0.706588        0.122969    0.180090    0.622181   \n",
       "4.0         0.261264    0.287460        0.133602    0.000000    0.336657   \n",
       "5.0         0.306119    0.325747        0.144236    0.043300    0.329658   \n",
       "6.0         0.457955    0.000000        0.056004    0.134694    0.000000   \n",
       "7.0         0.652142    0.315782        0.341204    0.072486    0.136533   \n",
       "8.0         0.847129    0.404853        0.378994    0.092218    0.207503   \n",
       "9.0         0.784626    0.435455        0.233940    0.111951    0.380013   \n",
       "10.0        0.455839    0.471530        0.295125    0.140370    0.582056   \n",
       "11.0        0.776466    0.826306        0.695423    1.000000    0.755188   \n",
       "12.0        1.000000    0.734545        1.000000    0.915139    0.928321   \n",
       "\n",
       "             WC  Waschtrockner  Xbox One Spiele  Zubehör für Küchengeräte  \n",
       "month                                                                      \n",
       "1.0    1.000000       0.573693         0.664688                  0.516817  \n",
       "2.0    0.690348       0.110754         0.228778                  0.229344  \n",
       "3.0    0.945574       0.326559         0.461137                  0.294339  \n",
       "4.0    0.440639       0.096649         0.180756                  0.176500  \n",
       "5.0    0.441775       0.150118         0.122321                  0.143061  \n",
       "6.0    0.000000       0.000000         0.000000                  0.000000  \n",
       "7.0    0.262006       0.057248         0.026259                  0.054675  \n",
       "8.0    0.444770       0.150430         0.104588                  0.015382  \n",
       "9.0    0.514521       0.307390         0.665330                  0.063100  \n",
       "10.0   0.471100       0.479887         0.832665                  0.228760  \n",
       "11.0   0.442815       1.000000         1.000000                  0.807248  \n",
       "12.0   0.414530       0.435699         0.903529                  1.000000  \n",
       "\n",
       "[12 rows x 100 columns]"
      ]
     },
     "execution_count": 65,
     "metadata": {},
     "output_type": "execute_result"
    }
   ],
   "source": [
    "data_pi_wide_norm = normalize_df(data_pi_wide)\n",
    "data_pi_wide_norm"
   ]
  },
  {
   "cell_type": "code",
   "execution_count": 74,
   "metadata": {},
   "outputs": [],
   "source": [
    "plot_clusters(data_pi_wide_norm, model.labels_, renderer=\"browser\", title=\"Page impressions normalized\")"
   ]
  },
  {
   "cell_type": "markdown",
   "metadata": {},
   "source": [
    "### Clustering \"conversion rate\" data the same way"
   ]
  },
  {
   "cell_type": "code",
   "execution_count": 75,
   "metadata": {},
   "outputs": [],
   "source": [
    "data_cr = data[['category', 'month', 'CR']]\n",
    "data_cr_wide =  pd.pivot_table(data_cr,index='month',columns='category',values='CR')\n",
    "#data_cr_wide.to_csv(\"./data/data_cr_wide.csv\", sep=\";\")\n"
   ]
  },
  {
   "cell_type": "code",
   "execution_count": 76,
   "metadata": {},
   "outputs": [],
   "source": [
    "X = data_cr_wide.transpose().values\n",
    "model_cr = TimeSeriesKMeans(n_clusters=6, metric=\"euclidean\", max_iter=100, n_init=2).fit(X)"
   ]
  },
  {
   "cell_type": "code",
   "execution_count": 79,
   "metadata": {},
   "outputs": [],
   "source": [
    "plot_clusters(data_cr_wide, model_cr.labels_, renderer=\"browser\", title=\"Conversion rate\")"
   ]
  },
  {
   "cell_type": "markdown",
   "metadata": {},
   "source": [
    "# Quality assessment of clustering methods"
   ]
  },
  {
   "cell_type": "markdown",
   "metadata": {},
   "source": [
    "## For a rough quality assessment of a clustering method we can get the mean of the correlation within all clusters:"
   ]
  },
  {
   "cell_type": "code",
   "execution_count": 28,
   "metadata": {},
   "outputs": [],
   "source": [
    "def correlation_mean(df, labels):\n",
    "    df_cluster = pd.DataFrame(list(zip(df.columns, labels)), columns=['category', 'cluster'])\n",
    "    # dictionaries and lists for use in plots:\n",
    "    cluster_cat_dict = df_cluster.groupby(['cluster'])['category'].apply(lambda x: [x for x in x]).to_dict()\n",
    "    cluster_len_dict = df_cluster['cluster'].value_counts().to_dict()\n",
    "    clusters_all = [cluster for cluster in cluster_len_dict]\n",
    "    clusters_all.sort()\n",
    "    cluster_quality_dict = {}\n",
    "    for cluster_number in clusters_all:\n",
    "        # get quality score based on the correlation between categories in the cluster\n",
    "        # For clusters with only one item x_corr_mean is set to 0\n",
    "        if len(cluster_cat_dict[cluster_number]) > 1:\n",
    "            x_corr = df[cluster_cat_dict[cluster_number]].corr().abs()\n",
    "            # get the mean of the values in the upper triangle of the correlation matrix (and round to .2)\n",
    "            x_corr_mean = round(x_corr.values[np.triu_indices_from(x_corr.values,1)].mean(), 2)\n",
    "        else:\n",
    "            x_corr_mean = 0\n",
    "            # add it to the cluster-quality-dictionary\n",
    "        cluster_quality_dict[cluster_number] = x_corr_mean\n",
    "        \n",
    "    correlation_mean = sum(cluster_quality_dict.values()) / len(cluster_quality_dict)\n",
    "    return correlation_mean"
   ]
  },
  {
   "cell_type": "code",
   "execution_count": 29,
   "metadata": {},
   "outputs": [],
   "source": [
    "def method_quality_corr(df, norm=False, random_state=13, n_init=2, max_iter=25):\n",
    "    if norm == True:\n",
    "        x = normalize_df(df).transpose().values\n",
    "    else:\n",
    "        x = df.transpose().values\n",
    "    \n",
    "    results_df = pd.DataFrame(\n",
    "            columns=[\"n_clusters\", \"KMeans euclidean\", \"KMeans dtw\", \"KMeans soft dtw\", \"KernelMeans\", \"KShape\"])\n",
    "\n",
    "    for n_clusters in range(2,13):\n",
    "        kmeans_euc_model = TimeSeriesKMeans(n_clusters=n_clusters, metric=\"euclidean\", max_iter=max_iter, n_init=n_init, random_state=random_state).fit(x)\n",
    "        kmeans_euc_labels = kmeans_euc_model.labels_\n",
    "        kmeans_euc_corr_mean = correlation_mean(df, kmeans_euc_labels)\n",
    "\n",
    "        kmeans_dtw_model = TimeSeriesKMeans(n_clusters=n_clusters, metric=\"dtw\", max_iter=max_iter, n_init=n_init, random_state=random_state).fit(x)\n",
    "        kmeans_dtw_labels = kmeans_dtw_model.labels_\n",
    "        kmeans_dtw_corr_mean = correlation_mean(df, kmeans_dtw_labels)\n",
    "\n",
    "        kmeans_sdtw_model = TimeSeriesKMeans(n_clusters=n_clusters, metric=\"softdtw\", max_iter=max_iter, n_init=n_init, random_state=random_state).fit(x)\n",
    "        kmeans_sdtw_labels = kmeans_sdtw_model.labels_\n",
    "        kmeans_sdtw_corr_mean = correlation_mean(df, kmeans_sdtw_labels)\n",
    "\n",
    "        kernel_means_model = KernelKMeans(n_clusters=n_clusters, kernel=\"gak\", max_iter=max_iter, n_init=n_init, random_state=random_state).fit(x)\n",
    "        kernel_means_labels = kernel_means_model.labels_\n",
    "        kernel_means_corr_mean = correlation_mean(df, kernel_means_labels)\n",
    "\n",
    "        kshape_model = KShape(n_clusters=n_clusters, max_iter=max_iter, n_init=n_init, random_state=random_state).fit(x)\n",
    "        kshape_labels = kshape_model.labels_\n",
    "        kshape_corr_mean = correlation_mean(df, kshape_labels)\n",
    "\n",
    "        results = {\n",
    "            \"n_clusters\": n_clusters, \n",
    "            \"KMeans euclidean\": kmeans_euc_corr_mean, \n",
    "            \"KMeans dtw\": kmeans_dtw_corr_mean, \n",
    "            \"KMeans soft dtw\": kmeans_sdtw_corr_mean, \n",
    "            \"KernelMeans\": kernel_means_corr_mean, \n",
    "            \"KShape\": kshape_corr_mean\n",
    "        }\n",
    "        results_df = pd.concat([results_df, pd.DataFrame.from_records([results])], ignore_index=True)\n",
    "\n",
    "    results_df.set_index('n_clusters', inplace=True)    \n",
    "    return results_df"
   ]
  },
  {
   "cell_type": "markdown",
   "metadata": {},
   "source": [
    "Calculate Clusters and quality assessment for 2 to 12 clusters. The results are saved to csv-files for later use."
   ]
  },
  {
   "cell_type": "code",
   "execution_count": 30,
   "metadata": {},
   "outputs": [],
   "source": [
    "# not normalized data:\n",
    "data_pi_wide = pd.read_csv(\"./dash_app/datasets/data_pi_wide.csv\", sep=\";\", index_col=\"month\")\n",
    "\n",
    "method_quality_df = method_quality_corr(\n",
    "    data_pi_wide, \n",
    "    norm=False,\n",
    "    random_state=15,\n",
    "    n_init=6,\n",
    "    max_iter=100,\n",
    ")\n",
    "method_quality_df.to_csv(\"./dash_app/datasets/method_quality_corr.csv\", sep=\";\")"
   ]
  },
  {
   "cell_type": "code",
   "execution_count": 31,
   "metadata": {},
   "outputs": [],
   "source": [
    "# normalized data:\n",
    "method_quality_df = method_quality_corr(\n",
    "   data_pi_wide, \n",
    "   norm=True,\n",
    "   random_state=16,\n",
    "   n_init=8,\n",
    "   max_iter=100,\n",
    ")\n",
    "method_quality_df.to_csv(\"./dash_app/datasets/method_quality_corr_norm.csv\", sep=\";\")"
   ]
  },
  {
   "cell_type": "markdown",
   "metadata": {},
   "source": [
    "A plot of the results for not normalized data:"
   ]
  },
  {
   "cell_type": "code",
   "execution_count": 32,
   "metadata": {},
   "outputs": [
    {
     "data": {
      "application/vnd.plotly.v1+json": {
       "config": {
        "plotlyServerURL": "https://plot.ly"
       },
       "data": [
        {
         "mode": "lines",
         "name": "KMeans euclidean",
         "type": "scatter",
         "x": [
          2,
          3,
          4,
          5,
          6,
          7,
          8,
          9,
          10,
          11,
          12
         ],
         "y": [
          0.635,
          0.6733333333333333,
          0.6399999999999999,
          0.702,
          0.6983333333333333,
          0.7342857142857142,
          0.53375,
          0.6766666666666666,
          0.705,
          0.6472727272727273,
          0.6583333333333333
         ]
        },
        {
         "mode": "lines",
         "name": "KMeans dtw",
         "type": "scatter",
         "x": [
          2,
          3,
          4,
          5,
          6,
          7,
          8,
          9,
          10,
          11,
          12
         ],
         "y": [
          0.62,
          0.6333333333333333,
          0.6125,
          0.654,
          0.665,
          0.6942857142857142,
          0.6912499999999999,
          0.6266666666666666,
          0.654,
          0.6754545454545454,
          0.6858333333333334
         ]
        },
        {
         "mode": "lines",
         "name": "KMeans soft dtw",
         "type": "scatter",
         "x": [
          2,
          3,
          4,
          5,
          6,
          7,
          8,
          9,
          10,
          11,
          12
         ],
         "y": [
          0.56,
          0.63,
          0.6300000000000001,
          0.6719999999999999,
          0.7266666666666666,
          0.7314285714285713,
          0.7287500000000001,
          0.6588888888888889,
          0.6890000000000001,
          0.7090909090909091,
          0.7091666666666666
         ]
        },
        {
         "mode": "lines",
         "name": "KernelMeans",
         "type": "scatter",
         "x": [
          2,
          3,
          4,
          5,
          6,
          7,
          8,
          9,
          10,
          11,
          12
         ],
         "y": [
          0.55,
          0.54,
          0.5425,
          0.538,
          0.5466666666666667,
          0.5428571428571428,
          0.53,
          0.5311111111111111,
          0.525,
          0.5436363636363636,
          0.525
         ]
        },
        {
         "mode": "lines",
         "name": "KShape",
         "type": "scatter",
         "x": [
          2,
          3,
          4,
          5,
          6,
          7,
          8,
          9,
          10,
          11,
          12
         ],
         "y": [
          0.5800000000000001,
          0.53,
          0.3833333333333333,
          0.565,
          0.61,
          0.74,
          0.7885714285714286,
          0.7374999999999999,
          0.55,
          0.692,
          0.7663636363636364
         ]
        }
       ],
       "layout": {
        "height": 500,
        "template": {
         "data": {
          "bar": [
           {
            "error_x": {
             "color": "#f2f5fa"
            },
            "error_y": {
             "color": "#f2f5fa"
            },
            "marker": {
             "line": {
              "color": "rgb(17,17,17)",
              "width": 0.5
             },
             "pattern": {
              "fillmode": "overlay",
              "size": 10,
              "solidity": 0.2
             }
            },
            "type": "bar"
           }
          ],
          "barpolar": [
           {
            "marker": {
             "line": {
              "color": "rgb(17,17,17)",
              "width": 0.5
             },
             "pattern": {
              "fillmode": "overlay",
              "size": 10,
              "solidity": 0.2
             }
            },
            "type": "barpolar"
           }
          ],
          "carpet": [
           {
            "aaxis": {
             "endlinecolor": "#A2B1C6",
             "gridcolor": "#506784",
             "linecolor": "#506784",
             "minorgridcolor": "#506784",
             "startlinecolor": "#A2B1C6"
            },
            "baxis": {
             "endlinecolor": "#A2B1C6",
             "gridcolor": "#506784",
             "linecolor": "#506784",
             "minorgridcolor": "#506784",
             "startlinecolor": "#A2B1C6"
            },
            "type": "carpet"
           }
          ],
          "choropleth": [
           {
            "colorbar": {
             "outlinewidth": 0,
             "ticks": ""
            },
            "type": "choropleth"
           }
          ],
          "contour": [
           {
            "colorbar": {
             "outlinewidth": 0,
             "ticks": ""
            },
            "colorscale": [
             [
              0,
              "#0d0887"
             ],
             [
              0.1111111111111111,
              "#46039f"
             ],
             [
              0.2222222222222222,
              "#7201a8"
             ],
             [
              0.3333333333333333,
              "#9c179e"
             ],
             [
              0.4444444444444444,
              "#bd3786"
             ],
             [
              0.5555555555555556,
              "#d8576b"
             ],
             [
              0.6666666666666666,
              "#ed7953"
             ],
             [
              0.7777777777777778,
              "#fb9f3a"
             ],
             [
              0.8888888888888888,
              "#fdca26"
             ],
             [
              1,
              "#f0f921"
             ]
            ],
            "type": "contour"
           }
          ],
          "contourcarpet": [
           {
            "colorbar": {
             "outlinewidth": 0,
             "ticks": ""
            },
            "type": "contourcarpet"
           }
          ],
          "heatmap": [
           {
            "colorbar": {
             "outlinewidth": 0,
             "ticks": ""
            },
            "colorscale": [
             [
              0,
              "#0d0887"
             ],
             [
              0.1111111111111111,
              "#46039f"
             ],
             [
              0.2222222222222222,
              "#7201a8"
             ],
             [
              0.3333333333333333,
              "#9c179e"
             ],
             [
              0.4444444444444444,
              "#bd3786"
             ],
             [
              0.5555555555555556,
              "#d8576b"
             ],
             [
              0.6666666666666666,
              "#ed7953"
             ],
             [
              0.7777777777777778,
              "#fb9f3a"
             ],
             [
              0.8888888888888888,
              "#fdca26"
             ],
             [
              1,
              "#f0f921"
             ]
            ],
            "type": "heatmap"
           }
          ],
          "heatmapgl": [
           {
            "colorbar": {
             "outlinewidth": 0,
             "ticks": ""
            },
            "colorscale": [
             [
              0,
              "#0d0887"
             ],
             [
              0.1111111111111111,
              "#46039f"
             ],
             [
              0.2222222222222222,
              "#7201a8"
             ],
             [
              0.3333333333333333,
              "#9c179e"
             ],
             [
              0.4444444444444444,
              "#bd3786"
             ],
             [
              0.5555555555555556,
              "#d8576b"
             ],
             [
              0.6666666666666666,
              "#ed7953"
             ],
             [
              0.7777777777777778,
              "#fb9f3a"
             ],
             [
              0.8888888888888888,
              "#fdca26"
             ],
             [
              1,
              "#f0f921"
             ]
            ],
            "type": "heatmapgl"
           }
          ],
          "histogram": [
           {
            "marker": {
             "pattern": {
              "fillmode": "overlay",
              "size": 10,
              "solidity": 0.2
             }
            },
            "type": "histogram"
           }
          ],
          "histogram2d": [
           {
            "colorbar": {
             "outlinewidth": 0,
             "ticks": ""
            },
            "colorscale": [
             [
              0,
              "#0d0887"
             ],
             [
              0.1111111111111111,
              "#46039f"
             ],
             [
              0.2222222222222222,
              "#7201a8"
             ],
             [
              0.3333333333333333,
              "#9c179e"
             ],
             [
              0.4444444444444444,
              "#bd3786"
             ],
             [
              0.5555555555555556,
              "#d8576b"
             ],
             [
              0.6666666666666666,
              "#ed7953"
             ],
             [
              0.7777777777777778,
              "#fb9f3a"
             ],
             [
              0.8888888888888888,
              "#fdca26"
             ],
             [
              1,
              "#f0f921"
             ]
            ],
            "type": "histogram2d"
           }
          ],
          "histogram2dcontour": [
           {
            "colorbar": {
             "outlinewidth": 0,
             "ticks": ""
            },
            "colorscale": [
             [
              0,
              "#0d0887"
             ],
             [
              0.1111111111111111,
              "#46039f"
             ],
             [
              0.2222222222222222,
              "#7201a8"
             ],
             [
              0.3333333333333333,
              "#9c179e"
             ],
             [
              0.4444444444444444,
              "#bd3786"
             ],
             [
              0.5555555555555556,
              "#d8576b"
             ],
             [
              0.6666666666666666,
              "#ed7953"
             ],
             [
              0.7777777777777778,
              "#fb9f3a"
             ],
             [
              0.8888888888888888,
              "#fdca26"
             ],
             [
              1,
              "#f0f921"
             ]
            ],
            "type": "histogram2dcontour"
           }
          ],
          "mesh3d": [
           {
            "colorbar": {
             "outlinewidth": 0,
             "ticks": ""
            },
            "type": "mesh3d"
           }
          ],
          "parcoords": [
           {
            "line": {
             "colorbar": {
              "outlinewidth": 0,
              "ticks": ""
             }
            },
            "type": "parcoords"
           }
          ],
          "pie": [
           {
            "automargin": true,
            "type": "pie"
           }
          ],
          "scatter": [
           {
            "marker": {
             "line": {
              "color": "#283442"
             }
            },
            "type": "scatter"
           }
          ],
          "scatter3d": [
           {
            "line": {
             "colorbar": {
              "outlinewidth": 0,
              "ticks": ""
             }
            },
            "marker": {
             "colorbar": {
              "outlinewidth": 0,
              "ticks": ""
             }
            },
            "type": "scatter3d"
           }
          ],
          "scattercarpet": [
           {
            "marker": {
             "colorbar": {
              "outlinewidth": 0,
              "ticks": ""
             }
            },
            "type": "scattercarpet"
           }
          ],
          "scattergeo": [
           {
            "marker": {
             "colorbar": {
              "outlinewidth": 0,
              "ticks": ""
             }
            },
            "type": "scattergeo"
           }
          ],
          "scattergl": [
           {
            "marker": {
             "line": {
              "color": "#283442"
             }
            },
            "type": "scattergl"
           }
          ],
          "scattermapbox": [
           {
            "marker": {
             "colorbar": {
              "outlinewidth": 0,
              "ticks": ""
             }
            },
            "type": "scattermapbox"
           }
          ],
          "scatterpolar": [
           {
            "marker": {
             "colorbar": {
              "outlinewidth": 0,
              "ticks": ""
             }
            },
            "type": "scatterpolar"
           }
          ],
          "scatterpolargl": [
           {
            "marker": {
             "colorbar": {
              "outlinewidth": 0,
              "ticks": ""
             }
            },
            "type": "scatterpolargl"
           }
          ],
          "scatterternary": [
           {
            "marker": {
             "colorbar": {
              "outlinewidth": 0,
              "ticks": ""
             }
            },
            "type": "scatterternary"
           }
          ],
          "surface": [
           {
            "colorbar": {
             "outlinewidth": 0,
             "ticks": ""
            },
            "colorscale": [
             [
              0,
              "#0d0887"
             ],
             [
              0.1111111111111111,
              "#46039f"
             ],
             [
              0.2222222222222222,
              "#7201a8"
             ],
             [
              0.3333333333333333,
              "#9c179e"
             ],
             [
              0.4444444444444444,
              "#bd3786"
             ],
             [
              0.5555555555555556,
              "#d8576b"
             ],
             [
              0.6666666666666666,
              "#ed7953"
             ],
             [
              0.7777777777777778,
              "#fb9f3a"
             ],
             [
              0.8888888888888888,
              "#fdca26"
             ],
             [
              1,
              "#f0f921"
             ]
            ],
            "type": "surface"
           }
          ],
          "table": [
           {
            "cells": {
             "fill": {
              "color": "#506784"
             },
             "line": {
              "color": "rgb(17,17,17)"
             }
            },
            "header": {
             "fill": {
              "color": "#2a3f5f"
             },
             "line": {
              "color": "rgb(17,17,17)"
             }
            },
            "type": "table"
           }
          ]
         },
         "layout": {
          "annotationdefaults": {
           "arrowcolor": "#f2f5fa",
           "arrowhead": 0,
           "arrowwidth": 1
          },
          "autotypenumbers": "strict",
          "coloraxis": {
           "colorbar": {
            "outlinewidth": 0,
            "ticks": ""
           }
          },
          "colorscale": {
           "diverging": [
            [
             0,
             "#8e0152"
            ],
            [
             0.1,
             "#c51b7d"
            ],
            [
             0.2,
             "#de77ae"
            ],
            [
             0.3,
             "#f1b6da"
            ],
            [
             0.4,
             "#fde0ef"
            ],
            [
             0.5,
             "#f7f7f7"
            ],
            [
             0.6,
             "#e6f5d0"
            ],
            [
             0.7,
             "#b8e186"
            ],
            [
             0.8,
             "#7fbc41"
            ],
            [
             0.9,
             "#4d9221"
            ],
            [
             1,
             "#276419"
            ]
           ],
           "sequential": [
            [
             0,
             "#0d0887"
            ],
            [
             0.1111111111111111,
             "#46039f"
            ],
            [
             0.2222222222222222,
             "#7201a8"
            ],
            [
             0.3333333333333333,
             "#9c179e"
            ],
            [
             0.4444444444444444,
             "#bd3786"
            ],
            [
             0.5555555555555556,
             "#d8576b"
            ],
            [
             0.6666666666666666,
             "#ed7953"
            ],
            [
             0.7777777777777778,
             "#fb9f3a"
            ],
            [
             0.8888888888888888,
             "#fdca26"
            ],
            [
             1,
             "#f0f921"
            ]
           ],
           "sequentialminus": [
            [
             0,
             "#0d0887"
            ],
            [
             0.1111111111111111,
             "#46039f"
            ],
            [
             0.2222222222222222,
             "#7201a8"
            ],
            [
             0.3333333333333333,
             "#9c179e"
            ],
            [
             0.4444444444444444,
             "#bd3786"
            ],
            [
             0.5555555555555556,
             "#d8576b"
            ],
            [
             0.6666666666666666,
             "#ed7953"
            ],
            [
             0.7777777777777778,
             "#fb9f3a"
            ],
            [
             0.8888888888888888,
             "#fdca26"
            ],
            [
             1,
             "#f0f921"
            ]
           ]
          },
          "colorway": [
           "#636efa",
           "#EF553B",
           "#00cc96",
           "#ab63fa",
           "#FFA15A",
           "#19d3f3",
           "#FF6692",
           "#B6E880",
           "#FF97FF",
           "#FECB52"
          ],
          "font": {
           "color": "#f2f5fa"
          },
          "geo": {
           "bgcolor": "rgb(17,17,17)",
           "lakecolor": "rgb(17,17,17)",
           "landcolor": "rgb(17,17,17)",
           "showlakes": true,
           "showland": true,
           "subunitcolor": "#506784"
          },
          "hoverlabel": {
           "align": "left"
          },
          "hovermode": "closest",
          "mapbox": {
           "style": "dark"
          },
          "paper_bgcolor": "rgb(17,17,17)",
          "plot_bgcolor": "rgb(17,17,17)",
          "polar": {
           "angularaxis": {
            "gridcolor": "#506784",
            "linecolor": "#506784",
            "ticks": ""
           },
           "bgcolor": "rgb(17,17,17)",
           "radialaxis": {
            "gridcolor": "#506784",
            "linecolor": "#506784",
            "ticks": ""
           }
          },
          "scene": {
           "xaxis": {
            "backgroundcolor": "rgb(17,17,17)",
            "gridcolor": "#506784",
            "gridwidth": 2,
            "linecolor": "#506784",
            "showbackground": true,
            "ticks": "",
            "zerolinecolor": "#C8D4E3"
           },
           "yaxis": {
            "backgroundcolor": "rgb(17,17,17)",
            "gridcolor": "#506784",
            "gridwidth": 2,
            "linecolor": "#506784",
            "showbackground": true,
            "ticks": "",
            "zerolinecolor": "#C8D4E3"
           },
           "zaxis": {
            "backgroundcolor": "rgb(17,17,17)",
            "gridcolor": "#506784",
            "gridwidth": 2,
            "linecolor": "#506784",
            "showbackground": true,
            "ticks": "",
            "zerolinecolor": "#C8D4E3"
           }
          },
          "shapedefaults": {
           "line": {
            "color": "#f2f5fa"
           }
          },
          "sliderdefaults": {
           "bgcolor": "#C8D4E3",
           "bordercolor": "rgb(17,17,17)",
           "borderwidth": 1,
           "tickwidth": 0
          },
          "ternary": {
           "aaxis": {
            "gridcolor": "#506784",
            "linecolor": "#506784",
            "ticks": ""
           },
           "baxis": {
            "gridcolor": "#506784",
            "linecolor": "#506784",
            "ticks": ""
           },
           "bgcolor": "rgb(17,17,17)",
           "caxis": {
            "gridcolor": "#506784",
            "linecolor": "#506784",
            "ticks": ""
           }
          },
          "title": {
           "x": 0.05
          },
          "updatemenudefaults": {
           "bgcolor": "#506784",
           "borderwidth": 0
          },
          "xaxis": {
           "automargin": true,
           "gridcolor": "#283442",
           "linecolor": "#506784",
           "ticks": "",
           "title": {
            "standoff": 15
           },
           "zerolinecolor": "#283442",
           "zerolinewidth": 2
          },
          "yaxis": {
           "automargin": true,
           "gridcolor": "#283442",
           "linecolor": "#506784",
           "ticks": "",
           "title": {
            "standoff": 15
           },
           "zerolinecolor": "#283442",
           "zerolinewidth": 2
          }
         }
        },
        "title": {
         "text": "Clustering quality measurement of all methods with correlation mean (not normalized data)"
        },
        "xaxis": {
         "dtick": [
          2,
          12
         ],
         "rangeslider": {
          "visible": false
         },
         "title": {
          "text": "n_clusters"
         }
        }
       }
      }
     },
     "metadata": {},
     "output_type": "display_data"
    }
   ],
   "source": [
    "df = pd.read_csv(\"./dash_app/datasets/method_quality_corr.csv\", sep=\";\", index_col=\"n_clusters\")\n",
    "\n",
    "fig = go.Figure()\n",
    "plot_title = \"Clustering quality measurement of all methods with correlation mean (not normalized data)\"\n",
    "# Loop dataframe columns and plot columns to the figure\n",
    "for i in range(0, len(df.columns)):\n",
    "    col_name = df.columns.values[i]\n",
    "    fig.add_trace(go.Scatter(x=df.index, y=df[col_name], mode='lines', name=col_name))\n",
    "fig.update_xaxes(title_text=\"n_clusters\", dtick=[2,len(df.index)+1])\n",
    "fig.update_layout(xaxis_rangeslider_visible=False)\n",
    "fig.update_layout(title_text=plot_title, template=\"plotly_dark\", height=500)\n",
    "fig.show()"
   ]
  },
  {
   "cell_type": "markdown",
   "metadata": {},
   "source": [
    "A plot of the results for normalized data:"
   ]
  },
  {
   "cell_type": "code",
   "execution_count": 33,
   "metadata": {},
   "outputs": [
    {
     "data": {
      "application/vnd.plotly.v1+json": {
       "config": {
        "plotlyServerURL": "https://plot.ly"
       },
       "data": [
        {
         "mode": "lines",
         "name": "KMeans euclidean",
         "type": "scatter",
         "x": [
          2,
          3,
          4,
          5,
          6,
          7,
          8,
          9,
          10,
          11,
          12
         ],
         "y": [
          0.575,
          0.6433333333333334,
          0.6925,
          0.7,
          0.7366666666666668,
          0.7400000000000001,
          0.75375,
          0.7622222222222221,
          0.761,
          0.7618181818181818,
          0.7958333333333333
         ]
        },
        {
         "mode": "lines",
         "name": "KMeans dtw",
         "type": "scatter",
         "x": [
          2,
          3,
          4,
          5,
          6,
          7,
          8,
          9,
          10,
          11,
          12
         ],
         "y": [
          0.5549999999999999,
          0.6433333333333332,
          0.675,
          0.716,
          0.6849999999999999,
          0.6685714285714285,
          0.7112499999999999,
          0.7111111111111111,
          0.6580000000000001,
          0.6990909090909091,
          0.6383333333333333
         ]
        },
        {
         "mode": "lines",
         "name": "KMeans soft dtw",
         "type": "scatter",
         "x": [
          2,
          3,
          4,
          5,
          6,
          7,
          8,
          9,
          10,
          11,
          12
         ],
         "y": [
          0.565,
          0.6466666666666667,
          0.6525,
          0.722,
          0.7083333333333334,
          0.7171428571428571,
          0.7462500000000001,
          0.7611111111111111,
          0.7730000000000001,
          0.640909090909091,
          0.7800000000000001
         ]
        },
        {
         "mode": "lines",
         "name": "KernelMeans",
         "type": "scatter",
         "x": [
          2,
          3,
          4,
          5,
          6,
          7,
          8,
          9,
          10,
          11,
          12
         ],
         "y": [
          0.565,
          0.6566666666666666,
          0.665,
          0.67,
          0.7066666666666667,
          0.7342857142857143,
          0.7075,
          0.7444444444444444,
          0.756,
          0.6936363636363637,
          0.6875
         ]
        },
        {
         "mode": "lines",
         "name": "KShape",
         "type": "scatter",
         "x": [
          2,
          3,
          4,
          5,
          6,
          7,
          8,
          9,
          10,
          11,
          12
         ],
         "y": [
          0.5800000000000001,
          0.6866666666666666,
          0.6575,
          0.682,
          0.5383333333333333,
          0.6271428571428571,
          0.7071428571428572,
          0.6755555555555555,
          0.6922222222222222,
          0.591111111111111,
          0.6163636363636363
         ]
        }
       ],
       "layout": {
        "height": 500,
        "template": {
         "data": {
          "bar": [
           {
            "error_x": {
             "color": "#f2f5fa"
            },
            "error_y": {
             "color": "#f2f5fa"
            },
            "marker": {
             "line": {
              "color": "rgb(17,17,17)",
              "width": 0.5
             },
             "pattern": {
              "fillmode": "overlay",
              "size": 10,
              "solidity": 0.2
             }
            },
            "type": "bar"
           }
          ],
          "barpolar": [
           {
            "marker": {
             "line": {
              "color": "rgb(17,17,17)",
              "width": 0.5
             },
             "pattern": {
              "fillmode": "overlay",
              "size": 10,
              "solidity": 0.2
             }
            },
            "type": "barpolar"
           }
          ],
          "carpet": [
           {
            "aaxis": {
             "endlinecolor": "#A2B1C6",
             "gridcolor": "#506784",
             "linecolor": "#506784",
             "minorgridcolor": "#506784",
             "startlinecolor": "#A2B1C6"
            },
            "baxis": {
             "endlinecolor": "#A2B1C6",
             "gridcolor": "#506784",
             "linecolor": "#506784",
             "minorgridcolor": "#506784",
             "startlinecolor": "#A2B1C6"
            },
            "type": "carpet"
           }
          ],
          "choropleth": [
           {
            "colorbar": {
             "outlinewidth": 0,
             "ticks": ""
            },
            "type": "choropleth"
           }
          ],
          "contour": [
           {
            "colorbar": {
             "outlinewidth": 0,
             "ticks": ""
            },
            "colorscale": [
             [
              0,
              "#0d0887"
             ],
             [
              0.1111111111111111,
              "#46039f"
             ],
             [
              0.2222222222222222,
              "#7201a8"
             ],
             [
              0.3333333333333333,
              "#9c179e"
             ],
             [
              0.4444444444444444,
              "#bd3786"
             ],
             [
              0.5555555555555556,
              "#d8576b"
             ],
             [
              0.6666666666666666,
              "#ed7953"
             ],
             [
              0.7777777777777778,
              "#fb9f3a"
             ],
             [
              0.8888888888888888,
              "#fdca26"
             ],
             [
              1,
              "#f0f921"
             ]
            ],
            "type": "contour"
           }
          ],
          "contourcarpet": [
           {
            "colorbar": {
             "outlinewidth": 0,
             "ticks": ""
            },
            "type": "contourcarpet"
           }
          ],
          "heatmap": [
           {
            "colorbar": {
             "outlinewidth": 0,
             "ticks": ""
            },
            "colorscale": [
             [
              0,
              "#0d0887"
             ],
             [
              0.1111111111111111,
              "#46039f"
             ],
             [
              0.2222222222222222,
              "#7201a8"
             ],
             [
              0.3333333333333333,
              "#9c179e"
             ],
             [
              0.4444444444444444,
              "#bd3786"
             ],
             [
              0.5555555555555556,
              "#d8576b"
             ],
             [
              0.6666666666666666,
              "#ed7953"
             ],
             [
              0.7777777777777778,
              "#fb9f3a"
             ],
             [
              0.8888888888888888,
              "#fdca26"
             ],
             [
              1,
              "#f0f921"
             ]
            ],
            "type": "heatmap"
           }
          ],
          "heatmapgl": [
           {
            "colorbar": {
             "outlinewidth": 0,
             "ticks": ""
            },
            "colorscale": [
             [
              0,
              "#0d0887"
             ],
             [
              0.1111111111111111,
              "#46039f"
             ],
             [
              0.2222222222222222,
              "#7201a8"
             ],
             [
              0.3333333333333333,
              "#9c179e"
             ],
             [
              0.4444444444444444,
              "#bd3786"
             ],
             [
              0.5555555555555556,
              "#d8576b"
             ],
             [
              0.6666666666666666,
              "#ed7953"
             ],
             [
              0.7777777777777778,
              "#fb9f3a"
             ],
             [
              0.8888888888888888,
              "#fdca26"
             ],
             [
              1,
              "#f0f921"
             ]
            ],
            "type": "heatmapgl"
           }
          ],
          "histogram": [
           {
            "marker": {
             "pattern": {
              "fillmode": "overlay",
              "size": 10,
              "solidity": 0.2
             }
            },
            "type": "histogram"
           }
          ],
          "histogram2d": [
           {
            "colorbar": {
             "outlinewidth": 0,
             "ticks": ""
            },
            "colorscale": [
             [
              0,
              "#0d0887"
             ],
             [
              0.1111111111111111,
              "#46039f"
             ],
             [
              0.2222222222222222,
              "#7201a8"
             ],
             [
              0.3333333333333333,
              "#9c179e"
             ],
             [
              0.4444444444444444,
              "#bd3786"
             ],
             [
              0.5555555555555556,
              "#d8576b"
             ],
             [
              0.6666666666666666,
              "#ed7953"
             ],
             [
              0.7777777777777778,
              "#fb9f3a"
             ],
             [
              0.8888888888888888,
              "#fdca26"
             ],
             [
              1,
              "#f0f921"
             ]
            ],
            "type": "histogram2d"
           }
          ],
          "histogram2dcontour": [
           {
            "colorbar": {
             "outlinewidth": 0,
             "ticks": ""
            },
            "colorscale": [
             [
              0,
              "#0d0887"
             ],
             [
              0.1111111111111111,
              "#46039f"
             ],
             [
              0.2222222222222222,
              "#7201a8"
             ],
             [
              0.3333333333333333,
              "#9c179e"
             ],
             [
              0.4444444444444444,
              "#bd3786"
             ],
             [
              0.5555555555555556,
              "#d8576b"
             ],
             [
              0.6666666666666666,
              "#ed7953"
             ],
             [
              0.7777777777777778,
              "#fb9f3a"
             ],
             [
              0.8888888888888888,
              "#fdca26"
             ],
             [
              1,
              "#f0f921"
             ]
            ],
            "type": "histogram2dcontour"
           }
          ],
          "mesh3d": [
           {
            "colorbar": {
             "outlinewidth": 0,
             "ticks": ""
            },
            "type": "mesh3d"
           }
          ],
          "parcoords": [
           {
            "line": {
             "colorbar": {
              "outlinewidth": 0,
              "ticks": ""
             }
            },
            "type": "parcoords"
           }
          ],
          "pie": [
           {
            "automargin": true,
            "type": "pie"
           }
          ],
          "scatter": [
           {
            "marker": {
             "line": {
              "color": "#283442"
             }
            },
            "type": "scatter"
           }
          ],
          "scatter3d": [
           {
            "line": {
             "colorbar": {
              "outlinewidth": 0,
              "ticks": ""
             }
            },
            "marker": {
             "colorbar": {
              "outlinewidth": 0,
              "ticks": ""
             }
            },
            "type": "scatter3d"
           }
          ],
          "scattercarpet": [
           {
            "marker": {
             "colorbar": {
              "outlinewidth": 0,
              "ticks": ""
             }
            },
            "type": "scattercarpet"
           }
          ],
          "scattergeo": [
           {
            "marker": {
             "colorbar": {
              "outlinewidth": 0,
              "ticks": ""
             }
            },
            "type": "scattergeo"
           }
          ],
          "scattergl": [
           {
            "marker": {
             "line": {
              "color": "#283442"
             }
            },
            "type": "scattergl"
           }
          ],
          "scattermapbox": [
           {
            "marker": {
             "colorbar": {
              "outlinewidth": 0,
              "ticks": ""
             }
            },
            "type": "scattermapbox"
           }
          ],
          "scatterpolar": [
           {
            "marker": {
             "colorbar": {
              "outlinewidth": 0,
              "ticks": ""
             }
            },
            "type": "scatterpolar"
           }
          ],
          "scatterpolargl": [
           {
            "marker": {
             "colorbar": {
              "outlinewidth": 0,
              "ticks": ""
             }
            },
            "type": "scatterpolargl"
           }
          ],
          "scatterternary": [
           {
            "marker": {
             "colorbar": {
              "outlinewidth": 0,
              "ticks": ""
             }
            },
            "type": "scatterternary"
           }
          ],
          "surface": [
           {
            "colorbar": {
             "outlinewidth": 0,
             "ticks": ""
            },
            "colorscale": [
             [
              0,
              "#0d0887"
             ],
             [
              0.1111111111111111,
              "#46039f"
             ],
             [
              0.2222222222222222,
              "#7201a8"
             ],
             [
              0.3333333333333333,
              "#9c179e"
             ],
             [
              0.4444444444444444,
              "#bd3786"
             ],
             [
              0.5555555555555556,
              "#d8576b"
             ],
             [
              0.6666666666666666,
              "#ed7953"
             ],
             [
              0.7777777777777778,
              "#fb9f3a"
             ],
             [
              0.8888888888888888,
              "#fdca26"
             ],
             [
              1,
              "#f0f921"
             ]
            ],
            "type": "surface"
           }
          ],
          "table": [
           {
            "cells": {
             "fill": {
              "color": "#506784"
             },
             "line": {
              "color": "rgb(17,17,17)"
             }
            },
            "header": {
             "fill": {
              "color": "#2a3f5f"
             },
             "line": {
              "color": "rgb(17,17,17)"
             }
            },
            "type": "table"
           }
          ]
         },
         "layout": {
          "annotationdefaults": {
           "arrowcolor": "#f2f5fa",
           "arrowhead": 0,
           "arrowwidth": 1
          },
          "autotypenumbers": "strict",
          "coloraxis": {
           "colorbar": {
            "outlinewidth": 0,
            "ticks": ""
           }
          },
          "colorscale": {
           "diverging": [
            [
             0,
             "#8e0152"
            ],
            [
             0.1,
             "#c51b7d"
            ],
            [
             0.2,
             "#de77ae"
            ],
            [
             0.3,
             "#f1b6da"
            ],
            [
             0.4,
             "#fde0ef"
            ],
            [
             0.5,
             "#f7f7f7"
            ],
            [
             0.6,
             "#e6f5d0"
            ],
            [
             0.7,
             "#b8e186"
            ],
            [
             0.8,
             "#7fbc41"
            ],
            [
             0.9,
             "#4d9221"
            ],
            [
             1,
             "#276419"
            ]
           ],
           "sequential": [
            [
             0,
             "#0d0887"
            ],
            [
             0.1111111111111111,
             "#46039f"
            ],
            [
             0.2222222222222222,
             "#7201a8"
            ],
            [
             0.3333333333333333,
             "#9c179e"
            ],
            [
             0.4444444444444444,
             "#bd3786"
            ],
            [
             0.5555555555555556,
             "#d8576b"
            ],
            [
             0.6666666666666666,
             "#ed7953"
            ],
            [
             0.7777777777777778,
             "#fb9f3a"
            ],
            [
             0.8888888888888888,
             "#fdca26"
            ],
            [
             1,
             "#f0f921"
            ]
           ],
           "sequentialminus": [
            [
             0,
             "#0d0887"
            ],
            [
             0.1111111111111111,
             "#46039f"
            ],
            [
             0.2222222222222222,
             "#7201a8"
            ],
            [
             0.3333333333333333,
             "#9c179e"
            ],
            [
             0.4444444444444444,
             "#bd3786"
            ],
            [
             0.5555555555555556,
             "#d8576b"
            ],
            [
             0.6666666666666666,
             "#ed7953"
            ],
            [
             0.7777777777777778,
             "#fb9f3a"
            ],
            [
             0.8888888888888888,
             "#fdca26"
            ],
            [
             1,
             "#f0f921"
            ]
           ]
          },
          "colorway": [
           "#636efa",
           "#EF553B",
           "#00cc96",
           "#ab63fa",
           "#FFA15A",
           "#19d3f3",
           "#FF6692",
           "#B6E880",
           "#FF97FF",
           "#FECB52"
          ],
          "font": {
           "color": "#f2f5fa"
          },
          "geo": {
           "bgcolor": "rgb(17,17,17)",
           "lakecolor": "rgb(17,17,17)",
           "landcolor": "rgb(17,17,17)",
           "showlakes": true,
           "showland": true,
           "subunitcolor": "#506784"
          },
          "hoverlabel": {
           "align": "left"
          },
          "hovermode": "closest",
          "mapbox": {
           "style": "dark"
          },
          "paper_bgcolor": "rgb(17,17,17)",
          "plot_bgcolor": "rgb(17,17,17)",
          "polar": {
           "angularaxis": {
            "gridcolor": "#506784",
            "linecolor": "#506784",
            "ticks": ""
           },
           "bgcolor": "rgb(17,17,17)",
           "radialaxis": {
            "gridcolor": "#506784",
            "linecolor": "#506784",
            "ticks": ""
           }
          },
          "scene": {
           "xaxis": {
            "backgroundcolor": "rgb(17,17,17)",
            "gridcolor": "#506784",
            "gridwidth": 2,
            "linecolor": "#506784",
            "showbackground": true,
            "ticks": "",
            "zerolinecolor": "#C8D4E3"
           },
           "yaxis": {
            "backgroundcolor": "rgb(17,17,17)",
            "gridcolor": "#506784",
            "gridwidth": 2,
            "linecolor": "#506784",
            "showbackground": true,
            "ticks": "",
            "zerolinecolor": "#C8D4E3"
           },
           "zaxis": {
            "backgroundcolor": "rgb(17,17,17)",
            "gridcolor": "#506784",
            "gridwidth": 2,
            "linecolor": "#506784",
            "showbackground": true,
            "ticks": "",
            "zerolinecolor": "#C8D4E3"
           }
          },
          "shapedefaults": {
           "line": {
            "color": "#f2f5fa"
           }
          },
          "sliderdefaults": {
           "bgcolor": "#C8D4E3",
           "bordercolor": "rgb(17,17,17)",
           "borderwidth": 1,
           "tickwidth": 0
          },
          "ternary": {
           "aaxis": {
            "gridcolor": "#506784",
            "linecolor": "#506784",
            "ticks": ""
           },
           "baxis": {
            "gridcolor": "#506784",
            "linecolor": "#506784",
            "ticks": ""
           },
           "bgcolor": "rgb(17,17,17)",
           "caxis": {
            "gridcolor": "#506784",
            "linecolor": "#506784",
            "ticks": ""
           }
          },
          "title": {
           "x": 0.05
          },
          "updatemenudefaults": {
           "bgcolor": "#506784",
           "borderwidth": 0
          },
          "xaxis": {
           "automargin": true,
           "gridcolor": "#283442",
           "linecolor": "#506784",
           "ticks": "",
           "title": {
            "standoff": 15
           },
           "zerolinecolor": "#283442",
           "zerolinewidth": 2
          },
          "yaxis": {
           "automargin": true,
           "gridcolor": "#283442",
           "linecolor": "#506784",
           "ticks": "",
           "title": {
            "standoff": 15
           },
           "zerolinecolor": "#283442",
           "zerolinewidth": 2
          }
         }
        },
        "title": {
         "text": "Clustering quality measurement of all methods with correlation mean (normalized data)"
        },
        "xaxis": {
         "dtick": [
          2,
          12
         ],
         "rangeslider": {
          "visible": false
         },
         "title": {
          "text": "n_clusters"
         }
        }
       }
      }
     },
     "metadata": {},
     "output_type": "display_data"
    }
   ],
   "source": [
    "df = pd.read_csv(\"./dash_app/datasets/method_quality_corr_norm.csv\", sep=\";\", index_col=\"n_clusters\")\n",
    "\n",
    "fig = go.Figure()\n",
    "plot_title = \"Clustering quality measurement of all methods with correlation mean (normalized data)\"\n",
    "# Loop dataframe columns and plot columns to the figure\n",
    "for i in range(0, len(df.columns)):\n",
    "    col_name = df.columns.values[i]\n",
    "    fig.add_trace(go.Scatter(x=df.index, y=df[col_name], mode='lines', name=col_name))#, line_shape=\"spline\"))\n",
    "fig.update_xaxes(title_text=\"n_clusters\", dtick=[2,len(df.index)+1])\n",
    "fig.update_layout(xaxis_rangeslider_visible=False)\n",
    "fig.update_layout(title_text=plot_title, template=\"plotly_dark\", height=500)\n",
    "fig.show()"
   ]
  },
  {
   "cell_type": "markdown",
   "metadata": {},
   "source": [
    "## Quality assessment of clustering methods with \"silhouette score\""
   ]
  },
  {
   "cell_type": "markdown",
   "metadata": {},
   "source": [
    "https://scikit-learn.org/stable/modules/clustering.html#silhouette-coefficient\n",
    "\n",
    "If the ground truth labels are not known, evaluation must be performed using the model itself. The Silhouette Coefficient (sklearn.metrics.silhouette_score) is an example of such an evaluation, where a higher Silhouette Coefficient score relates to a model with better defined clusters. The Silhouette Coefficient is defined for each sample and is composed of two scores:\n",
    "\n",
    "    a: The mean distance between a sample and all other points in the same class.\n",
    "    b: The mean distance between a sample and all other points in the next nearest cluster.\n",
    "\n",
    "The Silhouette Coefficient s for a single sample is then given as:\n",
    "\n",
    "$$s = \\frac{b - a}{max(a, b)}$$\n",
    "\n",
    "\n",
    "\n",
    "The Silhouette Coefficient for a set of samples is given as the mean of the Silhouette Coefficient for each sample."
   ]
  },
  {
   "cell_type": "code",
   "execution_count": 34,
   "metadata": {},
   "outputs": [],
   "source": [
    "def method_quality(df, norm=False, random_state=13, n_init=2, max_iter=25):\n",
    "    if norm == True:\n",
    "        x = normalize_df(df).transpose().values\n",
    "    else:\n",
    "        x = df.transpose().values\n",
    "    \n",
    "    results_df = pd.DataFrame(\n",
    "            columns=[\"n_clusters\", \"KMeans euclidean\", \"KMeans dtw\", \"KMeans soft dtw\", \"KernelMeans\", \"KShape\"])\n",
    "\n",
    "    for n_clusters in range(2,13):\n",
    "        kmeans_euc_model = TimeSeriesKMeans(n_clusters=n_clusters, metric=\"euclidean\", max_iter=max_iter, n_init=n_init, random_state=random_state).fit(x)\n",
    "        kmeans_euc_labels = kmeans_euc_model.labels_\n",
    "        kmeans_euc_score = silhouette_score(x, kmeans_euc_labels)\n",
    "\n",
    "        kmeans_dtw_model = TimeSeriesKMeans(n_clusters=n_clusters, metric=\"dtw\", max_iter=max_iter, n_init=n_init, random_state=random_state).fit(x)\n",
    "        kmeans_dtw_labels = kmeans_dtw_model.labels_\n",
    "        kmeans_dtw_score = silhouette_score(x, kmeans_dtw_labels)\n",
    "\n",
    "        kmeans_sdtw_model = TimeSeriesKMeans(n_clusters=n_clusters, metric=\"softdtw\", max_iter=max_iter, n_init=n_init, random_state=random_state).fit(x)\n",
    "        kmeans_sdtw_labels = kmeans_sdtw_model.labels_\n",
    "        kmeans_sdtw_score = silhouette_score(x, kmeans_sdtw_labels)\n",
    "\n",
    "        kernel_means_model = KernelKMeans(n_clusters=n_clusters, kernel=\"gak\", max_iter=max_iter, n_init=n_init, random_state=random_state).fit(x)\n",
    "        kernel_means_labels = kernel_means_model.labels_\n",
    "        kernel_means_score = silhouette_score(x, kernel_means_labels)\n",
    "\n",
    "        kshape_model = KShape(n_clusters=n_clusters, max_iter=max_iter, n_init=n_init, random_state=random_state).fit(x)\n",
    "        kshape_labels = kshape_model.labels_\n",
    "        kshape_score = silhouette_score(x, kshape_labels)\n",
    "\n",
    "        results = {\n",
    "            \"n_clusters\": n_clusters, \n",
    "            \"KMeans euclidean\": kmeans_euc_score, \n",
    "            \"KMeans dtw\": kmeans_dtw_score, \n",
    "            \"KMeans soft dtw\": kmeans_sdtw_score, \n",
    "            \"KernelMeans\": kernel_means_score, \n",
    "            \"KShape\": kshape_score\n",
    "        }\n",
    "        results_df = pd.concat([results_df, pd.DataFrame.from_records([results])], ignore_index=True)\n",
    "\n",
    "    results_df.set_index('n_clusters', inplace=True)    \n",
    "    return results_df"
   ]
  },
  {
   "cell_type": "code",
   "execution_count": 35,
   "metadata": {},
   "outputs": [
    {
     "name": "stderr",
     "output_type": "stream",
     "text": [
      "c:\\Users\\torst\\miniconda3\\lib\\site-packages\\tslearn\\utils\\utils.py:88: UserWarning:\n",
      "\n",
      "2-Dimensional data passed. Assuming these are 100 1-dimensional timeseries\n",
      "\n",
      "c:\\Users\\torst\\miniconda3\\lib\\site-packages\\tslearn\\utils\\utils.py:88: UserWarning:\n",
      "\n",
      "2-Dimensional data passed. Assuming these are 100 1-dimensional timeseries\n",
      "\n",
      "c:\\Users\\torst\\miniconda3\\lib\\site-packages\\tslearn\\utils\\utils.py:88: UserWarning:\n",
      "\n",
      "2-Dimensional data passed. Assuming these are 100 1-dimensional timeseries\n",
      "\n",
      "c:\\Users\\torst\\miniconda3\\lib\\site-packages\\tslearn\\utils\\utils.py:88: UserWarning:\n",
      "\n",
      "2-Dimensional data passed. Assuming these are 100 1-dimensional timeseries\n",
      "\n",
      "c:\\Users\\torst\\miniconda3\\lib\\site-packages\\tslearn\\utils\\utils.py:88: UserWarning:\n",
      "\n",
      "2-Dimensional data passed. Assuming these are 100 1-dimensional timeseries\n",
      "\n",
      "c:\\Users\\torst\\miniconda3\\lib\\site-packages\\tslearn\\utils\\utils.py:88: UserWarning:\n",
      "\n",
      "2-Dimensional data passed. Assuming these are 100 1-dimensional timeseries\n",
      "\n",
      "c:\\Users\\torst\\miniconda3\\lib\\site-packages\\tslearn\\utils\\utils.py:88: UserWarning:\n",
      "\n",
      "2-Dimensional data passed. Assuming these are 100 1-dimensional timeseries\n",
      "\n",
      "c:\\Users\\torst\\miniconda3\\lib\\site-packages\\tslearn\\utils\\utils.py:88: UserWarning:\n",
      "\n",
      "2-Dimensional data passed. Assuming these are 100 1-dimensional timeseries\n",
      "\n",
      "c:\\Users\\torst\\miniconda3\\lib\\site-packages\\tslearn\\utils\\utils.py:88: UserWarning:\n",
      "\n",
      "2-Dimensional data passed. Assuming these are 100 1-dimensional timeseries\n",
      "\n",
      "c:\\Users\\torst\\miniconda3\\lib\\site-packages\\tslearn\\utils\\utils.py:88: UserWarning:\n",
      "\n",
      "2-Dimensional data passed. Assuming these are 100 1-dimensional timeseries\n",
      "\n",
      "c:\\Users\\torst\\miniconda3\\lib\\site-packages\\tslearn\\utils\\utils.py:88: UserWarning:\n",
      "\n",
      "2-Dimensional data passed. Assuming these are 100 1-dimensional timeseries\n",
      "\n",
      "c:\\Users\\torst\\miniconda3\\lib\\site-packages\\pandas\\core\\indexes\\base.py:6982: FutureWarning:\n",
      "\n",
      "In a future version, the Index constructor will not infer numeric dtypes when passed object-dtype sequences (matching Series behavior)\n",
      "\n"
     ]
    }
   ],
   "source": [
    "# not normalized data:\n",
    "data_pi_wide = pd.read_csv(\"./dash_app/datasets/data_pi_wide.csv\", sep=\";\", index_col=\"month\")\n",
    "\n",
    "method_quality_df = method_quality(\n",
    "    data_pi_wide, \n",
    "    norm=False,\n",
    "    random_state=15,\n",
    "    n_init=6,\n",
    "    max_iter=100,\n",
    ")\n",
    "method_quality_df.to_csv(\"./dash_app/datasets/method_quality.csv\", sep=\";\")"
   ]
  },
  {
   "cell_type": "code",
   "execution_count": 36,
   "metadata": {},
   "outputs": [
    {
     "name": "stderr",
     "output_type": "stream",
     "text": [
      "c:\\Users\\torst\\miniconda3\\lib\\site-packages\\tslearn\\utils\\utils.py:88: UserWarning:\n",
      "\n",
      "2-Dimensional data passed. Assuming these are 100 1-dimensional timeseries\n",
      "\n",
      "c:\\Users\\torst\\miniconda3\\lib\\site-packages\\tslearn\\utils\\utils.py:88: UserWarning:\n",
      "\n",
      "2-Dimensional data passed. Assuming these are 100 1-dimensional timeseries\n",
      "\n",
      "c:\\Users\\torst\\miniconda3\\lib\\site-packages\\tslearn\\utils\\utils.py:88: UserWarning:\n",
      "\n",
      "2-Dimensional data passed. Assuming these are 100 1-dimensional timeseries\n",
      "\n",
      "c:\\Users\\torst\\miniconda3\\lib\\site-packages\\tslearn\\utils\\utils.py:88: UserWarning:\n",
      "\n",
      "2-Dimensional data passed. Assuming these are 100 1-dimensional timeseries\n",
      "\n",
      "c:\\Users\\torst\\miniconda3\\lib\\site-packages\\tslearn\\utils\\utils.py:88: UserWarning:\n",
      "\n",
      "2-Dimensional data passed. Assuming these are 100 1-dimensional timeseries\n",
      "\n",
      "c:\\Users\\torst\\miniconda3\\lib\\site-packages\\tslearn\\utils\\utils.py:88: UserWarning:\n",
      "\n",
      "2-Dimensional data passed. Assuming these are 100 1-dimensional timeseries\n",
      "\n",
      "c:\\Users\\torst\\miniconda3\\lib\\site-packages\\tslearn\\utils\\utils.py:88: UserWarning:\n",
      "\n",
      "2-Dimensional data passed. Assuming these are 100 1-dimensional timeseries\n",
      "\n",
      "c:\\Users\\torst\\miniconda3\\lib\\site-packages\\tslearn\\utils\\utils.py:88: UserWarning:\n",
      "\n",
      "2-Dimensional data passed. Assuming these are 100 1-dimensional timeseries\n",
      "\n",
      "c:\\Users\\torst\\miniconda3\\lib\\site-packages\\tslearn\\utils\\utils.py:88: UserWarning:\n",
      "\n",
      "2-Dimensional data passed. Assuming these are 100 1-dimensional timeseries\n",
      "\n",
      "c:\\Users\\torst\\miniconda3\\lib\\site-packages\\tslearn\\utils\\utils.py:88: UserWarning:\n",
      "\n",
      "2-Dimensional data passed. Assuming these are 100 1-dimensional timeseries\n",
      "\n",
      "c:\\Users\\torst\\miniconda3\\lib\\site-packages\\tslearn\\utils\\utils.py:88: UserWarning:\n",
      "\n",
      "2-Dimensional data passed. Assuming these are 100 1-dimensional timeseries\n",
      "\n",
      "c:\\Users\\torst\\miniconda3\\lib\\site-packages\\pandas\\core\\indexes\\base.py:6982: FutureWarning:\n",
      "\n",
      "In a future version, the Index constructor will not infer numeric dtypes when passed object-dtype sequences (matching Series behavior)\n",
      "\n"
     ]
    }
   ],
   "source": [
    "# normalized data:\n",
    "method_quality_df = method_quality(\n",
    "   data_pi_wide, \n",
    "   norm=True,\n",
    "   random_state=16,\n",
    "   n_init=8,\n",
    "   max_iter=100,\n",
    ")\n",
    "method_quality_df.to_csv(\"./dash_app/datasets/method_quality_norm.csv\", sep=\";\")"
   ]
  },
  {
   "cell_type": "markdown",
   "metadata": {},
   "source": [
    "Plot the results for not normalized data:"
   ]
  },
  {
   "cell_type": "code",
   "execution_count": 37,
   "metadata": {},
   "outputs": [
    {
     "data": {
      "application/vnd.plotly.v1+json": {
       "config": {
        "plotlyServerURL": "https://plot.ly"
       },
       "data": [
        {
         "mode": "lines",
         "name": "KMeans euclidean",
         "type": "scatter",
         "x": [
          2,
          3,
          4,
          5,
          6,
          7,
          8,
          9,
          10,
          11,
          12
         ],
         "y": [
          0.4489018253749481,
          0.3499569772786293,
          0.2863519926388352,
          0.2846486280442519,
          0.2257161504919225,
          0.2421996019618469,
          0.2295038845913844,
          0.2396079197763701,
          0.2091925873001161,
          0.217232326998637,
          0.2286409666478631
         ]
        },
        {
         "mode": "lines",
         "name": "KMeans dtw",
         "type": "scatter",
         "x": [
          2,
          3,
          4,
          5,
          6,
          7,
          8,
          9,
          10,
          11,
          12
         ],
         "y": [
          0.4390638699300483,
          0.3458036937770605,
          0.2537099229073197,
          0.2070233332880827,
          0.1867960296808121,
          0.1936800262377025,
          0.1812015310530682,
          0.18308236288776,
          0.1483437385182454,
          0.1956108960009945,
          0.151932510998188
         ]
        },
        {
         "mode": "lines",
         "name": "KMeans soft dtw",
         "type": "scatter",
         "x": [
          2,
          3,
          4,
          5,
          6,
          7,
          8,
          9,
          10,
          11,
          12
         ],
         "y": [
          0.2630156415776327,
          0.3653024887430767,
          0.2273131817627204,
          0.2510615050960648,
          0.2815816094879702,
          0.2216677858632908,
          0.1896711348614704,
          0.1949578518806558,
          0.2092761787982463,
          0.205314264037287,
          0.2014021575860402
         ]
        },
        {
         "mode": "lines",
         "name": "KernelMeans",
         "type": "scatter",
         "x": [
          2,
          3,
          4,
          5,
          6,
          7,
          8,
          9,
          10,
          11,
          12
         ],
         "y": [
          -0.021356722323475,
          -0.0753023323057949,
          -0.0548735061186324,
          -0.0894265655744629,
          -0.1184372167871552,
          -0.122261484317825,
          -0.1786571951219442,
          -0.1863796058777902,
          -0.1673770786718135,
          -0.1909846389514607,
          -0.2864451635368141
         ]
        },
        {
         "mode": "lines",
         "name": "KShape",
         "type": "scatter",
         "x": [
          2,
          3,
          4,
          5,
          6,
          7,
          8,
          9,
          10,
          11,
          12
         ],
         "y": [
          0.139285547552601,
          0.1242135913971241,
          0.2604690105062174,
          0.3441402880621178,
          0.153054089541893,
          0.0466079457005647,
          0.0751249842562494,
          0.0322877751685067,
          0.3271471740778938,
          -0.0219129960672551,
          0.013466762519808
         ]
        }
       ],
       "layout": {
        "height": 500,
        "template": {
         "data": {
          "bar": [
           {
            "error_x": {
             "color": "#f2f5fa"
            },
            "error_y": {
             "color": "#f2f5fa"
            },
            "marker": {
             "line": {
              "color": "rgb(17,17,17)",
              "width": 0.5
             },
             "pattern": {
              "fillmode": "overlay",
              "size": 10,
              "solidity": 0.2
             }
            },
            "type": "bar"
           }
          ],
          "barpolar": [
           {
            "marker": {
             "line": {
              "color": "rgb(17,17,17)",
              "width": 0.5
             },
             "pattern": {
              "fillmode": "overlay",
              "size": 10,
              "solidity": 0.2
             }
            },
            "type": "barpolar"
           }
          ],
          "carpet": [
           {
            "aaxis": {
             "endlinecolor": "#A2B1C6",
             "gridcolor": "#506784",
             "linecolor": "#506784",
             "minorgridcolor": "#506784",
             "startlinecolor": "#A2B1C6"
            },
            "baxis": {
             "endlinecolor": "#A2B1C6",
             "gridcolor": "#506784",
             "linecolor": "#506784",
             "minorgridcolor": "#506784",
             "startlinecolor": "#A2B1C6"
            },
            "type": "carpet"
           }
          ],
          "choropleth": [
           {
            "colorbar": {
             "outlinewidth": 0,
             "ticks": ""
            },
            "type": "choropleth"
           }
          ],
          "contour": [
           {
            "colorbar": {
             "outlinewidth": 0,
             "ticks": ""
            },
            "colorscale": [
             [
              0,
              "#0d0887"
             ],
             [
              0.1111111111111111,
              "#46039f"
             ],
             [
              0.2222222222222222,
              "#7201a8"
             ],
             [
              0.3333333333333333,
              "#9c179e"
             ],
             [
              0.4444444444444444,
              "#bd3786"
             ],
             [
              0.5555555555555556,
              "#d8576b"
             ],
             [
              0.6666666666666666,
              "#ed7953"
             ],
             [
              0.7777777777777778,
              "#fb9f3a"
             ],
             [
              0.8888888888888888,
              "#fdca26"
             ],
             [
              1,
              "#f0f921"
             ]
            ],
            "type": "contour"
           }
          ],
          "contourcarpet": [
           {
            "colorbar": {
             "outlinewidth": 0,
             "ticks": ""
            },
            "type": "contourcarpet"
           }
          ],
          "heatmap": [
           {
            "colorbar": {
             "outlinewidth": 0,
             "ticks": ""
            },
            "colorscale": [
             [
              0,
              "#0d0887"
             ],
             [
              0.1111111111111111,
              "#46039f"
             ],
             [
              0.2222222222222222,
              "#7201a8"
             ],
             [
              0.3333333333333333,
              "#9c179e"
             ],
             [
              0.4444444444444444,
              "#bd3786"
             ],
             [
              0.5555555555555556,
              "#d8576b"
             ],
             [
              0.6666666666666666,
              "#ed7953"
             ],
             [
              0.7777777777777778,
              "#fb9f3a"
             ],
             [
              0.8888888888888888,
              "#fdca26"
             ],
             [
              1,
              "#f0f921"
             ]
            ],
            "type": "heatmap"
           }
          ],
          "heatmapgl": [
           {
            "colorbar": {
             "outlinewidth": 0,
             "ticks": ""
            },
            "colorscale": [
             [
              0,
              "#0d0887"
             ],
             [
              0.1111111111111111,
              "#46039f"
             ],
             [
              0.2222222222222222,
              "#7201a8"
             ],
             [
              0.3333333333333333,
              "#9c179e"
             ],
             [
              0.4444444444444444,
              "#bd3786"
             ],
             [
              0.5555555555555556,
              "#d8576b"
             ],
             [
              0.6666666666666666,
              "#ed7953"
             ],
             [
              0.7777777777777778,
              "#fb9f3a"
             ],
             [
              0.8888888888888888,
              "#fdca26"
             ],
             [
              1,
              "#f0f921"
             ]
            ],
            "type": "heatmapgl"
           }
          ],
          "histogram": [
           {
            "marker": {
             "pattern": {
              "fillmode": "overlay",
              "size": 10,
              "solidity": 0.2
             }
            },
            "type": "histogram"
           }
          ],
          "histogram2d": [
           {
            "colorbar": {
             "outlinewidth": 0,
             "ticks": ""
            },
            "colorscale": [
             [
              0,
              "#0d0887"
             ],
             [
              0.1111111111111111,
              "#46039f"
             ],
             [
              0.2222222222222222,
              "#7201a8"
             ],
             [
              0.3333333333333333,
              "#9c179e"
             ],
             [
              0.4444444444444444,
              "#bd3786"
             ],
             [
              0.5555555555555556,
              "#d8576b"
             ],
             [
              0.6666666666666666,
              "#ed7953"
             ],
             [
              0.7777777777777778,
              "#fb9f3a"
             ],
             [
              0.8888888888888888,
              "#fdca26"
             ],
             [
              1,
              "#f0f921"
             ]
            ],
            "type": "histogram2d"
           }
          ],
          "histogram2dcontour": [
           {
            "colorbar": {
             "outlinewidth": 0,
             "ticks": ""
            },
            "colorscale": [
             [
              0,
              "#0d0887"
             ],
             [
              0.1111111111111111,
              "#46039f"
             ],
             [
              0.2222222222222222,
              "#7201a8"
             ],
             [
              0.3333333333333333,
              "#9c179e"
             ],
             [
              0.4444444444444444,
              "#bd3786"
             ],
             [
              0.5555555555555556,
              "#d8576b"
             ],
             [
              0.6666666666666666,
              "#ed7953"
             ],
             [
              0.7777777777777778,
              "#fb9f3a"
             ],
             [
              0.8888888888888888,
              "#fdca26"
             ],
             [
              1,
              "#f0f921"
             ]
            ],
            "type": "histogram2dcontour"
           }
          ],
          "mesh3d": [
           {
            "colorbar": {
             "outlinewidth": 0,
             "ticks": ""
            },
            "type": "mesh3d"
           }
          ],
          "parcoords": [
           {
            "line": {
             "colorbar": {
              "outlinewidth": 0,
              "ticks": ""
             }
            },
            "type": "parcoords"
           }
          ],
          "pie": [
           {
            "automargin": true,
            "type": "pie"
           }
          ],
          "scatter": [
           {
            "marker": {
             "line": {
              "color": "#283442"
             }
            },
            "type": "scatter"
           }
          ],
          "scatter3d": [
           {
            "line": {
             "colorbar": {
              "outlinewidth": 0,
              "ticks": ""
             }
            },
            "marker": {
             "colorbar": {
              "outlinewidth": 0,
              "ticks": ""
             }
            },
            "type": "scatter3d"
           }
          ],
          "scattercarpet": [
           {
            "marker": {
             "colorbar": {
              "outlinewidth": 0,
              "ticks": ""
             }
            },
            "type": "scattercarpet"
           }
          ],
          "scattergeo": [
           {
            "marker": {
             "colorbar": {
              "outlinewidth": 0,
              "ticks": ""
             }
            },
            "type": "scattergeo"
           }
          ],
          "scattergl": [
           {
            "marker": {
             "line": {
              "color": "#283442"
             }
            },
            "type": "scattergl"
           }
          ],
          "scattermapbox": [
           {
            "marker": {
             "colorbar": {
              "outlinewidth": 0,
              "ticks": ""
             }
            },
            "type": "scattermapbox"
           }
          ],
          "scatterpolar": [
           {
            "marker": {
             "colorbar": {
              "outlinewidth": 0,
              "ticks": ""
             }
            },
            "type": "scatterpolar"
           }
          ],
          "scatterpolargl": [
           {
            "marker": {
             "colorbar": {
              "outlinewidth": 0,
              "ticks": ""
             }
            },
            "type": "scatterpolargl"
           }
          ],
          "scatterternary": [
           {
            "marker": {
             "colorbar": {
              "outlinewidth": 0,
              "ticks": ""
             }
            },
            "type": "scatterternary"
           }
          ],
          "surface": [
           {
            "colorbar": {
             "outlinewidth": 0,
             "ticks": ""
            },
            "colorscale": [
             [
              0,
              "#0d0887"
             ],
             [
              0.1111111111111111,
              "#46039f"
             ],
             [
              0.2222222222222222,
              "#7201a8"
             ],
             [
              0.3333333333333333,
              "#9c179e"
             ],
             [
              0.4444444444444444,
              "#bd3786"
             ],
             [
              0.5555555555555556,
              "#d8576b"
             ],
             [
              0.6666666666666666,
              "#ed7953"
             ],
             [
              0.7777777777777778,
              "#fb9f3a"
             ],
             [
              0.8888888888888888,
              "#fdca26"
             ],
             [
              1,
              "#f0f921"
             ]
            ],
            "type": "surface"
           }
          ],
          "table": [
           {
            "cells": {
             "fill": {
              "color": "#506784"
             },
             "line": {
              "color": "rgb(17,17,17)"
             }
            },
            "header": {
             "fill": {
              "color": "#2a3f5f"
             },
             "line": {
              "color": "rgb(17,17,17)"
             }
            },
            "type": "table"
           }
          ]
         },
         "layout": {
          "annotationdefaults": {
           "arrowcolor": "#f2f5fa",
           "arrowhead": 0,
           "arrowwidth": 1
          },
          "autotypenumbers": "strict",
          "coloraxis": {
           "colorbar": {
            "outlinewidth": 0,
            "ticks": ""
           }
          },
          "colorscale": {
           "diverging": [
            [
             0,
             "#8e0152"
            ],
            [
             0.1,
             "#c51b7d"
            ],
            [
             0.2,
             "#de77ae"
            ],
            [
             0.3,
             "#f1b6da"
            ],
            [
             0.4,
             "#fde0ef"
            ],
            [
             0.5,
             "#f7f7f7"
            ],
            [
             0.6,
             "#e6f5d0"
            ],
            [
             0.7,
             "#b8e186"
            ],
            [
             0.8,
             "#7fbc41"
            ],
            [
             0.9,
             "#4d9221"
            ],
            [
             1,
             "#276419"
            ]
           ],
           "sequential": [
            [
             0,
             "#0d0887"
            ],
            [
             0.1111111111111111,
             "#46039f"
            ],
            [
             0.2222222222222222,
             "#7201a8"
            ],
            [
             0.3333333333333333,
             "#9c179e"
            ],
            [
             0.4444444444444444,
             "#bd3786"
            ],
            [
             0.5555555555555556,
             "#d8576b"
            ],
            [
             0.6666666666666666,
             "#ed7953"
            ],
            [
             0.7777777777777778,
             "#fb9f3a"
            ],
            [
             0.8888888888888888,
             "#fdca26"
            ],
            [
             1,
             "#f0f921"
            ]
           ],
           "sequentialminus": [
            [
             0,
             "#0d0887"
            ],
            [
             0.1111111111111111,
             "#46039f"
            ],
            [
             0.2222222222222222,
             "#7201a8"
            ],
            [
             0.3333333333333333,
             "#9c179e"
            ],
            [
             0.4444444444444444,
             "#bd3786"
            ],
            [
             0.5555555555555556,
             "#d8576b"
            ],
            [
             0.6666666666666666,
             "#ed7953"
            ],
            [
             0.7777777777777778,
             "#fb9f3a"
            ],
            [
             0.8888888888888888,
             "#fdca26"
            ],
            [
             1,
             "#f0f921"
            ]
           ]
          },
          "colorway": [
           "#636efa",
           "#EF553B",
           "#00cc96",
           "#ab63fa",
           "#FFA15A",
           "#19d3f3",
           "#FF6692",
           "#B6E880",
           "#FF97FF",
           "#FECB52"
          ],
          "font": {
           "color": "#f2f5fa"
          },
          "geo": {
           "bgcolor": "rgb(17,17,17)",
           "lakecolor": "rgb(17,17,17)",
           "landcolor": "rgb(17,17,17)",
           "showlakes": true,
           "showland": true,
           "subunitcolor": "#506784"
          },
          "hoverlabel": {
           "align": "left"
          },
          "hovermode": "closest",
          "mapbox": {
           "style": "dark"
          },
          "paper_bgcolor": "rgb(17,17,17)",
          "plot_bgcolor": "rgb(17,17,17)",
          "polar": {
           "angularaxis": {
            "gridcolor": "#506784",
            "linecolor": "#506784",
            "ticks": ""
           },
           "bgcolor": "rgb(17,17,17)",
           "radialaxis": {
            "gridcolor": "#506784",
            "linecolor": "#506784",
            "ticks": ""
           }
          },
          "scene": {
           "xaxis": {
            "backgroundcolor": "rgb(17,17,17)",
            "gridcolor": "#506784",
            "gridwidth": 2,
            "linecolor": "#506784",
            "showbackground": true,
            "ticks": "",
            "zerolinecolor": "#C8D4E3"
           },
           "yaxis": {
            "backgroundcolor": "rgb(17,17,17)",
            "gridcolor": "#506784",
            "gridwidth": 2,
            "linecolor": "#506784",
            "showbackground": true,
            "ticks": "",
            "zerolinecolor": "#C8D4E3"
           },
           "zaxis": {
            "backgroundcolor": "rgb(17,17,17)",
            "gridcolor": "#506784",
            "gridwidth": 2,
            "linecolor": "#506784",
            "showbackground": true,
            "ticks": "",
            "zerolinecolor": "#C8D4E3"
           }
          },
          "shapedefaults": {
           "line": {
            "color": "#f2f5fa"
           }
          },
          "sliderdefaults": {
           "bgcolor": "#C8D4E3",
           "bordercolor": "rgb(17,17,17)",
           "borderwidth": 1,
           "tickwidth": 0
          },
          "ternary": {
           "aaxis": {
            "gridcolor": "#506784",
            "linecolor": "#506784",
            "ticks": ""
           },
           "baxis": {
            "gridcolor": "#506784",
            "linecolor": "#506784",
            "ticks": ""
           },
           "bgcolor": "rgb(17,17,17)",
           "caxis": {
            "gridcolor": "#506784",
            "linecolor": "#506784",
            "ticks": ""
           }
          },
          "title": {
           "x": 0.05
          },
          "updatemenudefaults": {
           "bgcolor": "#506784",
           "borderwidth": 0
          },
          "xaxis": {
           "automargin": true,
           "gridcolor": "#283442",
           "linecolor": "#506784",
           "ticks": "",
           "title": {
            "standoff": 15
           },
           "zerolinecolor": "#283442",
           "zerolinewidth": 2
          },
          "yaxis": {
           "automargin": true,
           "gridcolor": "#283442",
           "linecolor": "#506784",
           "ticks": "",
           "title": {
            "standoff": 15
           },
           "zerolinecolor": "#283442",
           "zerolinewidth": 2
          }
         }
        },
        "title": {
         "text": "Clustering quality measurement of all methods with silhouette score (not normalized data)"
        },
        "xaxis": {
         "dtick": [
          2,
          12
         ],
         "rangeslider": {
          "visible": false
         },
         "title": {
          "text": "n_clusters"
         }
        }
       }
      }
     },
     "metadata": {},
     "output_type": "display_data"
    }
   ],
   "source": [
    "df = pd.read_csv(\"./dash_app/datasets/method_quality.csv\", sep=\";\", index_col=\"n_clusters\")\n",
    "\n",
    "fig = go.Figure()\n",
    "plot_title = \"Clustering quality measurement of all methods with silhouette score (not normalized data)\"\n",
    "# Loop dataframe columns and plot columns to the figure\n",
    "for i in range(0, len(df.columns)):\n",
    "    col_name = df.columns.values[i]\n",
    "    fig.add_trace(go.Scatter(x=df.index, y=df[col_name], mode='lines', name=col_name))\n",
    "fig.update_xaxes(title_text=\"n_clusters\", dtick=[2,len(df.index)+1])\n",
    "fig.update_layout(xaxis_rangeslider_visible=False)\n",
    "fig.update_layout(title_text=plot_title, template=\"plotly_dark\", height=500)\n",
    "fig.show()"
   ]
  },
  {
   "cell_type": "markdown",
   "metadata": {},
   "source": [
    "Results for normalized data:"
   ]
  },
  {
   "cell_type": "code",
   "execution_count": 38,
   "metadata": {},
   "outputs": [
    {
     "data": {
      "application/vnd.plotly.v1+json": {
       "config": {
        "plotlyServerURL": "https://plot.ly"
       },
       "data": [
        {
         "mode": "lines",
         "name": "KMeans euclidean",
         "type": "scatter",
         "x": [
          2,
          3,
          4,
          5,
          6,
          7,
          8,
          9,
          10,
          11,
          12
         ],
         "y": [
          0.4311868575045273,
          0.325827125586881,
          0.2575562280935564,
          0.2668571829172682,
          0.2391806775077681,
          0.2434989596162743,
          0.1938015229828409,
          0.2122109509883575,
          0.2012490430736426,
          0.2061235794960393,
          0.1835332408977157
         ]
        },
        {
         "mode": "lines",
         "name": "KMeans dtw",
         "type": "scatter",
         "x": [
          2,
          3,
          4,
          5,
          6,
          7,
          8,
          9,
          10,
          11,
          12
         ],
         "y": [
          0.3976955414442947,
          0.3088252913024094,
          0.2238376574226514,
          0.2100654261943643,
          0.1845441099646613,
          0.1686832924548861,
          0.1545942498221175,
          0.1288788614438069,
          0.0772939870375443,
          0.0723724385598322,
          0.0748770729708146
         ]
        },
        {
         "mode": "lines",
         "name": "KMeans soft dtw",
         "type": "scatter",
         "x": [
          2,
          3,
          4,
          5,
          6,
          7,
          8,
          9,
          10,
          11,
          12
         ],
         "y": [
          0.4191468142187265,
          0.30343567780247,
          0.2295310387725896,
          0.2041164128301227,
          0.2164926890970591,
          0.1852406556097163,
          0.1766873992946049,
          0.1714311666382393,
          0.1668315886030738,
          0.1260769192359629,
          0.0948562966977526
         ]
        },
        {
         "mode": "lines",
         "name": "KernelMeans",
         "type": "scatter",
         "x": [
          2,
          3,
          4,
          5,
          6,
          7,
          8,
          9,
          10,
          11,
          12
         ],
         "y": [
          0.3910255206302976,
          0.3145841306369787,
          0.2682388193603939,
          0.2631965040210305,
          0.2224125413603898,
          0.1949434793701712,
          0.1923867270654,
          0.2022802909854905,
          0.1999959275415378,
          0.1822450299716098,
          0.1963781738860661
         ]
        },
        {
         "mode": "lines",
         "name": "KShape",
         "type": "scatter",
         "x": [
          2,
          3,
          4,
          5,
          6,
          7,
          8,
          9,
          10,
          11,
          12
         ],
         "y": [
          0.2313708516521516,
          0.0480398716678183,
          0.0104138805121236,
          0.0468185706285998,
          -0.0595534246907039,
          -0.0104404038969098,
          -0.126453309218662,
          -0.0045556904874001,
          0.0524402061203338,
          -0.1946036183197126,
          -0.1273833359031355
         ]
        }
       ],
       "layout": {
        "height": 500,
        "template": {
         "data": {
          "bar": [
           {
            "error_x": {
             "color": "#f2f5fa"
            },
            "error_y": {
             "color": "#f2f5fa"
            },
            "marker": {
             "line": {
              "color": "rgb(17,17,17)",
              "width": 0.5
             },
             "pattern": {
              "fillmode": "overlay",
              "size": 10,
              "solidity": 0.2
             }
            },
            "type": "bar"
           }
          ],
          "barpolar": [
           {
            "marker": {
             "line": {
              "color": "rgb(17,17,17)",
              "width": 0.5
             },
             "pattern": {
              "fillmode": "overlay",
              "size": 10,
              "solidity": 0.2
             }
            },
            "type": "barpolar"
           }
          ],
          "carpet": [
           {
            "aaxis": {
             "endlinecolor": "#A2B1C6",
             "gridcolor": "#506784",
             "linecolor": "#506784",
             "minorgridcolor": "#506784",
             "startlinecolor": "#A2B1C6"
            },
            "baxis": {
             "endlinecolor": "#A2B1C6",
             "gridcolor": "#506784",
             "linecolor": "#506784",
             "minorgridcolor": "#506784",
             "startlinecolor": "#A2B1C6"
            },
            "type": "carpet"
           }
          ],
          "choropleth": [
           {
            "colorbar": {
             "outlinewidth": 0,
             "ticks": ""
            },
            "type": "choropleth"
           }
          ],
          "contour": [
           {
            "colorbar": {
             "outlinewidth": 0,
             "ticks": ""
            },
            "colorscale": [
             [
              0,
              "#0d0887"
             ],
             [
              0.1111111111111111,
              "#46039f"
             ],
             [
              0.2222222222222222,
              "#7201a8"
             ],
             [
              0.3333333333333333,
              "#9c179e"
             ],
             [
              0.4444444444444444,
              "#bd3786"
             ],
             [
              0.5555555555555556,
              "#d8576b"
             ],
             [
              0.6666666666666666,
              "#ed7953"
             ],
             [
              0.7777777777777778,
              "#fb9f3a"
             ],
             [
              0.8888888888888888,
              "#fdca26"
             ],
             [
              1,
              "#f0f921"
             ]
            ],
            "type": "contour"
           }
          ],
          "contourcarpet": [
           {
            "colorbar": {
             "outlinewidth": 0,
             "ticks": ""
            },
            "type": "contourcarpet"
           }
          ],
          "heatmap": [
           {
            "colorbar": {
             "outlinewidth": 0,
             "ticks": ""
            },
            "colorscale": [
             [
              0,
              "#0d0887"
             ],
             [
              0.1111111111111111,
              "#46039f"
             ],
             [
              0.2222222222222222,
              "#7201a8"
             ],
             [
              0.3333333333333333,
              "#9c179e"
             ],
             [
              0.4444444444444444,
              "#bd3786"
             ],
             [
              0.5555555555555556,
              "#d8576b"
             ],
             [
              0.6666666666666666,
              "#ed7953"
             ],
             [
              0.7777777777777778,
              "#fb9f3a"
             ],
             [
              0.8888888888888888,
              "#fdca26"
             ],
             [
              1,
              "#f0f921"
             ]
            ],
            "type": "heatmap"
           }
          ],
          "heatmapgl": [
           {
            "colorbar": {
             "outlinewidth": 0,
             "ticks": ""
            },
            "colorscale": [
             [
              0,
              "#0d0887"
             ],
             [
              0.1111111111111111,
              "#46039f"
             ],
             [
              0.2222222222222222,
              "#7201a8"
             ],
             [
              0.3333333333333333,
              "#9c179e"
             ],
             [
              0.4444444444444444,
              "#bd3786"
             ],
             [
              0.5555555555555556,
              "#d8576b"
             ],
             [
              0.6666666666666666,
              "#ed7953"
             ],
             [
              0.7777777777777778,
              "#fb9f3a"
             ],
             [
              0.8888888888888888,
              "#fdca26"
             ],
             [
              1,
              "#f0f921"
             ]
            ],
            "type": "heatmapgl"
           }
          ],
          "histogram": [
           {
            "marker": {
             "pattern": {
              "fillmode": "overlay",
              "size": 10,
              "solidity": 0.2
             }
            },
            "type": "histogram"
           }
          ],
          "histogram2d": [
           {
            "colorbar": {
             "outlinewidth": 0,
             "ticks": ""
            },
            "colorscale": [
             [
              0,
              "#0d0887"
             ],
             [
              0.1111111111111111,
              "#46039f"
             ],
             [
              0.2222222222222222,
              "#7201a8"
             ],
             [
              0.3333333333333333,
              "#9c179e"
             ],
             [
              0.4444444444444444,
              "#bd3786"
             ],
             [
              0.5555555555555556,
              "#d8576b"
             ],
             [
              0.6666666666666666,
              "#ed7953"
             ],
             [
              0.7777777777777778,
              "#fb9f3a"
             ],
             [
              0.8888888888888888,
              "#fdca26"
             ],
             [
              1,
              "#f0f921"
             ]
            ],
            "type": "histogram2d"
           }
          ],
          "histogram2dcontour": [
           {
            "colorbar": {
             "outlinewidth": 0,
             "ticks": ""
            },
            "colorscale": [
             [
              0,
              "#0d0887"
             ],
             [
              0.1111111111111111,
              "#46039f"
             ],
             [
              0.2222222222222222,
              "#7201a8"
             ],
             [
              0.3333333333333333,
              "#9c179e"
             ],
             [
              0.4444444444444444,
              "#bd3786"
             ],
             [
              0.5555555555555556,
              "#d8576b"
             ],
             [
              0.6666666666666666,
              "#ed7953"
             ],
             [
              0.7777777777777778,
              "#fb9f3a"
             ],
             [
              0.8888888888888888,
              "#fdca26"
             ],
             [
              1,
              "#f0f921"
             ]
            ],
            "type": "histogram2dcontour"
           }
          ],
          "mesh3d": [
           {
            "colorbar": {
             "outlinewidth": 0,
             "ticks": ""
            },
            "type": "mesh3d"
           }
          ],
          "parcoords": [
           {
            "line": {
             "colorbar": {
              "outlinewidth": 0,
              "ticks": ""
             }
            },
            "type": "parcoords"
           }
          ],
          "pie": [
           {
            "automargin": true,
            "type": "pie"
           }
          ],
          "scatter": [
           {
            "marker": {
             "line": {
              "color": "#283442"
             }
            },
            "type": "scatter"
           }
          ],
          "scatter3d": [
           {
            "line": {
             "colorbar": {
              "outlinewidth": 0,
              "ticks": ""
             }
            },
            "marker": {
             "colorbar": {
              "outlinewidth": 0,
              "ticks": ""
             }
            },
            "type": "scatter3d"
           }
          ],
          "scattercarpet": [
           {
            "marker": {
             "colorbar": {
              "outlinewidth": 0,
              "ticks": ""
             }
            },
            "type": "scattercarpet"
           }
          ],
          "scattergeo": [
           {
            "marker": {
             "colorbar": {
              "outlinewidth": 0,
              "ticks": ""
             }
            },
            "type": "scattergeo"
           }
          ],
          "scattergl": [
           {
            "marker": {
             "line": {
              "color": "#283442"
             }
            },
            "type": "scattergl"
           }
          ],
          "scattermapbox": [
           {
            "marker": {
             "colorbar": {
              "outlinewidth": 0,
              "ticks": ""
             }
            },
            "type": "scattermapbox"
           }
          ],
          "scatterpolar": [
           {
            "marker": {
             "colorbar": {
              "outlinewidth": 0,
              "ticks": ""
             }
            },
            "type": "scatterpolar"
           }
          ],
          "scatterpolargl": [
           {
            "marker": {
             "colorbar": {
              "outlinewidth": 0,
              "ticks": ""
             }
            },
            "type": "scatterpolargl"
           }
          ],
          "scatterternary": [
           {
            "marker": {
             "colorbar": {
              "outlinewidth": 0,
              "ticks": ""
             }
            },
            "type": "scatterternary"
           }
          ],
          "surface": [
           {
            "colorbar": {
             "outlinewidth": 0,
             "ticks": ""
            },
            "colorscale": [
             [
              0,
              "#0d0887"
             ],
             [
              0.1111111111111111,
              "#46039f"
             ],
             [
              0.2222222222222222,
              "#7201a8"
             ],
             [
              0.3333333333333333,
              "#9c179e"
             ],
             [
              0.4444444444444444,
              "#bd3786"
             ],
             [
              0.5555555555555556,
              "#d8576b"
             ],
             [
              0.6666666666666666,
              "#ed7953"
             ],
             [
              0.7777777777777778,
              "#fb9f3a"
             ],
             [
              0.8888888888888888,
              "#fdca26"
             ],
             [
              1,
              "#f0f921"
             ]
            ],
            "type": "surface"
           }
          ],
          "table": [
           {
            "cells": {
             "fill": {
              "color": "#506784"
             },
             "line": {
              "color": "rgb(17,17,17)"
             }
            },
            "header": {
             "fill": {
              "color": "#2a3f5f"
             },
             "line": {
              "color": "rgb(17,17,17)"
             }
            },
            "type": "table"
           }
          ]
         },
         "layout": {
          "annotationdefaults": {
           "arrowcolor": "#f2f5fa",
           "arrowhead": 0,
           "arrowwidth": 1
          },
          "autotypenumbers": "strict",
          "coloraxis": {
           "colorbar": {
            "outlinewidth": 0,
            "ticks": ""
           }
          },
          "colorscale": {
           "diverging": [
            [
             0,
             "#8e0152"
            ],
            [
             0.1,
             "#c51b7d"
            ],
            [
             0.2,
             "#de77ae"
            ],
            [
             0.3,
             "#f1b6da"
            ],
            [
             0.4,
             "#fde0ef"
            ],
            [
             0.5,
             "#f7f7f7"
            ],
            [
             0.6,
             "#e6f5d0"
            ],
            [
             0.7,
             "#b8e186"
            ],
            [
             0.8,
             "#7fbc41"
            ],
            [
             0.9,
             "#4d9221"
            ],
            [
             1,
             "#276419"
            ]
           ],
           "sequential": [
            [
             0,
             "#0d0887"
            ],
            [
             0.1111111111111111,
             "#46039f"
            ],
            [
             0.2222222222222222,
             "#7201a8"
            ],
            [
             0.3333333333333333,
             "#9c179e"
            ],
            [
             0.4444444444444444,
             "#bd3786"
            ],
            [
             0.5555555555555556,
             "#d8576b"
            ],
            [
             0.6666666666666666,
             "#ed7953"
            ],
            [
             0.7777777777777778,
             "#fb9f3a"
            ],
            [
             0.8888888888888888,
             "#fdca26"
            ],
            [
             1,
             "#f0f921"
            ]
           ],
           "sequentialminus": [
            [
             0,
             "#0d0887"
            ],
            [
             0.1111111111111111,
             "#46039f"
            ],
            [
             0.2222222222222222,
             "#7201a8"
            ],
            [
             0.3333333333333333,
             "#9c179e"
            ],
            [
             0.4444444444444444,
             "#bd3786"
            ],
            [
             0.5555555555555556,
             "#d8576b"
            ],
            [
             0.6666666666666666,
             "#ed7953"
            ],
            [
             0.7777777777777778,
             "#fb9f3a"
            ],
            [
             0.8888888888888888,
             "#fdca26"
            ],
            [
             1,
             "#f0f921"
            ]
           ]
          },
          "colorway": [
           "#636efa",
           "#EF553B",
           "#00cc96",
           "#ab63fa",
           "#FFA15A",
           "#19d3f3",
           "#FF6692",
           "#B6E880",
           "#FF97FF",
           "#FECB52"
          ],
          "font": {
           "color": "#f2f5fa"
          },
          "geo": {
           "bgcolor": "rgb(17,17,17)",
           "lakecolor": "rgb(17,17,17)",
           "landcolor": "rgb(17,17,17)",
           "showlakes": true,
           "showland": true,
           "subunitcolor": "#506784"
          },
          "hoverlabel": {
           "align": "left"
          },
          "hovermode": "closest",
          "mapbox": {
           "style": "dark"
          },
          "paper_bgcolor": "rgb(17,17,17)",
          "plot_bgcolor": "rgb(17,17,17)",
          "polar": {
           "angularaxis": {
            "gridcolor": "#506784",
            "linecolor": "#506784",
            "ticks": ""
           },
           "bgcolor": "rgb(17,17,17)",
           "radialaxis": {
            "gridcolor": "#506784",
            "linecolor": "#506784",
            "ticks": ""
           }
          },
          "scene": {
           "xaxis": {
            "backgroundcolor": "rgb(17,17,17)",
            "gridcolor": "#506784",
            "gridwidth": 2,
            "linecolor": "#506784",
            "showbackground": true,
            "ticks": "",
            "zerolinecolor": "#C8D4E3"
           },
           "yaxis": {
            "backgroundcolor": "rgb(17,17,17)",
            "gridcolor": "#506784",
            "gridwidth": 2,
            "linecolor": "#506784",
            "showbackground": true,
            "ticks": "",
            "zerolinecolor": "#C8D4E3"
           },
           "zaxis": {
            "backgroundcolor": "rgb(17,17,17)",
            "gridcolor": "#506784",
            "gridwidth": 2,
            "linecolor": "#506784",
            "showbackground": true,
            "ticks": "",
            "zerolinecolor": "#C8D4E3"
           }
          },
          "shapedefaults": {
           "line": {
            "color": "#f2f5fa"
           }
          },
          "sliderdefaults": {
           "bgcolor": "#C8D4E3",
           "bordercolor": "rgb(17,17,17)",
           "borderwidth": 1,
           "tickwidth": 0
          },
          "ternary": {
           "aaxis": {
            "gridcolor": "#506784",
            "linecolor": "#506784",
            "ticks": ""
           },
           "baxis": {
            "gridcolor": "#506784",
            "linecolor": "#506784",
            "ticks": ""
           },
           "bgcolor": "rgb(17,17,17)",
           "caxis": {
            "gridcolor": "#506784",
            "linecolor": "#506784",
            "ticks": ""
           }
          },
          "title": {
           "x": 0.05
          },
          "updatemenudefaults": {
           "bgcolor": "#506784",
           "borderwidth": 0
          },
          "xaxis": {
           "automargin": true,
           "gridcolor": "#283442",
           "linecolor": "#506784",
           "ticks": "",
           "title": {
            "standoff": 15
           },
           "zerolinecolor": "#283442",
           "zerolinewidth": 2
          },
          "yaxis": {
           "automargin": true,
           "gridcolor": "#283442",
           "linecolor": "#506784",
           "ticks": "",
           "title": {
            "standoff": 15
           },
           "zerolinecolor": "#283442",
           "zerolinewidth": 2
          }
         }
        },
        "title": {
         "text": "Clustering quality measurement of all methods with silhouette score (normalized data)"
        },
        "xaxis": {
         "dtick": [
          2,
          12
         ],
         "rangeslider": {
          "visible": false
         },
         "title": {
          "text": "n_clusters"
         }
        }
       }
      }
     },
     "metadata": {},
     "output_type": "display_data"
    }
   ],
   "source": [
    "df = pd.read_csv(\"./dash_app/datasets/method_quality_norm.csv\", sep=\";\", index_col=\"n_clusters\")\n",
    "\n",
    "fig = go.Figure()\n",
    "plot_title = \"Clustering quality measurement of all methods with silhouette score (normalized data)\"\n",
    "# Loop dataframe columns and plot columns to the figure\n",
    "for i in range(0, len(df.columns)):\n",
    "    col_name = df.columns.values[i]\n",
    "    fig.add_trace(go.Scatter(x=df.index, y=df[col_name], mode='lines', name=col_name))#, line_shape=\"spline\"))\n",
    "fig.update_xaxes(title_text=\"n_clusters\", dtick=[2,len(df.index)+1])\n",
    "fig.update_layout(xaxis_rangeslider_visible=False)\n",
    "fig.update_layout(title_text=plot_title, template=\"plotly_dark\", height=500)\n",
    "fig.show()"
   ]
  },
  {
   "cell_type": "markdown",
   "metadata": {},
   "source": [
    "### Some results of the quality assessment:"
   ]
  },
  {
   "cell_type": "markdown",
   "metadata": {},
   "source": [
    "- KMeans euclidean is very fast and performs well\n",
    "- KernelMeans performs well only on the normalized data\n",
    "- Soft dtw is slow on the unnormalized data\n",
    "- KShape behaves pretty randomly\n",
    "- Silhouette score decreases with n_clusters increasing\n",
    "- The correlation mean score increases with n_clusters on normalized data"
   ]
  },
  {
   "cell_type": "markdown",
   "metadata": {},
   "source": [
    "### Some results of the seasonality-clustering:"
   ]
  },
  {
   "cell_type": "markdown",
   "metadata": {},
   "source": [
    "There are several typical clusters of page impressions:\n",
    "  - Relatively low throughout the year and high before christmas (Spielzeug-Fahrzeuge, Kuscheltiere)\n",
    "  - High in winter (Skihelme & Snowboardhelme, Thermostate)\n",
    "  - High in summer (Gartenschläuche, Motorsensen, Sonnenpflege, Sonnenschirme)\n",
    "  - High before summer (Gartenstühle, Fahrradschlösser, Dünger)\n",
    "  - High around easter and before christmas (Kinderroller)\n",
    "  - No suitable clusters (Autobatterien, Steuersoftware)"
   ]
  },
  {
   "cell_type": "markdown",
   "metadata": {},
   "source": [
    "### Some general results"
   ]
  },
  {
   "cell_type": "markdown",
   "metadata": {},
   "source": [
    "- The conversion rate does not have a strong seasonal component\n",
    "- Only a few categories have recognizable CR-seasonality and form good clusters (e.g. pharmaceuticals with cluster-correltion 0.86: Augen-, Ohren-, Nasenmedikamente; Homöopathie; Magen-, Darm-Medikamente; Schmerzmittel) -> https://seasonality-clustering.herokuapp.com/pages/clustering_cr: TimeseriesKMeans, euclidean, n_clusters = 12, cluster = 8 \n",
    "- Categories differ strongly in mean conversion rate\n",
    "- Page impressions (clicks) are highest in November and lowest in February\n",
    "- Lead-out numbers over all are constant during the year and high before christmas\n",
    "- Best e-Commerce month is November\n",
    "- In January people are looking, not buying\n"
   ]
  }
 ],
 "metadata": {
  "interpreter": {
   "hash": "5e742f88242f45b30ce6835b1b2d6d0a77dc4d2dc8161ee0e1014deb2ad3e15d"
  },
  "kernelspec": {
   "display_name": "Python 3.9.12 ('base')",
   "language": "python",
   "name": "python3"
  },
  "language_info": {
   "codemirror_mode": {
    "name": "ipython",
    "version": 3
   },
   "file_extension": ".py",
   "mimetype": "text/x-python",
   "name": "python",
   "nbconvert_exporter": "python",
   "pygments_lexer": "ipython3",
   "version": "3.9.12"
  }
 },
 "nbformat": 4,
 "nbformat_minor": 4
}
